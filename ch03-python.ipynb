{
 "cells": [
  {
   "cell_type": "markdown",
   "id": "4bb899ba",
   "metadata": {},
   "source": [
    "# \"CH03. 프로그램의 구조를 쌓는다! 제어문\"\n",
    "> if, while, for\n",
    "\n",
    "- toc: false\n",
    "- badges: false\n",
    "- comments: false\n",
    "- categories: [python]\n",
    "- hide_{github,colab,binder,deepnote}_badge: true"
   ]
  },
  {
   "cell_type": "markdown",
   "id": "4b503cdc",
   "metadata": {},
   "source": [
    "# if문\n",
    "\n",
    "1. if문의 기본구조\n",
    "2. 조건문이란 무엇인가?\n",
    "    - 비교연산자\n",
    "    - and, or, not\n",
    "3. 다양한 조건을 판단하는 elif"
   ]
  },
  {
   "cell_type": "markdown",
   "id": "09521f42",
   "metadata": {},
   "source": [
    "아마도 가장 잘 알려진 문장 형은 if 문일 것이다."
   ]
  },
  {
   "cell_type": "markdown",
   "id": "878e7055",
   "metadata": {},
   "source": [
    "### if문의 기본 구조"
   ]
  },
  {
   "cell_type": "markdown",
   "id": "1945898a",
   "metadata": {},
   "source": [
    "다음은 if와 else를 사용한 조건문의 기본 구조이다."
   ]
  },
  {
   "cell_type": "markdown",
   "id": "13863aa5",
   "metadata": {},
   "source": [
    "```\n",
    "if 조건문:\n",
    "    수행할 문장1\n",
    "    수행할 문장2\n",
    "    ...\n",
    "else:\n",
    "    수행할 문장A\n",
    "    수행할 문장B\n",
    "    ...\n",
    "```"
   ]
  },
  {
   "cell_type": "markdown",
   "id": "b32791fe",
   "metadata": {},
   "source": [
    "### 조건문이란 무엇인가?"
   ]
  },
  {
   "cell_type": "markdown",
   "id": "a1792925",
   "metadata": {},
   "source": [
    "**if 조건문**에서 \"조건문\"이란 참과 거짓을 판단하는 문장을 말한다."
   ]
  },
  {
   "cell_type": "markdown",
   "id": "6c2f5b71",
   "metadata": {},
   "source": [
    "- **비교연산자**"
   ]
  },
  {
   "cell_type": "markdown",
   "id": "ec46f78c",
   "metadata": {},
   "source": [
    "이번에는 조건문에서 비교연산자(`<`, `>`, `==`, `!=`, `>=`, `<=`)관련 예시를 봐보자."
   ]
  },
  {
   "cell_type": "markdown",
   "id": "90e8d23b",
   "metadata": {},
   "source": [
    "> 택시 예제) \"만약 3000원 이상의 돈을 가지고 있으면 택시를 타고 그렇지 않으면 걸어 가라.\""
   ]
  },
  {
   "cell_type": "code",
   "execution_count": 1,
   "id": "67a101b9",
   "metadata": {},
   "outputs": [
    {
     "name": "stdout",
     "output_type": "stream",
     "text": [
      "걸어가라\n"
     ]
    }
   ],
   "source": [
    "money = 2000\n",
    "if money >= 3000:\n",
    "    print(\"택시를 타고 가라\")\n",
    "else:\n",
    "    print(\"걸어가라\")"
   ]
  },
  {
   "cell_type": "markdown",
   "id": "9eff7dad",
   "metadata": {},
   "source": [
    "`money >= 3000`조건문이 거짓이 되기 때문에 else문 다음 문장을 수행하게 된다."
   ]
  },
  {
   "cell_type": "markdown",
   "id": "5f4d1b18",
   "metadata": {},
   "source": [
    "- **and, or, not**"
   ]
  },
  {
   "cell_type": "markdown",
   "id": "fd2ebadf",
   "metadata": {},
   "source": [
    "조건을 판단하기 위해 사용하는 다른 연산자로는 and, or, not이 있다.\n",
    "\n",
    "다음 예시를 통해 or연산자의 사용법을 알아보자."
   ]
  },
  {
   "cell_type": "markdown",
   "id": "cd449f2b",
   "metadata": {},
   "source": [
    "> 택시 \n",
    "\n",
    "예제2) \"돈이 3000원 이상 있거나 카드가 있다면 택시를 타고 그렇지 않으면 걸어 가라.\""
   ]
  },
  {
   "cell_type": "code",
   "execution_count": 2,
   "id": "ea180674",
   "metadata": {},
   "outputs": [
    {
     "name": "stdout",
     "output_type": "stream",
     "text": [
      "택시를 타고 가라\n"
     ]
    }
   ],
   "source": [
    "money = 2000\n",
    "card = True\n",
    "if money >= 3000 or card:\n",
    "    print(\"택시를 타고 가라\")\n",
    "else:\n",
    "    print(\"걸어가라\")"
   ]
  },
  {
   "cell_type": "markdown",
   "id": "7ea4c6ba",
   "metadata": {},
   "source": [
    "money는 2000이지만 card가 True이기 때문에 `money >= 3000 or card` 조건문이 참이 된다. \n",
    "\n",
    "따라서 if문 다음 ‘택시를 타고 가라’ 문장이 출력된다."
   ]
  },
  {
   "cell_type": "markdown",
   "id": "100c7dbb",
   "metadata": {},
   "source": [
    "### 다양한 조건을 판단하는 elif"
   ]
  },
  {
   "cell_type": "markdown",
   "id": "a2f0bd03",
   "metadata": {},
   "source": [
    "if와 else만으로는 다양한 조건을 판단하기 어렵다. \n",
    "\n",
    "다음 예를 보더라도 if와 else만으로는 조건을 판단하는 데 어려움을 겪게 된다."
   ]
  },
  {
   "cell_type": "markdown",
   "id": "25c74b48",
   "metadata": {},
   "source": [
    "> \"주머니에 돈이 있으면 택시를 타고, 주머니에 돈은 없지만 카드가 있으면 택시를 타고, 돈도 없고 카드도 없으면 걸어 가라.\""
   ]
  },
  {
   "cell_type": "markdown",
   "id": "26a14592",
   "metadata": {},
   "source": [
    "위 문장을 보면 조건을 판단하는 부분이 두 군데가 있다. \n",
    "\n",
    "먼저 주머니에 돈이 있는지를 판단해야 하고 주머니에 돈이 없으면 다시 카드가 있는지 판단해야 한다.\n",
    "\n",
    "if와 else만으로 위 문장을 표현하려면 다음과 같이 할 수 있다.\n"
   ]
  },
  {
   "cell_type": "code",
   "execution_count": 3,
   "id": "aeb7238f",
   "metadata": {},
   "outputs": [
    {
     "name": "stdout",
     "output_type": "stream",
     "text": [
      "카드가 있어서 택시를 타고간다.\n"
     ]
    }
   ],
   "source": [
    "pocket = ['paper', 'handphone']\n",
    "card = True\n",
    "if 'money' in pocket:\n",
    "    print(\"돈이 주머니에 있어서 택시를 타고간다.\")\n",
    "else:\n",
    "    if card:\n",
    "        print(\"카드가 있어서 택시를 타고간다.\")\n",
    "    else:\n",
    "        print(\"돈도 없고 카드도 없으니까 걸어간다.\")"
   ]
  },
  {
   "cell_type": "markdown",
   "id": "35ff2751",
   "metadata": {},
   "source": [
    "언뜻 보기에도 이해하기 어렵고 산만한 느낌이 든다. \n",
    "\n",
    "**이런 복잡함을 해결하기 위해 파이썬에서는 다중 조건 판단을 가능하게 하는 <span style=\"color: red\">elif</span>를 사용한다.**\n",
    "\n",
    "위 예를 `elif`를 사용하면 다음과 같이 바꿀 수 있다.\n"
   ]
  },
  {
   "cell_type": "code",
   "execution_count": 4,
   "id": "75452940",
   "metadata": {},
   "outputs": [
    {
     "name": "stdout",
     "output_type": "stream",
     "text": [
      "카드가 있어서 택시를 타고간다.\n"
     ]
    }
   ],
   "source": [
    "pocket = ['paper', 'handphone']\n",
    "card = True\n",
    "if 'money' in pocket:\n",
    "    print(\"돈이 주머니에 있어서 택시를 타고간다.\")\n",
    "elif card:\n",
    "    print(\"카드가 있어서 택시를 타고간다.\")\n",
    "else:\n",
    "    print(\"돈도 없고 카드도 없으니까 걸어간다.\")"
   ]
  },
  {
   "cell_type": "markdown",
   "id": "343b84ed",
   "metadata": {},
   "source": [
    "즉 elif는 이전 조건문이 거짓일 때 수행된다.\n",
    "\n",
    "**if, elif, else를 모두 사용할 때 기본 구조**는 다음과 같다."
   ]
  },
  {
   "cell_type": "markdown",
   "id": "564a77a3",
   "metadata": {},
   "source": [
    "```\n",
    "If <조건문>:\n",
    "    <수행할 문장1> \n",
    "    <수행할 문장2>\n",
    "    ...\n",
    "elif <조건문>:\n",
    "    <수행할 문장1>\n",
    "    <수행할 문장2>\n",
    "    ...\n",
    "elif <조건문>:\n",
    "    <수행할 문장1>\n",
    "    <수행할 문장2>\n",
    "    ...\n",
    "...\n",
    "else:\n",
    "   <수행할 문장1>\n",
    "   <수행할 문장2>\n",
    "   ... \n",
    "```"
   ]
  },
  {
   "cell_type": "markdown",
   "id": "2a3dc4f1",
   "metadata": {},
   "source": [
    "# While 문\n",
    "\n",
    "1. while문의 기본 구조\n",
    "2. while문 만들기\n",
    "3. while문 강제로 빠져나가기\n",
    "4. while문의 맨 처음으로 돌아가기\n",
    "5. 무한루프"
   ]
  },
  {
   "cell_type": "markdown",
   "id": "32ad2d0c",
   "metadata": {},
   "source": [
    "### While문의 기본 구조"
   ]
  },
  {
   "cell_type": "markdown",
   "id": "f44187f7",
   "metadata": {},
   "source": [
    "\n",
    "다음은 while문의 기본 구조이다.\n",
    "반복해서 문장을 수행해야 할 경우 while문을 사용한다."
   ]
  },
  {
   "cell_type": "markdown",
   "id": "a2fd78dd",
   "metadata": {},
   "source": [
    "```\n",
    "while <조건문>:\n",
    "    <수행할 문장1>\n",
    "    <수행할 문장2>\n",
    "    <수행할 문장3>\n",
    "    ...\n",
    "```"
   ]
  },
  {
   "cell_type": "markdown",
   "id": "60f58e30",
   "metadata": {},
   "source": [
    "\"열 번 찍어 안 넘어가는 나무 없다\"는 속담을 파이썬 프로그램으로 만든다면 다음과 같이 될 것이다."
   ]
  },
  {
   "cell_type": "code",
   "execution_count": 5,
   "id": "9476e022",
   "metadata": {},
   "outputs": [
    {
     "name": "stdout",
     "output_type": "stream",
     "text": [
      "나무를 1번 찍었습니다.\n",
      "나무를 2번 찍었습니다.\n",
      "나무를 3번 찍었습니다.\n",
      "나무를 4번 찍었습니다.\n",
      "나무를 5번 찍었습니다.\n",
      "나무를 6번 찍었습니다.\n",
      "나무를 7번 찍었습니다.\n",
      "나무를 8번 찍었습니다.\n",
      "나무를 9번 찍었습니다.\n",
      "나무를 10번 찍었습니다.\n",
      "나무 넘어갑니다.\n"
     ]
    }
   ],
   "source": [
    "treeHit = 0\n",
    "while treeHit < 10:\n",
    "    treeHit = treeHit +1\n",
    "    print(\"나무를 %d번 찍었습니다.\" %treeHit)\n",
    "    if treeHit == 10:\n",
    "        print(\"나무 넘어갑니다.\")"
   ]
  },
  {
   "cell_type": "markdown",
   "id": "ffa3955d",
   "metadata": {},
   "source": [
    "위 예에서 while문의 조건문은 `treeHit < 10`이다.\n",
    "\n",
    "즉 treeHit가 10보다 작은 동안에 while문 안의 문장을 계속 수행한다. \n",
    "\n",
    "whlie문 안의 문장을 보면 제일 먼저 `treeHit = treeHit + 1`로 treeHit 값이 계속 1씩 증가한다. \n",
    "\n",
    "그리고 나무를 treeHit번만큼 찍었음을 알리는 문장을 출력하고 treeHit가 10이 되면 \"나무 넘어갑니다.\"라는 문장을 출력한다. \n",
    "\n",
    "그러고 나면 `treeHit < 10` 조건문이 거짓이 되므로 while문을 빠져나가게 된다."
   ]
  },
  {
   "cell_type": "markdown",
   "id": "6f5b3e26",
   "metadata": {},
   "source": [
    "### while문 만들기\n"
   ]
  },
  {
   "cell_type": "markdown",
   "id": "19fd9b0a",
   "metadata": {},
   "source": [
    "이번에는 여러 가지 선택지 중 하나를 선택해서 입력받는 예제를 만들어 보자. 먼저 다음과 같이 여러 줄짜리 문자열을 입력한다."
   ]
  },
  {
   "cell_type": "code",
   "execution_count": 6,
   "id": "63adfa61",
   "metadata": {},
   "outputs": [],
   "source": [
    "prompt = \"\"\"\n",
    "    1. Add\n",
    "    2. Del\n",
    "    3. List\n",
    "    4. Quit\n",
    "    \n",
    "    Enter number: \"\"\""
   ]
  },
  {
   "cell_type": "markdown",
   "id": "2d5b8e7d",
   "metadata": {},
   "source": [
    "이어서 number 변수에 0을 먼저 대입한다. 이렇게 변수를 먼저 설정해 놓지 않으면 다음에 나올 while문의 조건문인 `number != 4`에서 변수가 존재하지 않는다는 오류가 발생한다."
   ]
  },
  {
   "cell_type": "code",
   "execution_count": 7,
   "id": "b503df94",
   "metadata": {},
   "outputs": [
    {
     "name": "stdout",
     "output_type": "stream",
     "text": [
      "\n",
      "    1. Add\n",
      "    2. Del\n",
      "    3. List\n",
      "    4. Quit\n",
      "    \n",
      "    Enter number: \n",
      "4\n"
     ]
    }
   ],
   "source": [
    "number = 0\n",
    "while number != 4:\n",
    "    print(prompt)\n",
    "    number = int(input())\n",
    "\n"
   ]
  },
  {
   "cell_type": "markdown",
   "id": "f504ee1c",
   "metadata": {},
   "source": [
    "while문을 보면 number가 4가 아닌 동안 prompt를 출력하고 사용자로부터 번호를 입력받는다. 다음 결과 화면처럼 **사용자가 값 4를 입력하지 않으면 계속해서 prompt를 출력한다**"
   ]
  },
  {
   "cell_type": "markdown",
   "id": "abe51065",
   "metadata": {},
   "source": [
    "> ※ 여기에서 number = int(input())는 사용자의 숫자 입력을 받아들이는 것이라고만 알아두자."
   ]
  },
  {
   "cell_type": "markdown",
   "id": "084a8f54",
   "metadata": {},
   "source": [
    "4를 입력하면 조건문이 거짓이 되어 while문을 빠져나가게 된다."
   ]
  },
  {
   "cell_type": "markdown",
   "id": "562da1d0",
   "metadata": {},
   "source": [
    "### while문 강제로 빠져나가기"
   ]
  },
  {
   "cell_type": "markdown",
   "id": "834e52f8",
   "metadata": {},
   "source": [
    "while문은 조건문이 참인 동안 계속해서 while문 안의 내용을 반복적으로 수행한다. 하지만 강제로 while문을 빠져나가고 싶을 때가 있다.\n",
    "\n",
    "예를 들어 커피 자판기를 생각해 보자. 자판기 안에 커피가 충분히 있을 때에는 동전을 넣으면 커피가 나온다. 그런데 자판기가 제대로 작동하려면 커피가 얼마나 남았는지 항상 검사해야 한다. **만약 커피가 떨어졌다면 판매를 중단하고 \"판매 중지\" 문구를 사용자에게 보여주어야 한다.** 이렇게 판매를 강제로 멈추게 하는 것이 바로 `break문`이다."
   ]
  },
  {
   "cell_type": "markdown",
   "id": "518e0d34",
   "metadata": {},
   "source": [
    "다음 예는 커피 자판기 이야기를 파이썬 프로그램으로 표현해 본 것이다."
   ]
  },
  {
   "cell_type": "code",
   "execution_count": 8,
   "id": "8d9ddde2",
   "metadata": {},
   "outputs": [
    {
     "name": "stdout",
     "output_type": "stream",
     "text": [
      "돈을 받았으니 커피를 줍니다.\n",
      "남은 커피의 양은 9개입니다.\n",
      "\n",
      "돈을 받았으니 커피를 줍니다.\n",
      "남은 커피의 양은 8개입니다.\n",
      "\n",
      "돈을 받았으니 커피를 줍니다.\n",
      "남은 커피의 양은 7개입니다.\n",
      "\n",
      "돈을 받았으니 커피를 줍니다.\n",
      "남은 커피의 양은 6개입니다.\n",
      "\n",
      "돈을 받았으니 커피를 줍니다.\n",
      "남은 커피의 양은 5개입니다.\n",
      "\n",
      "돈을 받았으니 커피를 줍니다.\n",
      "남은 커피의 양은 4개입니다.\n",
      "\n",
      "돈을 받았으니 커피를 줍니다.\n",
      "남은 커피의 양은 3개입니다.\n",
      "\n",
      "돈을 받았으니 커피를 줍니다.\n",
      "남은 커피의 양은 2개입니다.\n",
      "\n",
      "돈을 받았으니 커피를 줍니다.\n",
      "남은 커피의 양은 1개입니다.\n",
      "\n",
      "돈을 받았으니 커피를 줍니다.\n",
      "남은 커피의 양은 0개입니다.\n",
      "\n",
      "커피가 다 떨어졌습니다. 판매를 중지합니다\n"
     ]
    }
   ],
   "source": [
    "coffee = 10\n",
    "money = 300\n",
    "while money:\n",
    "    print(\"돈을 받았으니 커피를 줍니다.\")\n",
    "    coffee = coffee - 1\n",
    "    print(\"남은 커피의 양은 %d개입니다.\\n\" % coffee)\n",
    "    if coffee == 0:\n",
    "            print(\"커피가 다 떨어졌습니다. 판매를 중지합니다\")\n",
    "            break"
   ]
  },
  {
   "cell_type": "markdown",
   "id": "e9942e76",
   "metadata": {},
   "source": [
    "money가 300으로 고정되어 있으므로 `while money:`에서 조건문인 money는 0이 아니기 때문에 항상 참이다. 따라서 무한히 반복되는 무한 루프를 돌게 된다. 그리고 while문의 내용을 한 번 수행할 때마다 `coffee = coffee - 1`에 의해서 coffee의 개수가 1개씩 줄어든다. 만약 coffee가 0이 되면 `if coffee == 0:` 문장에서 coffee == 0:이 참이 되므로 if문 다음 문장 \"커피가 다 떨어졌습니다. 판매를 중지합니다.\"가 수행되고 `break문`이 호출되어 while문을 빠져나가게 된다."
   ]
  },
  {
   "cell_type": "markdown",
   "id": "1cf03bd0",
   "metadata": {},
   "source": [
    "하지만 실제 자판기는 위 예처럼 작동하지는 않을 것이다.\n",
    "\n",
    "다음은 자판기의 실제 작동 과정과 비슷하게 만들어본 예이다. 이해가 안 되더라도 걱정하지 말자. 다음 예는 조금 복잡하니까 대화형 인터프리터를 사용하지 말고 IDLE 에디터를 사용해서 작성해 보자."
   ]
  },
  {
   "cell_type": "code",
   "execution_count": 9,
   "id": "5109a750",
   "metadata": {},
   "outputs": [
    {
     "name": "stdout",
     "output_type": "stream",
     "text": [
      "돈을 넣어 주세요: 300\n",
      "커피를 줍니다.\n",
      "돈을 넣어 주세요: 200\n",
      "돈을 다시 돌려주고 커피를 주지 않습니다.\n",
      "남은 커피의 양은 9개 입니다.\n",
      "돈을 넣어 주세요: 200\n",
      "돈을 다시 돌려주고 커피를 주지 않습니다.\n",
      "남은 커피의 양은 9개 입니다.\n",
      "돈을 넣어 주세요: 300\n",
      "커피를 줍니다.\n",
      "돈을 넣어 주세요: 300\n",
      "커피를 줍니다.\n",
      "돈을 넣어 주세요: 300\n",
      "커피를 줍니다.\n",
      "돈을 넣어 주세요: 300\n",
      "커피를 줍니다.\n",
      "돈을 넣어 주세요: 300\n",
      "커피를 줍니다.\n",
      "돈을 넣어 주세요: 300\n",
      "커피를 줍니다.\n",
      "돈을 넣어 주세요: 300\n",
      "커피를 줍니다.\n",
      "돈을 넣어 주세요: 300\n",
      "커피를 줍니다.\n",
      "돈을 넣어 주세요: 300\n",
      "커피를 줍니다.\n",
      "커피가 다 떨어졌습니다. 판매를 중지 합니다.\n"
     ]
    }
   ],
   "source": [
    "# coffee.py\n",
    "coffee = 10\n",
    "while True:\n",
    "    money = int(input(\"돈을 넣어 주세요: \"))\n",
    "    if money == 300:\n",
    "        print(\"커피를 줍니다.\")\n",
    "        coffee = coffee -1\n",
    "    elif money > 300:\n",
    "        print(\"거스름돈 %d를 주고 커피를 줍니다.\" % (money-300))\n",
    "        coffee = coffee -1\n",
    "    else:\n",
    "        print(\"돈을 다시 돌려주고 커피를 주지 않습니다.\")\n",
    "        print(\"남은 커피의 양은 %d개 입니다.\" % coffee)\n",
    "    if coffee == 0:\n",
    "        print(\"커피가 다 떨어졌습니다. 판매를 중지 합니다.\")\n",
    "        break"
   ]
  },
  {
   "cell_type": "markdown",
   "id": "b5647b1e",
   "metadata": {},
   "source": [
    "`money = int(input(\"돈을 넣어 주세요: \"))`문장은 사용자로부터 값을 입력받는 부분이고 입력받은 숫자를 money 변수에 대입하는 것이라고만 알아두자."
   ]
  },
  {
   "cell_type": "markdown",
   "id": "4e052a82",
   "metadata": {},
   "source": [
    "### while문의 맨 처음으로 돌아가기"
   ]
  },
  {
   "cell_type": "markdown",
   "id": "29431cdb",
   "metadata": {},
   "source": [
    "while문 안의 문장을 수행할 때 입력 조건을 검사해서 조건에 맞지 않으면 while문을 빠져나간다. 그런데 프로그래밍을 하다 보면 while문을 빠져나가지 않고 while문의 맨 처음(조건문)으로 다시 돌아가게 만들고 싶은 경우가 생기게 된다. 이때 사용하는 것이 바로 `continue문`이다.\n"
   ]
  },
  {
   "cell_type": "markdown",
   "id": "cbf79554",
   "metadata": {},
   "source": [
    "1부터 10까지의 숫자 중에서 홀수만 출력하는 것을 while문을 사용해서 작성한다고 생각해보자. "
   ]
  },
  {
   "cell_type": "code",
   "execution_count": 10,
   "id": "229c8335",
   "metadata": {},
   "outputs": [
    {
     "name": "stdout",
     "output_type": "stream",
     "text": [
      "1\n",
      "3\n",
      "5\n",
      "7\n",
      "9\n"
     ]
    }
   ],
   "source": [
    "a = 0\n",
    "while a < 10:\n",
    "    a = a + 1\n",
    "    if a % 2 == 0: continue\n",
    "    print(a)"
   ]
  },
  {
   "cell_type": "markdown",
   "id": "9e8d0c31",
   "metadata": {},
   "source": [
    "위 예는 1부터 10까지의 숫자 중 홀수만 출력하는 예이다. a가 10보다 작은 동안 a는 1만큼씩 계속 증가한다. `if a % 2 == 0`(a를 2로 나누었을 때 나머지가 0인 경우)이 참이 되는 경우는 a가 짝수일 때이다. \n",
    "\n",
    "즉 a가 짝수이면 continue 문장을 수행한다. 이 continue문은 while문의 맨 처음(`조건문: a<10`)으로 돌아가게 하는 명령어이다. 따라서 위 예에서 a가 짝수이면 `print(a)`는 수행되지 않을 것이다."
   ]
  },
  {
   "cell_type": "markdown",
   "id": "41cf989d",
   "metadata": {},
   "source": [
    "### 무한루프"
   ]
  },
  {
   "cell_type": "markdown",
   "id": "d77da8d6",
   "metadata": {},
   "source": [
    "이번에는 무한 루프(Loop)에 대해 알아보자. 무한 루프란 무한히 반복한다는 의미이다. 우리가 사용하는 일반 프로그램 중에서 무한 루프 개념을 사용하지 않는 프로그램은 거의 없다. 그만큼 자주 사용한다는 뜻이다.\n",
    "\n",
    "**파이썬에서 무한 루프는 while문으로 구현할 수 있다.** 다음은 무한 루프의 기본 형태이다.\n"
   ]
  },
  {
   "cell_type": "markdown",
   "id": "567923b3",
   "metadata": {},
   "source": [
    "```\n",
    "while True:\n",
    "    수행할 문장1 \n",
    "    수행할 문장2\n",
    "    ...\n",
    "```"
   ]
  },
  {
   "cell_type": "markdown",
   "id": "164fcc03",
   "metadata": {},
   "source": [
    "while문의 조건문이 True이므로 항상 참이 된다. 따라서 while문 안에 있는 문장들은 무한하게 수행될 것이다."
   ]
  },
  {
   "cell_type": "markdown",
   "id": "3953767f",
   "metadata": {},
   "source": [
    "다음의 무한 루프 예이다."
   ]
  },
  {
   "cell_type": "code",
   "execution_count": 11,
   "id": "b3eb028e",
   "metadata": {},
   "outputs": [],
   "source": [
    "#while True:\n",
    "    #print(\"Ctrl+C를 눌러야 while문을 빠져나갈 수 있습니다.\")\n"
   ]
  },
  {
   "cell_type": "markdown",
   "id": "5c0b79b2",
   "metadata": {},
   "source": [
    "위 문장은 영원히 출력된다. 하지만 이 예처럼 아무 의미 없이 무한 루프를 돌리는 경우는 거의 없을 것이다. \n",
    "[Ctrl+C]를 눌러 빠져나가자."
   ]
  },
  {
   "cell_type": "markdown",
   "id": "10b02e57",
   "metadata": {},
   "source": [
    "# for문\n",
    "파이썬의 직관적인 특징을 가장 잘 대변해 주는 것이 바로 이 for문이다. while문과 비슷한 반복문인 for문은 매우 유용하고 문장 구조가 한눈에 쏙 들어온다는 장점이 있다. for문을 잘 사용하면 프로그래밍이 즐거워질 것이다.\n",
    "\n",
    "1. for문의 기본구조\n",
    "\n",
    "2. 예제를 통해 for문 이해하기\n",
    "   1. 전형적인 for문\n",
    "   2. 다양한 for문의 사용\n",
    "   3. for문의 응용\n",
    "   \n",
    "3. for문과 continue\n",
    "\n",
    "4. for문과 함께 자주 사용하는 range함수\n",
    "   1. range 함수의 예시\n",
    "   2. for문과 range를 이용한 구구단\n",
    "\n",
    "5. 리스트 내포 사용하기"
   ]
  },
  {
   "cell_type": "markdown",
   "id": "66e3f314",
   "metadata": {},
   "source": [
    "### 1. for문의 기본 구조"
   ]
  },
  {
   "cell_type": "markdown",
   "id": "cadbec42",
   "metadata": {},
   "source": [
    "```\n",
    "for 변수 in 리스트(또는 튜플, 문자열):\n",
    "    수행할 문장1\n",
    "    수행할 문장2\n",
    "    ...\n",
    "```"
   ]
  },
  {
   "cell_type": "markdown",
   "id": "88296d68",
   "metadata": {},
   "source": [
    "### 2. 예제를 통해 for문 이해하기"
   ]
  },
  {
   "cell_type": "markdown",
   "id": "82687877",
   "metadata": {},
   "source": [
    "#### A. 전형적인 for문"
   ]
  },
  {
   "cell_type": "code",
   "execution_count": 12,
   "id": "52cccbf3",
   "metadata": {},
   "outputs": [
    {
     "name": "stdout",
     "output_type": "stream",
     "text": [
      "one\n",
      "two\n",
      "three\n"
     ]
    }
   ],
   "source": [
    "test_list = ['one', 'two', 'three']\n",
    "for i in test_list:\n",
    "    print(i)"
   ]
  },
  {
   "cell_type": "markdown",
   "id": "4eb0c194",
   "metadata": {},
   "source": [
    "`['one', 'two', 'three']` 리스트의 첫 번째 요소인 'one'이 먼저 i 변수에 대입된 후 `print(i` 문장을 수행한다.\n",
    "\n",
    "다음에 두 번째 요소 'two'가 i 변수에 대입된 후 `print(i)` 문장을 수행하고 리스트의 마지막 요소까지 이것을 반복한다."
   ]
  },
  {
   "cell_type": "markdown",
   "id": "6e0cf45b",
   "metadata": {},
   "source": [
    "#### B. 다양한 for문의 사용"
   ]
  },
  {
   "cell_type": "code",
   "execution_count": 13,
   "id": "92d9328c",
   "metadata": {},
   "outputs": [
    {
     "name": "stdout",
     "output_type": "stream",
     "text": [
      "3\n",
      "7\n",
      "11\n"
     ]
    }
   ],
   "source": [
    "a = [(1,2), (3, 4), (5, 6)]\n",
    "for (first, last) in a:\n",
    "    print(first + last)"
   ]
  },
  {
   "cell_type": "markdown",
   "id": "11b2764d",
   "metadata": {},
   "source": [
    "위 예는 a 리스트의 요솟값이 튜플이기 때문에 각각의 요소가 자동으로 (first, last) 변수에 대입된다."
   ]
  },
  {
   "cell_type": "markdown",
   "id": "3657c60f",
   "metadata": {},
   "source": [
    "#### C. for문의 응용"
   ]
  },
  {
   "cell_type": "markdown",
   "id": "6a2adffa",
   "metadata": {},
   "source": [
    "for문의 쓰임새를 알기 위해 다음을 가정해 보자\n",
    "```\n",
    "\"총 5명의 학생이 시험을 보았는데 시험 점수가 60점이 넘으면 합격이고 그렇지 않으면 불합격이다. 합격인지 불합격인지 결과를 보여 주시오.\"\n",
    "```\n",
    "\n",
    "우선 학생 5명의 시험 점수를 리스트로 표현해봤다.\n",
    "```\n",
    "marks = [90, 25, 67, 45, 80]\n",
    "```\n",
    "\n",
    "1번 학생은 90점이고, 5번 학생은 80점이다\n",
    "\n",
    "이런 점수를 차례로 검사해서 합격했는지 불합격했는지 통보해주는 프로그램을 만들어 보자."
   ]
  },
  {
   "cell_type": "code",
   "execution_count": 14,
   "id": "147143e6",
   "metadata": {},
   "outputs": [
    {
     "name": "stdout",
     "output_type": "stream",
     "text": [
      "1번 학생은 합격입니다.\n",
      "2번 학생은 불합격입니다.\n",
      "3번 학생은 합격입니다.\n",
      "4번 학생은 불합격입니다.\n",
      "5번 학생은 합격입니다.\n"
     ]
    }
   ],
   "source": [
    "# marks1.py\n",
    "marks = [90, 25, 67, 45, 80]\n",
    "\n",
    "number = 0 \n",
    "for mark in marks: \n",
    "    number = number +1 \n",
    "    if mark >= 60: \n",
    "        print(\"%d번 학생은 합격입니다.\"  %number)\n",
    "    else: \n",
    "        print(\"%d번 학생은 불합격입니다.\" %number)\n"
   ]
  },
  {
   "cell_type": "markdown",
   "id": "3aa688ee",
   "metadata": {},
   "source": [
    "각각의 학생에게 번호를 붙여 주기 위해 number 변수를 사용하였다. 점수 리스트 marks에서 차례로 점수를 꺼내어 mark라는 변수에 대입하고 for문 안의 문장들을 수행한다. 우선 for문이 한 번씩 수행될 때마다 number는 1씩 증가한다."
   ]
  },
  {
   "cell_type": "markdown",
   "id": "59f57535",
   "metadata": {},
   "source": [
    "### 3. for문과 continue"
   ]
  },
  {
   "cell_type": "markdown",
   "id": "33316374",
   "metadata": {},
   "source": [
    "while문에서 살펴본 continue문을 for문에서도 사용할 수 있다. 즉 for문 안의 문장을 수행하는 도중에 continue문을 만나면 for문의 처음으로 돌아가게 된다.\n",
    "\n",
    "앞에서 for문 응용 예제를 그대로 사용해서 60점 이상인 사람에게는 축하 메시지를 보내고 나머지 사람에게는 아무 메시지도 전하지 않는 프로그램을 에디터를 사용해 작성해 보자."
   ]
  },
  {
   "cell_type": "code",
   "execution_count": 15,
   "id": "e63c1335",
   "metadata": {},
   "outputs": [
    {
     "name": "stdout",
     "output_type": "stream",
     "text": [
      "1번 학생 축하합니다. 합격입니다. \n",
      "3번 학생 축하합니다. 합격입니다. \n",
      "5번 학생 축하합니다. 합격입니다. \n"
     ]
    }
   ],
   "source": [
    "# marks2.py \n",
    "marks = [90, 25, 67, 45, 80]\n",
    "\n",
    "number = 0 \n",
    "for mark in marks: \n",
    "    number = number +1 \n",
    "    if mark < 60:\n",
    "        continue \n",
    "    print(\"%d번 학생 축하합니다. 합격입니다. \" % number)"
   ]
  },
  {
   "cell_type": "markdown",
   "id": "ffbd3b89",
   "metadata": {},
   "source": [
    "점수가 60점 이하인 학생일 경우에는 mark < 60이 참이 되어 continue문이 수행된다. 따라서 축하 메시지를 출력하는 부분인 print문을 수행하지 않고 for문의 처음으로 돌아가게 된다."
   ]
  },
  {
   "cell_type": "markdown",
   "id": "cf3ce3de",
   "metadata": {},
   "source": [
    "### 4. for문과 함께 자주 사용하는 range 함수"
   ]
  },
  {
   "cell_type": "markdown",
   "id": "5653d735",
   "metadata": {},
   "source": [
    "for문은 숫자 리스트를 자동으로 만들어 주는 range 함수와 함께 사용하는 경우가 많다. 다음은 range 함수의 간단한 사용법이다."
   ]
  },
  {
   "cell_type": "code",
   "execution_count": 16,
   "id": "5aad4f65",
   "metadata": {},
   "outputs": [
    {
     "data": {
      "text/plain": [
       "range(0, 10)"
      ]
     },
     "execution_count": 16,
     "metadata": {},
     "output_type": "execute_result"
    }
   ],
   "source": [
    "a = range(10)\n",
    "a\n",
    "# range(10)은 0부터 10 미만의 숫자를 포함하는 range 객체를 만들어 준다.\n",
    "# 시작 숫자와 끝 숫자를 지정하려면 range(시작 숫자, 끝 숫자) 형태를 사용하는데, 이때 끝 숫자는 포함되지 않는다."
   ]
  },
  {
   "cell_type": "code",
   "execution_count": 17,
   "id": "74e58d4c",
   "metadata": {},
   "outputs": [
    {
     "data": {
      "text/plain": [
       "range(1, 11)"
      ]
     },
     "execution_count": 17,
     "metadata": {},
     "output_type": "execute_result"
    }
   ],
   "source": [
    "a = range(1, 11)\n",
    "a"
   ]
  },
  {
   "cell_type": "markdown",
   "id": "47d70abd",
   "metadata": {},
   "source": [
    "#### A. range 함수의 예시"
   ]
  },
  {
   "cell_type": "markdown",
   "id": "c6ad0956",
   "metadata": {},
   "source": [
    "for와 range 함수를 사용하면 1부터 10까지 더하는 것을 다음과 같이 쉽게 구현할 수 있다."
   ]
  },
  {
   "cell_type": "code",
   "execution_count": 18,
   "id": "1253269e",
   "metadata": {},
   "outputs": [
    {
     "name": "stdout",
     "output_type": "stream",
     "text": [
      "55\n"
     ]
    }
   ],
   "source": [
    "add = 0\n",
    "for i in range(1, 11):\n",
    "    add = add + i\n",
    "\n",
    "print(add)"
   ]
  },
  {
   "cell_type": "markdown",
   "id": "2b1ae7bb",
   "metadata": {},
   "source": [
    "`range(1, 11)`은 숫자 1부터 10까지(1 이상 11 미만)의 숫자를 데이터로 갖는 객체이다. 따라서 위 예에서 i 변수에 리스트의 숫자가 1부터 10까지 하나씩 차례로 대입되면서 `add = add + i` 문장을 반복적으로 수행하고 add는 최종적으로 55가 된다."
   ]
  },
  {
   "cell_type": "markdown",
   "id": "28c5a3e2",
   "metadata": {},
   "source": [
    "또한 우리가 앞에서 살펴본 \"60점 이상이면 합격\"이라는 문장을 출력하는 예제도 range 함수를 사용해서 바꿀 수 있다. 다음을 보자."
   ]
  },
  {
   "cell_type": "code",
   "execution_count": 19,
   "id": "fd3d0ef2",
   "metadata": {},
   "outputs": [
    {
     "name": "stdout",
     "output_type": "stream",
     "text": [
      "1번 학생 축하합니다. 합격입니다.\n",
      "3번 학생 축하합니다. 합격입니다.\n",
      "5번 학생 축하합니다. 합격입니다.\n"
     ]
    }
   ],
   "source": [
    "#marks3.py\n",
    "marks = [90, 25, 67, 45, 80]\n",
    "for number in range(len(marks)):\n",
    "    if marks[number] < 60: \n",
    "        continue\n",
    "    print(\"%d번 학생 축하합니다. 합격입니다.\" % (number+1))"
   ]
  },
  {
   "cell_type": "markdown",
   "id": "641d9bd9",
   "metadata": {},
   "source": [
    "len 함수는 리스트 안의 요소 개수를 돌려주는 함수이다. 따라서 `len(marks)`는 5가 될 것이고 `range(len(marks))`는 `range(5)`가 될 것이다. number 변수에는 차례로 0부터 4까지의 숫자가 대입될 것이고, `marks[number]`는 차례대로 90, 25, 67, 45, 80 값을 갖게 된다. 결과는 marks2.py 예제와 동일하다.\n"
   ]
  },
  {
   "cell_type": "markdown",
   "id": "b4354062",
   "metadata": {},
   "source": [
    "#### B. for와 range를 이용한 구구단"
   ]
  },
  {
   "cell_type": "markdown",
   "id": "c5a316ac",
   "metadata": {},
   "source": [
    "for와 range 함수를 사용하면 소스 코드 단 4줄만으로 구구단을 출력할 수 있다. 들여쓰기에 주의하며 입력해 보자."
   ]
  },
  {
   "cell_type": "code",
   "execution_count": 20,
   "id": "b5804013",
   "metadata": {},
   "outputs": [
    {
     "name": "stdout",
     "output_type": "stream",
     "text": [
      "2 4 6 8 10 12 14 16 18  \n",
      "3 6 9 12 15 18 21 24 27  \n",
      "4 8 12 16 20 24 28 32 36  \n",
      "5 10 15 20 25 30 35 40 45  \n",
      "6 12 18 24 30 36 42 48 54  \n",
      "7 14 21 28 35 42 49 56 63  \n",
      "8 16 24 32 40 48 56 64 72  \n",
      "9 18 27 36 45 54 63 72 81  \n"
     ]
    }
   ],
   "source": [
    "for i in range(2, 10): # 1번 for문\n",
    "    for j in range(1, 10): # 2번 for문\n",
    "        print(i*j, end = \" \")\n",
    "    print(' ')"
   ]
  },
  {
   "cell_type": "markdown",
   "id": "918c20ec",
   "metadata": {},
   "source": [
    "위 예를 보면 for문을 두 번 사용했다. ①번 for문에서 2부터 9까지의 숫자(`range(2, 10)`)가 차례로 i에 대입된다. i가 처음 2일 때 ②번 for문을 만나게 된다. ②번 for문에서 1부터 9까지의 숫자(`range(1, 10)`)가 j에 대입되고 그다음 문장 `print(i*j`)를 수행한다.\n",
    "\n",
    "따라서 i가 2일 때 `2*1, 2*2, 2*3, … 2*9`까지 차례로 수행되며 그 값을 출력하게 된다. 그다음으로 i가 3일 때 역시 2일 때와 마찬가지로 수행될 것이고 i가 9일 때까지 계속 반복된다."
   ]
  },
  {
   "cell_type": "markdown",
   "id": "5f7dda74",
   "metadata": {},
   "source": [
    "> **[매개변수 end를 넣어 준 이유는 무엇일까?]**\n",
    "\n",
    "> 앞의 예제에서 `print(i*j, end=\" \")`와 같이 매개변수 end를 넣어 준 이유는 해당 결괏값을 출력할 때 다음줄로 넘기지 않고 그 줄에 계속해서 출력하기 위해서이다. 그다음에 이어지는 `print(' ')`는 2단, 3단 등을 구분하기 위해 두 번째 for문이 끝나면 결괏값을 다음 줄부터 출력하게 해주는 문장이다."
   ]
  },
  {
   "cell_type": "markdown",
   "id": "22ff42fc",
   "metadata": {},
   "source": [
    "### 5. 리스트 내포 사용하기"
   ]
  },
  {
   "cell_type": "markdown",
   "id": "0db2b13d",
   "metadata": {},
   "source": [
    "리스트 안에 for문을 포함하는 리스트 내포(List comprehension)를 사용하면 좀 더 편리하고 직관적인 프로그램을 만들 수 있다. 다음 예제를 보자."
   ]
  },
  {
   "cell_type": "code",
   "execution_count": 21,
   "id": "47867af9",
   "metadata": {},
   "outputs": [
    {
     "name": "stdout",
     "output_type": "stream",
     "text": [
      "[3, 6, 9, 12]\n"
     ]
    }
   ],
   "source": [
    "a = [1, 2, 3, 4]\n",
    "result = []\n",
    "for num in a:\n",
    "    result.append(num*3)\n",
    "\n",
    "print(result)"
   ]
  },
  {
   "cell_type": "markdown",
   "id": "4ee2bd47",
   "metadata": {},
   "source": [
    "위 예제는 a 리스트의 각 항목에 3을 곱한 결과를 result 리스트에 담는 예제이다.\n",
    "\n",
    "이것을 리스트 내포를 사용하면 다음과 같이 간단히 해결할 수 있다."
   ]
  },
  {
   "cell_type": "code",
   "execution_count": 22,
   "id": "d38a9ef8",
   "metadata": {},
   "outputs": [
    {
     "name": "stdout",
     "output_type": "stream",
     "text": [
      "[3, 6, 9, 12]\n"
     ]
    }
   ],
   "source": [
    "a = [1, 2, 3, 4]\n",
    "result = [num * 3 for num in a]\n",
    "print(result)"
   ]
  },
  {
   "cell_type": "markdown",
   "id": "2b9825ae",
   "metadata": {},
   "source": [
    "만약 [1,2,3,4] 중에서 짝수에만 3을 곱하여 담고 싶다면 다음과 같이 리스트 내포 안에 \"if 조건\"을 사용할 수 있다."
   ]
  },
  {
   "cell_type": "code",
   "execution_count": 23,
   "id": "90923542",
   "metadata": {},
   "outputs": [
    {
     "name": "stdout",
     "output_type": "stream",
     "text": [
      "[6, 12]\n"
     ]
    }
   ],
   "source": [
    "a = [1, 2, 3, 4]\n",
    "result = [num * 3 for num in a if num % 2 == 0]\n",
    "print(result)"
   ]
  },
  {
   "cell_type": "markdown",
   "id": "976750c8",
   "metadata": {},
   "source": [
    "리스트 내포의 일반 문법은 다음과 같다. \"if 조건\" 부분은 앞의 예제에서 볼 수 있듯이 생략할 수 있다.\n",
    "```\n",
    "[표현식 for 항목 in 반복가능객체 if 조건문]\n",
    "```\n",
    "\n",
    "조금 복잡하지만 for문을 2개 이상 사용하는 것도 가능하다. for문을 여러 개 사용할 때의 문법은 다음과 같다.\n",
    "```\n",
    "[표현식 for 항목1 in 반복가능객체1 if 조건문1\n",
    "        for 항목2 in 반복가능객체2 if 조건문2\n",
    "        ...\n",
    "        for 항목n in 반복가능객체n if 조건문n]\n",
    "```"
   ]
  },
  {
   "cell_type": "markdown",
   "id": "4355ac4e",
   "metadata": {},
   "source": [
    "만약 구구단의 모든 결과를 리스트에 담고 싶다면 리스트 내포를 사용하여 다음과 같이 간단하게 구현할 수도 있다."
   ]
  },
  {
   "cell_type": "code",
   "execution_count": 24,
   "id": "83e2704f",
   "metadata": {},
   "outputs": [
    {
     "name": "stdout",
     "output_type": "stream",
     "text": [
      "[2, 4, 6, 8, 10, 12, 14, 16, 18, 3, 6, 9, 12, 15, 18, 21, 24, 27, 4, 8, 12, 16, 20, 24, 28, 32, 36, 5, 10, 15, 20, 25, 30, 35, 40, 45, 6, 12, 18, 24, 30, 36, 42, 48, 54, 7, 14, 21, 28, 35, 42, 49, 56, 63, 8, 16, 24, 32, 40, 48, 56, 64, 72, 9, 18, 27, 36, 45, 54, 63, 72, 81]\n"
     ]
    }
   ],
   "source": [
    "result = [x*y for x in range(2,10)\n",
    "               for y in range(1, 10)]\n",
    "print(result)"
   ]
  },
  {
   "cell_type": "markdown",
   "id": "cab35939",
   "metadata": {},
   "source": [
    "> **느낀점**\n",
    "\n",
    "지금까지 프로그램 흐름을 제어하는 if문, while문, for문에 대해 알아보았다.\n",
    "\n",
    "C랑 비슷하면서도 문법이 달라서, 처음에는 버벅거렸는데, 갈수록 속도가 붙는 느낌이 든다.\n",
    "\n",
    "아직은 익숙하지 않지만, 다양한 문제와 프로그램들을 구현해보면 속도가 점점 붙을거라 생각한다."
   ]
  },
  {
   "cell_type": "code",
   "execution_count": null,
   "id": "cbcaed5b",
   "metadata": {},
   "outputs": [],
   "source": []
  }
 ],
 "metadata": {
  "kernelspec": {
   "display_name": "Python 3",
   "language": "python",
   "name": "python3"
  },
  "language_info": {
   "codemirror_mode": {
    "name": "ipython",
    "version": 3
   },
   "file_extension": ".py",
   "mimetype": "text/x-python",
   "name": "python",
   "nbconvert_exporter": "python",
   "pygments_lexer": "ipython3",
   "version": "3.8.8"
  }
 },
 "nbformat": 4,
 "nbformat_minor": 5
}
