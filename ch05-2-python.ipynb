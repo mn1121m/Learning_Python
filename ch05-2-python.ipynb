{
 "cells": [
  {
   "cell_type": "markdown",
   "id": "68f28b9a",
   "metadata": {},
   "source": [
    "# \"CH05-2. 파이썬 날개달기\"\n",
    "> Errors and Exceptions, Built-in Functions, The Python Standard Library\n",
    "\n",
    "## 목차\n",
    "\n",
    "[05-4 Errors and Exceptions](#05-4-예외처리)\n",
    "- [오류 예외 처리기법](#오류-예외-처리-기법)\n",
    "- [오류 일부러 발생시키기](#오류-일부러-발생시키기)\n",
    "- [예외 만들기](#예외-만들기)\n",
    "    \n",
    "[05-5 Built-in Functions](#05-5-내장-함수)\n",
    "\n",
    "[05-6 The Python Standard Library](#05-6-라이브러리)"
   ]
  },
  {
   "cell_type": "markdown",
   "id": "f16251e3",
   "metadata": {},
   "source": [
    "# 05-4 예외처리\n",
    "---\n",
    "\n",
    "프로그램을 만들다 보면 수없이 많은 오류를 만나게 된다. 물론 오류가 발생하는 이유는 프로그램이 잘못 동작하는 것을 막기 위한 파이썬의 배려이다. 하지만 때때로 이러한 오류를 무시하고 싶을 때도 있다. \n",
    "\n",
    "이를 위해 파이썬은 try, except를 사용해서 예외적으로 오류를 처리할 수 있게 해준다.\n",
    "\n",
    "## 오류 예외 처리 기법\n",
    "---\n",
    "자, 이제 유연한 프로그래밍을 위한 오류 처리 기법에 대해 살펴보자.\n",
    "\n",
    "### try, except문\n",
    "\n",
    "다음은 오류 처리를 위한 try, except문의 기본 구조이다.\n",
    "```python\n",
    "try:\n",
    "    ...\n",
    "except [발생 오류[as 오류 메시지 변수]]:\n",
    "    ...\n",
    "```\n",
    "try 블록 수행 중 오류가 발생하면 except 블록이 수행된다. 하지만 try 블록에서 오류가 발생하지 않는다면 except 블록은 수행되지 않는다.\n",
    "\n",
    "except 구문을 자세히 살펴보자.\n",
    "\n",
    "> except [발생 오류 [as 오류 메시지 변수]]:\n",
    "\n",
    "위 구문을 보면 [ ] 기호를 사용하는데, 이 기호는 괄호 안의 내용을 생략할 수 있다는 관례 표기법이다. 즉 except 구문은 다음 3가지 방법으로 사용할 수 있다.\n",
    "\n",
    "---\n",
    "\n",
    "#### 1. try, except만 쓰는 방법\n",
    "```python\n",
    "try:\n",
    "    ...\n",
    "except:\n",
    "    ...\n",
    "```\n",
    "이 경우는 오류 종류에 상관없이 오류가 발생하면 except 블록을 수행한다.\n",
    "\n",
    "#### 2. 발생 오류만 포함한 except문\n",
    "```python\n",
    "try:\n",
    "    ...\n",
    "except 발생 오류:\n",
    "    ...\n",
    "```\n",
    "이 경우는 오류가 발생했을 때 except문에 미리 정해 놓은 오류 이름과 일치할 때만 except 블록을 수행한다는 뜻이다.\n",
    "\n",
    "#### 3. 발생 오류와 오류 메시지 변수까지 포함한 except문\n",
    "```python\n",
    "try:\n",
    "    ...\n",
    "except 발생 오류 as 오류 메시지 변수:\n",
    "    ...\n",
    "```\n",
    "이 경우는 두 번째 경우에서 오류 메시지의 내용까지 알고 싶을 때 사용하는 방법이다.\n",
    "\n",
    "---"
   ]
  },
  {
   "cell_type": "markdown",
   "id": "10a31f1e",
   "metadata": {},
   "source": [
    "### try, finally\n",
    "\n",
    "try문에는 finally절을 사용할 수 있다. finally절은 try문 수행 도중 예외 발생 여부에 상관없이 항상 수행된다. 보통 finally절은 사용한 리소스를 close해야 할 때에 많이 사용한다.\n",
    "\n",
    "```python\n",
    "f = open('foo.txt', 'w')\n",
    "try:\n",
    "    # 무언가를 수행한다.\n",
    "finally:\n",
    "    f.close()\n",
    "```\n",
    "foo.txt 파일을 쓰기 모드로 연 후에 try문을 수행한 후 예외 발생 여부와 상관없이 finally절에서 f.close()로 열린 파일을 닫을 수 있다.\n",
    "\n",
    "---"
   ]
  },
  {
   "cell_type": "markdown",
   "id": "de58bf49",
   "metadata": {},
   "source": [
    "### 여러개의 오류처리하기\n",
    "\n",
    "try문 안에서 여러 개의 오류를 처리하기 위해 다음 구문을 사용한다.\n",
    "```python\n",
    "try:\n",
    "    ...\n",
    "except 발생 오류1:\n",
    "   ... \n",
    "except 발생 오류2:\n",
    "   ...\n",
    "```\n"
   ]
  },
  {
   "cell_type": "markdown",
   "id": "03b47f00",
   "metadata": {},
   "source": [
    "---\n",
    "#### try문에 else절 사용하기\n",
    "\n",
    "try문에는 다음처럼 else절을 사용할 수 있다.\n",
    "```python\n",
    "try:\n",
    "    ...\n",
    "except [발생 오류[as 오류 메시지 변수]]:\n",
    "    ...\n",
    "else:  # 오류가 없을 경우에만 수행된다.\n",
    "    ...\n",
    "```\n",
    "try문 수행중 오류가 발생하면 except절이 수행되고 오류가 없으면 else절이 수행된다.\n",
    "\n",
    "---"
   ]
  },
  {
   "cell_type": "markdown",
   "id": "defc2f71",
   "metadata": {},
   "source": [
    "## 오류 일부러 발생시키기\n",
    "\n",
    "프로그래밍을 하다 보면 종종 오류를 일부러 발생시켜야 할 경우도 생긴다. 파이썬은 raise 명령어를 사용해 오류를 강제로 발생시킬 수 있다.\n",
    "\n",
    "예를 들어 Bird 클래스를 상속받는 자식 클래스는 반드시 fly라는 함수를 구현하도록 만들고 싶은 경우(강제로 그렇게 하고 싶은 경우)가 있을 수 있다. 다음 예를 보자.\n",
    "\n",
    "```python\n",
    "class Bird:\n",
    "    def fly(self):\n",
    "        raise NotImplementedError\n",
    "```\n",
    "위 예제는 Bird 클래스를 상속받는 자식 클래스는 반드시 fly 함수를 구현해야 한다는 의지를 보여 준다. 만약 자식 클래스가 fly 함수를 구현하지 않은 상태로 fly 함수를 호출한다면 어떻게 될까?\n",
    "\n",
    "> NotImplementedError는 파이썬 내장 오류로, 꼭 작성해야 하는 부분이 구현되지 않았을 경우 일부러 오류를 일으키기 위해 사용한다.\n",
    "\n",
    "```python\n",
    "class Eagle(Bird):\n",
    "    pass\n",
    "\n",
    "eagle = Eagle()\n",
    "eagle.fly()\n",
    "```\n",
    "Eagle 클래스는 Bird 클래스를 상속받는다. 그런데 Eagle 클래스에서 fly 함수를 구현하지 않았기 때문에 Bird 클래스의 fly 함수가 호출된다. 그리고 raise문에 의해 NotImplemented Error가 발생할 것이다.\n",
    "\n",
    "> 상속받는 클래스에서 함수를 재구현하는 것을 **메서드 오버라이딩**이라고 부른다.\n",
    "\n",
    "NotImplementedError가 발생되지 않게 하려면 다음과 같이 Eagle 클래스에 fly 함수를 반드시 구현해야 한다.\n",
    "\n",
    "```python\n",
    "class Eagle(Bird):\n",
    "    def fly(self):\n",
    "        print(\"very fast\")\n",
    "\n",
    "eagle = Eagle()\n",
    "eagle.fly()\n",
    "```\n",
    "위 예처럼 fly 함수를 구현한 후 프로그램을 실행하면 오류 없이 다음 문장이 출력된다.\n",
    "```python\n",
    "very fast\n",
    "```"
   ]
  },
  {
   "cell_type": "code",
   "execution_count": 8,
   "id": "a6c4c710",
   "metadata": {},
   "outputs": [],
   "source": [
    "# 위의 예시에 대한 간단한 요약입니다.\n",
    "# Bird 클래스를 상속받는 자식 클래스는 반드시 fly라는 함수를 구현하도록 만들고 싶은 경우\n",
    "class Bird:\n",
    "    def fly(self):\n",
    "        raise NotImplementedError\n"
   ]
  },
  {
   "cell_type": "code",
   "execution_count": 9,
   "id": "7f1b6e08",
   "metadata": {},
   "outputs": [
    {
     "name": "stdout",
     "output_type": "stream",
     "text": [
      "very fast\n"
     ]
    }
   ],
   "source": [
    "# NotImplementedError가 발생되지 않게 하려면 다음과 같이 Eagle 클래스에 fly 함수를 반드시 구현해야 한다.\n",
    "\n",
    "class Eagle(Bird):\n",
    "    def fly(self):\n",
    "        print(\"very fast\")\n",
    "\n",
    "eagle = Eagle()\n",
    "eagle.fly()"
   ]
  },
  {
   "cell_type": "markdown",
   "id": "db5c0f2a",
   "metadata": {},
   "source": [
    "## 예외 만들기\n",
    "---\n",
    "프로그램 수행 도중 특수한 경우에만 예외 처리를 하기 위해서 종종 예외를 만들어서 사용한다. 직접 예외를 만들어 보자."
   ]
  },
  {
   "cell_type": "code",
   "execution_count": 12,
   "id": "dfa30ce2",
   "metadata": {},
   "outputs": [],
   "source": [
    "# 예외는 다음과 같이 파이썬 내장 클래스인 Exception 클래스를 상속하여 만들 수 있다.\n",
    "class MyError(Exception):\n",
    "    pass"
   ]
  },
  {
   "cell_type": "code",
   "execution_count": 13,
   "id": "fde12df9",
   "metadata": {},
   "outputs": [],
   "source": [
    "# 그리고 별명을 출력해 주는 함수를 다음과 같이 작성한다.\n",
    "def say_nick(nick):\n",
    "    if nick == '바보':\n",
    "        raise MyError()\n",
    "    print(nick)"
   ]
  },
  {
   "cell_type": "code",
   "execution_count": 14,
   "id": "4827cd5b",
   "metadata": {},
   "outputs": [
    {
     "name": "stdout",
     "output_type": "stream",
     "text": [
      "천사\n"
     ]
    },
    {
     "ename": "MyError",
     "evalue": "",
     "output_type": "error",
     "traceback": [
      "\u001b[0;31m---------------------------------------------------------------------------\u001b[0m",
      "\u001b[0;31mMyError\u001b[0m                                   Traceback (most recent call last)",
      "\u001b[0;32m<ipython-input-14-320801fef49b>\u001b[0m in \u001b[0;36m<module>\u001b[0;34m\u001b[0m\n\u001b[1;32m      1\u001b[0m \u001b[0;31m# 그리고 다음과 같이 say_nick 함수를 호출해 보자.\u001b[0m\u001b[0;34m\u001b[0m\u001b[0;34m\u001b[0m\u001b[0;34m\u001b[0m\u001b[0m\n\u001b[1;32m      2\u001b[0m \u001b[0msay_nick\u001b[0m\u001b[0;34m(\u001b[0m\u001b[0;34m\"천사\"\u001b[0m\u001b[0;34m)\u001b[0m\u001b[0;34m\u001b[0m\u001b[0;34m\u001b[0m\u001b[0m\n\u001b[0;32m----> 3\u001b[0;31m \u001b[0msay_nick\u001b[0m\u001b[0;34m(\u001b[0m\u001b[0;34m\"바보\"\u001b[0m\u001b[0;34m)\u001b[0m\u001b[0;34m\u001b[0m\u001b[0;34m\u001b[0m\u001b[0m\n\u001b[0m",
      "\u001b[0;32m<ipython-input-13-6d46d750a9db>\u001b[0m in \u001b[0;36msay_nick\u001b[0;34m(nick)\u001b[0m\n\u001b[1;32m      2\u001b[0m \u001b[0;32mdef\u001b[0m \u001b[0msay_nick\u001b[0m\u001b[0;34m(\u001b[0m\u001b[0mnick\u001b[0m\u001b[0;34m)\u001b[0m\u001b[0;34m:\u001b[0m\u001b[0;34m\u001b[0m\u001b[0;34m\u001b[0m\u001b[0m\n\u001b[1;32m      3\u001b[0m     \u001b[0;32mif\u001b[0m \u001b[0mnick\u001b[0m \u001b[0;34m==\u001b[0m \u001b[0;34m'바보'\u001b[0m\u001b[0;34m:\u001b[0m\u001b[0;34m\u001b[0m\u001b[0;34m\u001b[0m\u001b[0m\n\u001b[0;32m----> 4\u001b[0;31m         \u001b[0;32mraise\u001b[0m \u001b[0mMyError\u001b[0m\u001b[0;34m(\u001b[0m\u001b[0;34m)\u001b[0m\u001b[0;34m\u001b[0m\u001b[0;34m\u001b[0m\u001b[0m\n\u001b[0m\u001b[1;32m      5\u001b[0m     \u001b[0mprint\u001b[0m\u001b[0;34m(\u001b[0m\u001b[0mnick\u001b[0m\u001b[0;34m)\u001b[0m\u001b[0;34m\u001b[0m\u001b[0;34m\u001b[0m\u001b[0m\n",
      "\u001b[0;31mMyError\u001b[0m: "
     ]
    }
   ],
   "source": [
    "# 그리고 다음과 같이 say_nick 함수를 호출해 보자.\n",
    "say_nick(\"천사\")\n",
    "say_nick(\"바보\")"
   ]
  },
  {
   "cell_type": "code",
   "execution_count": 15,
   "id": "e0c016cd",
   "metadata": {},
   "outputs": [],
   "source": [
    "# 저장한 뒤 프로그램을 실행해 보면 다음과 같이 \"천사\"가 한 번 출력된 후 MyError가 발생한다."
   ]
  },
  {
   "cell_type": "code",
   "execution_count": 17,
   "id": "1be8cf4d",
   "metadata": {},
   "outputs": [
    {
     "name": "stdout",
     "output_type": "stream",
     "text": [
      "천사\n",
      "허용되지 않는 별명입니다.\n"
     ]
    }
   ],
   "source": [
    "# 이번에는 예외 처리 기법을 사용하여 MyError 발생을 예외 처리해 보자.\n",
    "try:\n",
    "    say_nick(\"천사\")\n",
    "    say_nick(\"바보\")\n",
    "except MyError:\n",
    "    print(\"허용되지 않는 별명입니다.\")\n",
    "\n",
    "# 프로그램을 실행하면 다음과 같이 출력된다."
   ]
  },
  {
   "cell_type": "code",
   "execution_count": 18,
   "id": "253a7a55",
   "metadata": {},
   "outputs": [
    {
     "name": "stdout",
     "output_type": "stream",
     "text": [
      "천사\n",
      "\n"
     ]
    }
   ],
   "source": [
    "# 만약 오류 메시지를 사용하고 싶다면 다음처럼 예외 처리를 하면 된다.\n",
    "try:\n",
    "    say_nick(\"천사\")\n",
    "    say_nick(\"바보\")\n",
    "except MyError as e:\n",
    "    print(e)\n"
   ]
  },
  {
   "cell_type": "markdown",
   "id": "e5141a78",
   "metadata": {},
   "source": [
    "하지만 프로그램을 실행해 보면 `print(e)`로 오류 메시지가 출력되지 않는 것을 확인할 수 있다. 오류 메시지를 출력했을 때 오류 메시지가 보이게 하려면 오류 클래스에 다음과 같은 `__str__` 메서드를 구현해야 한다. `__str__` 메서드는 print(e)처럼 오류 메시지를 print문으로 출력할 경우에 호출되는 메서드이다."
   ]
  },
  {
   "cell_type": "code",
   "execution_count": 19,
   "id": "74de3208",
   "metadata": {},
   "outputs": [],
   "source": [
    "class MyError(Exception):\n",
    "    def __str__(self):\n",
    "        return \"허용되지 않는 별명입니다.\""
   ]
  },
  {
   "cell_type": "code",
   "execution_count": 20,
   "id": "2ca78a28",
   "metadata": {},
   "outputs": [
    {
     "name": "stdout",
     "output_type": "stream",
     "text": [
      "천사\n",
      "허용되지 않는 별명입니다.\n"
     ]
    }
   ],
   "source": [
    "# 프로그램을 다시 실행해 보면 \"허용되지 않는 별명입니다.\"라는 오류메시지가 출력되는 것을 확인할 수 있다.\n",
    "try:\n",
    "    say_nick(\"천사\")\n",
    "    say_nick(\"바보\")\n",
    "except MyError as e:\n",
    "    print(e)\n"
   ]
  },
  {
   "cell_type": "markdown",
   "id": "f4160ae9",
   "metadata": {},
   "source": [
    "# 05-5 내장 함수\n",
    "---\n",
    "무엇인가 새로운 프로그램을 만들기 전에는 이미 만들어진 것들, 그중에서도 특히 파이썬 배포본에 함께 들어 있는 파이썬 라이브러리를 살펴보는 것이 매우 중요하다.\n",
    "\n",
    "라이브러리를 살펴보기 전에 파이썬 내장 함수를 먼저 살펴보자.\n",
    "파이썬 내장 함수는 외부 모듈과 달리 import가 필요하지 않기 때문에 아무런 설정 없이 바로 사용할 수 있다.\n",
    "\n",
    "내장함수 관련 함수들은 지금 당장 모두 알아야하는 것이 아니기 때문에, 필요할때마다 공식문서를 참고하자."
   ]
  },
  {
   "cell_type": "markdown",
   "id": "84d2caab",
   "metadata": {},
   "source": [
    "### 내장함수(Jump to Python)\n",
    "\n",
    "- [05-5 내장함수](https://wikidocs.net/32)"
   ]
  },
  {
   "cell_type": "markdown",
   "id": "c75d1e6c",
   "metadata": {},
   "source": [
    "# 05-6 라이브러리\n",
    "---\n",
    "전 세계의 파이썬 사용자들이 만든 유용한 프로그램을 모아 놓은 것이 바로 파이썬 라이브러리이다.\n",
    "\n",
    "\"라이브러리\"는 \"도서관\"이라는 뜻 그대로 원하는 정보를 찾아보는 곳이다. 모든 라이브러리를 다 알 필요는 없고 어떤 일을 할 때 어떤 라이브러리를 사용해야 한다는 정도만 알면 된다. \n",
    "\n",
    "\n",
    "라이브러리는 필요할 때마다 공식문서를 참고하자\n",
    "\n",
    "\n",
    "> 파이썬 라이브러리는 파이썬을 설치할 때 자동으로 컴퓨터에 설치한다."
   ]
  },
  {
   "cell_type": "markdown",
   "id": "4e6414a9",
   "metadata": {},
   "source": [
    "### 라이브러리(공식문서)\n",
    "\n",
    "- [표준 라이브러리 1부](https://docs.python.org/ko/3/tutorial/stdlib.html)\n",
    "- [표준 라이브러리 2부](https://docs.python.org/ko/3/tutorial/stdlib2.html)\n",
    "\n",
    "---\n",
    "\n",
    "### 라이브러리(Jump to Python)\n",
    "- [05-6 라이브러리](https://wikidocs.net/33)"
   ]
  }
 ],
 "metadata": {
  "kernelspec": {
   "display_name": "Python 3",
   "language": "python",
   "name": "python3"
  },
  "language_info": {
   "codemirror_mode": {
    "name": "ipython",
    "version": 3
   },
   "file_extension": ".py",
   "mimetype": "text/x-python",
   "name": "python",
   "nbconvert_exporter": "python",
   "pygments_lexer": "ipython3",
   "version": "3.8.8"
  }
 },
 "nbformat": 4,
 "nbformat_minor": 5
}
