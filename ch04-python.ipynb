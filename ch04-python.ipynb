{
 "cells": [
  {
   "cell_type": "markdown",
   "id": "3afd4498",
   "metadata": {},
   "source": [
    "# \"CH04. 프로그램의 입력과 출력은 어떻게 해야할까?\"\n",
    ">함수, 사용자 입력과 출력, 파일 읽고 쓰기\n",
    "\n",
    "## 목차\n",
    "\n",
    "[04-1 function](#04-1-함수)\n",
    "\n",
    "[04-2 input&ouput](#04-2-사용자-입력과-출력)\n",
    "\n",
    "[04-3 file read&write](#04-3-파일-읽고-쓰기)"
   ]
  },
  {
   "cell_type": "markdown",
   "id": "69468473",
   "metadata": {},
   "source": [
    "# 04-1 함수"
   ]
  },
  {
   "cell_type": "markdown",
   "id": "6b03ba3c",
   "metadata": {},
   "source": [
    "##  파이썬 함수의 구조"
   ]
  },
  {
   "cell_type": "markdown",
   "id": "e94ef40a",
   "metadata": {},
   "source": [
    "파이썬 함수의 구조는 다음과 같다.\n",
    "```\n",
    "def 함수명(매개변수):\n",
    "    <수행할 문장1>\n",
    "    <수행할 문장2>\n",
    "    ...\n",
    "```\n",
    "def는 함수를 만들 때 사용하는 예약어이며, 함수 이름은 함수를 만드는 사람이 임의로 만들 수 있다.\n",
    "\n",
    "함수 이름 뒤 괄호 안의 매개변수는 이 함수에 입력으로 전달되는 값을 받는 변수이다. 이렇게 함수를 정의한 다음 if, while, for문 등과 마찬가지로 함수에서 수행할 문장을 입력한다.\n",
    "\n",
    "간단하지만, 많은 것을 설명해주는 다음 예를 보자.\n",
    "```\n",
    "def add(a, b): \n",
    "    return a + b\n",
    "```\n",
    "\n",
    "위 함수는 다음과 같이 풀이된다.\n",
    "> \"이 함수의 이름(함수 이름)은 add이고 입력으로 2개의 값을 받으며 결괏값은 2개의 입력값을 더한 값이다.\""
   ]
  },
  {
   "cell_type": "markdown",
   "id": "b785c97e",
   "metadata": {},
   "source": [
    "##  매개변수와 인수"
   ]
  },
  {
   "cell_type": "markdown",
   "id": "be78e7b3",
   "metadata": {},
   "source": [
    "매개변수(parameter)와 인수(arguments)는 혼용해서 사용되는 헷갈리는 용어이므로 잘 기억해 두자. **매개변수**는 함수에 입력으로 전달된 값을 받는 변수를 의미하고 **인수**는 함수를 호출할 때 전달하는 입력값을 의미한다."
   ]
  },
  {
   "cell_type": "code",
   "execution_count": 1,
   "id": "373acb53",
   "metadata": {},
   "outputs": [
    {
     "name": "stdout",
     "output_type": "stream",
     "text": [
      "7\n"
     ]
    }
   ],
   "source": [
    "def add(a, b):  # a, b는 매개변수\n",
    "    return a + b\n",
    "\n",
    "print(add(3, 4))  # 3, 4는 인수"
   ]
  },
  {
   "cell_type": "markdown",
   "id": "b693e35f",
   "metadata": {},
   "source": [
    "## 입력값과 결과값에 따른 함수의 형태"
   ]
  },
  {
   "cell_type": "markdown",
   "id": "3cc48f80",
   "metadata": {},
   "source": [
    "### 일반적인 함수\n",
    "\n",
    "```\n",
    "def 함수이름(매개변수):\n",
    "    <수행할 문장>\n",
    "    ...\n",
    "    return 결과값\n",
    "```"
   ]
  },
  {
   "cell_type": "markdown",
   "id": "98d1cfb2",
   "metadata": {},
   "source": [
    "### 입력값이 없는 함수\n",
    "\n",
    "```\n",
    ">>> def say(): \n",
    "...     return 'Hi' \n",
    "... \n",
    ">>> a = say()\n",
    ">>> print(a)\n",
    "Hi\n",
    "```"
   ]
  },
  {
   "cell_type": "markdown",
   "id": "5e4f0bc4",
   "metadata": {},
   "source": [
    "위 함수를 쓰기 위해서는 `say()`처럼 괄호 안에 아무 값도 넣지 않아야 한다.\n",
    "이 함수는 입력값은 없지만 결괏값으로 Hi라는 문자열을 돌려준다. \n",
    "`a = say()`처럼 작성하면 a에 Hi 문자열이 대입되는 것이다."
   ]
  },
  {
   "cell_type": "markdown",
   "id": "32fa749c",
   "metadata": {},
   "source": [
    "### 결과값이 없는 함수\n",
    "\n",
    "```\n",
    ">>> def add(a, b): \n",
    "...     print(\"%d, %d의 합은 %d입니다.\" % (a, b, a+b))\n",
    "... \n",
    ">>> add(3, 4)\n",
    "3, 4의 합은 7입니다.\n",
    "```"
   ]
  },
  {
   "cell_type": "markdown",
   "id": "b0896d39",
   "metadata": {},
   "source": [
    "즉 결괏값이 없는 함수는 다음과 같이 사용한다.\n",
    "\n",
    "-> 함수이름(입력인수1, 입력인수2, ...)"
   ]
  },
  {
   "cell_type": "markdown",
   "id": "8fa9377f",
   "metadata": {},
   "source": [
    "## 매개변수 지정하여 호출하기"
   ]
  },
  {
   "cell_type": "markdown",
   "id": "658076ae",
   "metadata": {},
   "source": [
    "함수를 호출할 때 매개변수를 지정할 수도 있다. 다음 예를 보자.\n",
    "\n",
    "```\n",
    ">>> def add(a, b):\n",
    "...     return a+b\n",
    "... \n",
    "```\n",
    "앞에서 알아본 add 함수이다. 이 함수를 다음과 같이 매개변수를 지정하여 사용할 수 있다.\n",
    "```\n",
    ">>> result = add(a=3, b=7)  # a에 3, b에 7을 전달\n",
    ">>> print(result)\n",
    "10\n",
    "```\n",
    "매개변수를 지정하면 다음과 같이 순서에 상관없이 사용할 수 있다는 장점이 있다.\n",
    "```\n",
    ">>> result = add(b=5, a=3)  # b에 5, a에 3을 전달\n",
    ">>> print(result)\n",
    "8\n",
    "\n",
    "```"
   ]
  },
  {
   "cell_type": "markdown",
   "id": "9b4c0b19",
   "metadata": {},
   "source": [
    "## 입력값이 몇 개가 될지 모를 때"
   ]
  },
  {
   "cell_type": "markdown",
   "id": "d3ea3d7d",
   "metadata": {},
   "source": [
    "입력값이 여러 개일 때 그 입력값을 모두 더해 주는 함수를 생각해 보자.\n",
    "하지만 몇 개가 입력될지 모를 때는 어떻게 해야 할까? 아마도 난감할 것이다. 파이썬은 이런 문제를 해결하기 위해 다음과 같은 방법을 제공한다.\n",
    "\n",
    "```\n",
    "def 함수이름(*매개변수): \n",
    "    <수행할 문장>\n",
    "    ...\n",
    "```"
   ]
  },
  {
   "cell_type": "markdown",
   "id": "ee0f0992",
   "metadata": {},
   "source": [
    "일반적으로 볼 수 있는 함수 형태에서 괄호 안의 매개변수 부분이 `*매개변수`로 바뀌었다."
   ]
  },
  {
   "cell_type": "markdown",
   "id": "a673fcde",
   "metadata": {},
   "source": [
    "### 여러 개의 입력값을 받는 함수 만들기\n",
    "\n",
    "다음 예를 통해 여러 개의 입력값을 모두 더하는 함수를 직접 만들어 보자. 예를 들어 `add_many(1, 2)`이면 3을, `add_many(1,2,3`이면 6을, `add_many(1, 2, 3, 4, 5, 6, 7, 8, 9, 10)`이면 55를 돌려주는 함수를 만들어 보자."
   ]
  },
  {
   "cell_type": "code",
   "execution_count": 2,
   "id": "3b588b17",
   "metadata": {},
   "outputs": [],
   "source": [
    "def add_many(*args):\n",
    "    result = 0\n",
    "    for i in args:\n",
    "        result = result + i\n",
    "    return result\n",
    "# 여기에서 *args는 임의로 정한 변수 이름이다. *pey, *python처럼 아무 이름이나 써도 된다."
   ]
  },
  {
   "cell_type": "code",
   "execution_count": 3,
   "id": "2c47156f",
   "metadata": {},
   "outputs": [
    {
     "name": "stdout",
     "output_type": "stream",
     "text": [
      "6\n"
     ]
    }
   ],
   "source": [
    "result = add_many(1,2,3)\n",
    "print(result)"
   ]
  },
  {
   "cell_type": "code",
   "execution_count": 4,
   "id": "1075bde2",
   "metadata": {},
   "outputs": [
    {
     "name": "stdout",
     "output_type": "stream",
     "text": [
      "55\n"
     ]
    }
   ],
   "source": [
    "result = add_many(1,2,3,4,5,6,7,8,9,10)\n",
    "print(result)"
   ]
  },
  {
   "cell_type": "markdown",
   "id": "c2c85e5b",
   "metadata": {},
   "source": [
    "`add_many(1,2,3)`으로 함수를 호출하면 6을 돌려주고, `add_many(1, 2, 3, 4, 5, 6, 7, 8, 9,10)`을 대입하면 55를 돌려준다.\n",
    "\n",
    "여러 개의 입력을 처리할 때 `def add_many(*args)`처럼 함수의 매개변수로 `*args`만 사용할 수 있는 것은 아니다.\n",
    "\n",
    "다음 예를 보자."
   ]
  },
  {
   "cell_type": "code",
   "execution_count": 5,
   "id": "9ecf3a1a",
   "metadata": {},
   "outputs": [],
   "source": [
    "def add_mul(choice, *args): \n",
    "    if choice == \"add\": \n",
    "        result = 0\n",
    "        for i in args:\n",
    "            result = result + i\n",
    "    elif choice == \"mul\":\n",
    "        result = 1\n",
    "        for i in args:\n",
    "            result = result * i\n",
    "        return result"
   ]
  },
  {
   "cell_type": "markdown",
   "id": "0d5130f5",
   "metadata": {},
   "source": [
    "add_mul 함수는 여러 개의 입력값을 의미하는 `*args`매개변수 앞에 choice 매개변수가 추가되어 있다.\n",
    "\n",
    "이 함수는 다음과 같이 사용할 수 있다."
   ]
  },
  {
   "cell_type": "code",
   "execution_count": 6,
   "id": "b8e37421",
   "metadata": {},
   "outputs": [
    {
     "name": "stdout",
     "output_type": "stream",
     "text": [
      "None\n",
      "120\n"
     ]
    }
   ],
   "source": [
    "result = add_mul('add', 1,2,3,4,5)\n",
    "print(result) # result : 15\n",
    "result = add_mul('mul', 1,2,3,4,5)\n",
    "print(result) # result : 120"
   ]
  },
  {
   "cell_type": "markdown",
   "id": "7e917ab4",
   "metadata": {},
   "source": [
    "매개변수 choice에 'add'가 입력된 경우 `*args`에 입력되는 모든 값을 더해서 15를 돌려주고, 'mul'이 입력된 경우 `*args`에 입력되는 모든 값을 곱해서 120을 돌려준다."
   ]
  },
  {
   "cell_type": "markdown",
   "id": "8ba02aa3",
   "metadata": {},
   "source": [
    "## 함수의 결과값은 언제나 하나이다"
   ]
  },
  {
   "cell_type": "code",
   "execution_count": 7,
   "id": "a5a49abe",
   "metadata": {},
   "outputs": [],
   "source": [
    "def add_and_mul(a,b): \n",
    "    return a+b, a*b"
   ]
  },
  {
   "cell_type": "code",
   "execution_count": 8,
   "id": "703281ad",
   "metadata": {},
   "outputs": [],
   "source": [
    "result = add_and_mul(3,4)"
   ]
  },
  {
   "cell_type": "code",
   "execution_count": 9,
   "id": "dfdc280d",
   "metadata": {},
   "outputs": [
    {
     "name": "stdout",
     "output_type": "stream",
     "text": [
      "(7, 12)\n"
     ]
    }
   ],
   "source": [
    "print(result)"
   ]
  },
  {
   "cell_type": "markdown",
   "id": "c0efa2d6",
   "metadata": {},
   "source": [
    "오류는 발생하지 않는다. 그 이유는 함수의 결괏값은 2개가 아니라 언제나 1개라는 데 있다.\n",
    "\n",
    "add_and_mul 함수의 결괏값 `a+b`와 `a*b`는 튜플값 하나인 `(a+b, a*b)`로 돌려준다."
   ]
  },
  {
   "cell_type": "markdown",
   "id": "18b15ab2",
   "metadata": {},
   "source": [
    "## 매개변수에 초깃값 미리 설정하기\n",
    "\n",
    "이번에는 조금 다른 형태로 함수의 인수를 전달하는 방법에 대해서 알아보자. 매개변수에 초깃값을 미리 설정해 주는 경우이다."
   ]
  },
  {
   "cell_type": "code",
   "execution_count": 10,
   "id": "8bcc2a62",
   "metadata": {},
   "outputs": [],
   "source": [
    "def say_myself(name, old, man=True): \n",
    "    print(\"나의 이름은 %s 입니다.\" % name) \n",
    "    print(\"나이는 %d살입니다.\" % old) \n",
    "    if man: \n",
    "        print(\"남자입니다.\")\n",
    "    else: \n",
    "        print(\"여자입니다.\")"
   ]
  },
  {
   "cell_type": "markdown",
   "id": "90d799e9",
   "metadata": {},
   "source": [
    "`man=True`처럼 매개변수에 미리 값을 넣어 준 것이다. 이것이 바로 함수의 매개변수 초깃값을 설정하는 방법이다. 함수의 매개변수에 들어갈 값이 항상 변하는 것이 아닐 경우에는 이렇게 함수의 초깃값을 미리 설정해 두면 유용하다."
   ]
  },
  {
   "cell_type": "code",
   "execution_count": 11,
   "id": "aec29903",
   "metadata": {},
   "outputs": [
    {
     "name": "stdout",
     "output_type": "stream",
     "text": [
      "나의 이름은 박응용 입니다.\n",
      "나이는 27살입니다.\n",
      "남자입니다.\n",
      "나의 이름은 박응용 입니다.\n",
      "나이는 27살입니다.\n",
      "남자입니다.\n"
     ]
    }
   ],
   "source": [
    "say_myself(\"박응용\", 27)\n",
    "say_myself(\"박응용\", 27, True)\n",
    "\n",
    "# 입력값으로 \"박응용\", 27처럼 2개를 주면 name에는 \"박응용\"이 old에는 27이 대입된다. \n",
    "# 그리고 man이라는 변수에는 입력값을 주지 않았지만 초깃값 True를 갖게 된다.\n",
    "# 따라서 위 예에서 함수를 사용한 2가지 방법은 모두 동일한 결과를 출력한다."
   ]
  },
  {
   "cell_type": "markdown",
   "id": "b5b3ec4a",
   "metadata": {},
   "source": [
    "함수의 매개변수에 초깃값을 설정할 때 주의할 것이 하나 있다. \n",
    "\n",
    "초깃값을 설정한 매개변수의 위치이다.  매개변수의 위치를 바꿀 경우 오류가 발생한다."
   ]
  },
  {
   "cell_type": "markdown",
   "id": "8905a62f",
   "metadata": {},
   "source": [
    "## 함수 안에서 선언한 변수의 효력 범위"
   ]
  },
  {
   "cell_type": "code",
   "execution_count": 12,
   "id": "71ed3efa",
   "metadata": {},
   "outputs": [
    {
     "name": "stdout",
     "output_type": "stream",
     "text": [
      "1\n"
     ]
    }
   ],
   "source": [
    "# vartest.py\n",
    "a = 1\n",
    "def vartest(a):\n",
    "    a = a +1\n",
    "\n",
    "vartest(a)\n",
    "print(a)"
   ]
  },
  {
   "cell_type": "markdown",
   "id": "6393f0c7",
   "metadata": {},
   "source": [
    "과연 결괏값은 무엇이 나올까?\n",
    "\n",
    "당연히 vartest 함수에서 매개변수 a의 값에 1을 더했으니까 2가 출력될 것 같지만 프로그램 소스를 작성해서 실행해 보면 결괏값은 1이 나온다. \n",
    "\n",
    "그 이유는 함수 안에서 새로 만든 매개변수는 함수 안에서만 사용하는 **\"함수만의 변수\"**이기 때문이다.\n",
    "\n",
    "`def vartest(a)`에서 입력값을 전달받는 **매개변수 a는 함수 안에서만 사용하는 변수이지 함수 밖의 변수 a가 아니라는 뜻이다.**\n",
    "\n",
    "<span style=\"color: red\">함수 안에서 선언한 매개변수는 함수 안에서만 사용될 뿐 함수 밖에서는 사용되지 않는다. 이것을 이해하는 것은 매우 중요하다.</span>"
   ]
  },
  {
   "cell_type": "markdown",
   "id": "e248e9b4",
   "metadata": {},
   "source": [
    "## 함수 안에서 함수 밖의 변수를 변경하는 방법\n",
    "\n",
    "그렇다면 vartest라는 함수를 사용해서 함수 밖의 변수 a를 1만큼 증가시킬 수 있는 방법은 없을까? 이 질문에는 2가지 해결 방법이 있다.\n"
   ]
  },
  {
   "cell_type": "markdown",
   "id": "58391bc9",
   "metadata": {},
   "source": [
    "### 1. return 사용하기"
   ]
  },
  {
   "cell_type": "code",
   "execution_count": 13,
   "id": "e6f62fcb",
   "metadata": {},
   "outputs": [
    {
     "name": "stdout",
     "output_type": "stream",
     "text": [
      "2\n"
     ]
    }
   ],
   "source": [
    "# vartest_return.py\n",
    "a = 1 \n",
    "def vartest(a): \n",
    "    a = a +1 \n",
    "    return a\n",
    "\n",
    "a = vartest(a) \n",
    "print(a)\n",
    "# 첫 번째 방법은 return을 사용하는 방법이다. \n",
    "# vartest 함수는 입력으로 들어온 값에 1을 더한값을 돌려준다. \n",
    "# 물론 vartest 함수 안의 a 매개변수는 함수 밖의 a와는 다른 것이다."
   ]
  },
  {
   "cell_type": "markdown",
   "id": "ed473551",
   "metadata": {},
   "source": [
    "### 2. global 명령어 사용하기"
   ]
  },
  {
   "cell_type": "code",
   "execution_count": 14,
   "id": "a514f052",
   "metadata": {},
   "outputs": [
    {
     "name": "stdout",
     "output_type": "stream",
     "text": [
      "2\n"
     ]
    }
   ],
   "source": [
    "# vartest_global.py\n",
    "a = 1 \n",
    "def vartest(): \n",
    "    global a \n",
    "    a = a+1\n",
    "\n",
    "vartest() \n",
    "print(a)\n",
    "\n",
    "# 두 번째 방법은 global 명령어를 사용하는 방법이다. \n",
    "# 위 예에서 볼 수 있듯이 vartest 함수 안의 global a 문장은 함수 안에서 함수 밖의 a 변수를 직접 사용하겠다는 뜻이다.\n",
    "# 하지만 프로그래밍을 할 때 global 명령어는 사용하지 않는 것이 좋다. \n",
    "# 왜냐하면 함수는 독립적으로 존재하는 것이 좋기 때문이다. \n",
    "# 그러므로 가급적 global 명령어를 사용하는 이 방법은 피하고 첫 번째 방법을 사용하기를 권한다."
   ]
  },
  {
   "cell_type": "markdown",
   "id": "b153d143",
   "metadata": {},
   "source": [
    "## lambda\n",
    "\n",
    "lambda는 함수를 생성할 때 사용하는 예약어로 def와 동일한 역할을 한다. \n",
    "\n",
    "보통 함수를 한줄로 간결하게 만들 때 사용한다. 우리말로는 \"람다\"라고 읽고 def를 사용해야 할 정도로 복잡하지 않거나 def를 사용할 수 없는 곳에 주로 쓰인다.\n",
    "\n",
    "사용법은 다음과 같다.\n",
    "\n",
    "> lambda 매개변수1, 매개변수2, ... : 매개변수를 이용한 표현식\n",
    "\n",
    "`lambda a, b: a+b.`\n",
    "\n",
    "> ※ lambda 예약어로 만든 함수는 return 명령어가 없어도 결괏값을 돌려준다."
   ]
  },
  {
   "cell_type": "code",
   "execution_count": 15,
   "id": "f1e3e8ed",
   "metadata": {},
   "outputs": [
    {
     "name": "stdout",
     "output_type": "stream",
     "text": [
      "7\n"
     ]
    }
   ],
   "source": [
    "add = lambda a, b: a+b\n",
    "result = add(3, 4)\n",
    "print(result)"
   ]
  },
  {
   "cell_type": "markdown",
   "id": "a2d87e72",
   "metadata": {},
   "source": [
    "add는 두 개의 인수를 받아 서로 더한 값을 돌려주는 lambda 함수이다. 위 예제는 def를 사용한 다음 함수와 하는 일이 완전히 동일하다."
   ]
  },
  {
   "cell_type": "code",
   "execution_count": 16,
   "id": "ca021f5f",
   "metadata": {},
   "outputs": [
    {
     "name": "stdout",
     "output_type": "stream",
     "text": [
      "7\n"
     ]
    }
   ],
   "source": [
    "def add(a, b):\n",
    "    return a+b\n",
    "\n",
    "result = add(3, 4)\n",
    "print(result)"
   ]
  },
  {
   "cell_type": "markdown",
   "id": "526342f1",
   "metadata": {},
   "source": [
    "# 04-2 사용자 입력과 출력\n",
    "\n",
    "우리들이 사용하는 대부분의 완성된 프로그램은 사용자 입력에 따라 그에 맞는 출력을 내보낸다. 대표적인 예로 게시판에 글을 작성한 후 \"확인\" 버튼을 눌러야만(입력) 우리가 작성한 글이 게시판에 올라가는(출력) 것을 들 수 있다.\n",
    "\n",
    "우리는 이미 함수 부분에서 입력과 출력이 어떤 의미를 가지는지 알아보았다. 지금부터는 좀 더 다양하게 사용자의 입력을 받는 방법과 출력하는 방법을 알아보자."
   ]
  },
  {
   "cell_type": "markdown",
   "id": "abf3a769",
   "metadata": {},
   "source": [
    "## 사용자 입력\n",
    "\n",
    "사용자가 입력한 값을 어떤 변수에 대입하고 싶을 때는 어떻게 해야 할까?"
   ]
  },
  {
   "cell_type": "markdown",
   "id": "5e943713",
   "metadata": {},
   "source": [
    "### input의 사용"
   ]
  },
  {
   "cell_type": "code",
   "execution_count": 17,
   "id": "039961d1",
   "metadata": {},
   "outputs": [
    {
     "name": "stdout",
     "output_type": "stream",
     "text": [
      "\n"
     ]
    }
   ],
   "source": [
    "a = input() # Life is too short, you need python"
   ]
  },
  {
   "cell_type": "code",
   "execution_count": 18,
   "id": "4ca7862c",
   "metadata": {},
   "outputs": [
    {
     "data": {
      "text/plain": [
       "''"
      ]
     },
     "execution_count": 18,
     "metadata": {},
     "output_type": "execute_result"
    }
   ],
   "source": [
    "a"
   ]
  },
  {
   "cell_type": "code",
   "execution_count": 19,
   "id": "f9e62510",
   "metadata": {},
   "outputs": [],
   "source": [
    "# input은 입력되는 모든 것을 문자열로 취급한다."
   ]
  },
  {
   "cell_type": "markdown",
   "id": "f5c2f012",
   "metadata": {},
   "source": [
    "### 프롬프트를 띄워서 사용자 입력 받기\n",
    "\n",
    "사용자에게 입력받을 때 \"숫자를 입력하세요\"라든지 \"이름을 입력하세요\"라는 안내 문구 또는 질문이 나오도록 하고 싶을 때가 있다. 그럴 때는 input()의 괄호 안에 질문을 입력하여 프롬프트를 띄워주면 된다.\n",
    "\n",
    "> input(\"질문 내용\")\n",
    "\n",
    "다음 예를 직접 입력해 보자."
   ]
  },
  {
   "cell_type": "code",
   "execution_count": 20,
   "id": "b5c57cf6",
   "metadata": {},
   "outputs": [
    {
     "name": "stdout",
     "output_type": "stream",
     "text": [
      "숫자를 입력하세요: 10\n"
     ]
    }
   ],
   "source": [
    "number = input(\"숫자를 입력하세요: \") # 숫자 : 10"
   ]
  },
  {
   "cell_type": "code",
   "execution_count": 21,
   "id": "91bb0746",
   "metadata": {},
   "outputs": [
    {
     "name": "stdout",
     "output_type": "stream",
     "text": [
      "10\n"
     ]
    }
   ],
   "source": [
    "# 숫자를 입력하라는 프롬프트에 3을 입력하면 변수 number에 3이 대입된다.\n",
    "# print(number)로 출력해서 제대로 입력되었는지 확인해 보자\n",
    "\n",
    "print(number) "
   ]
  },
  {
   "cell_type": "code",
   "execution_count": 22,
   "id": "3bfaa9f8",
   "metadata": {},
   "outputs": [],
   "source": [
    "# input은 입력되는 모든 것을 문자열로 취급하기 때문에 number는 숫자가 아닌 문자열임에 주의하자."
   ]
  },
  {
   "cell_type": "markdown",
   "id": "2e034228",
   "metadata": {},
   "source": [
    "## print 자세히 알기\n",
    "\n",
    "print문으로 할 수 있는 일에 대해서 조금 더 자세하게 알아보자."
   ]
  },
  {
   "cell_type": "markdown",
   "id": "7f841e53",
   "metadata": {},
   "source": [
    "### 큰따옴표(\")로 둘러싸인 문자열은 + 연산과 동일하다"
   ]
  },
  {
   "cell_type": "code",
   "execution_count": 23,
   "id": "bc12e279",
   "metadata": {},
   "outputs": [
    {
     "name": "stdout",
     "output_type": "stream",
     "text": [
      "lifeistoo short\n"
     ]
    }
   ],
   "source": [
    "print(\"life\" \"is\" \"too short\") # 1"
   ]
  },
  {
   "cell_type": "code",
   "execution_count": 24,
   "id": "659ed14a",
   "metadata": {},
   "outputs": [
    {
     "name": "stdout",
     "output_type": "stream",
     "text": [
      "lifeistoo short\n"
     ]
    }
   ],
   "source": [
    " print(\"life\"+\"is\"+\"too short\") # ②"
   ]
  },
  {
   "cell_type": "markdown",
   "id": "29af1a9f",
   "metadata": {},
   "source": [
    "위 예에서 ①과 ②는 완전히 동일한 결괏값을 출력한다. \n",
    "즉 따옴표로 둘러싸인 문자열을 연속해서 쓰면 + 연산을 한 것과 같다."
   ]
  },
  {
   "cell_type": "markdown",
   "id": "6c8bc03a",
   "metadata": {},
   "source": [
    "### 문자열 띄어쓰기는 콤마로 한다\n",
    "\n",
    "콤마(,)를 사용하면 문자열 사이에 띄어쓰기를 할 수 있다."
   ]
  },
  {
   "cell_type": "code",
   "execution_count": 25,
   "id": "6dfe7fc7",
   "metadata": {},
   "outputs": [
    {
     "name": "stdout",
     "output_type": "stream",
     "text": [
      "life is too short\n"
     ]
    }
   ],
   "source": [
    "print(\"life\", \"is\", \"too short\")"
   ]
  },
  {
   "cell_type": "markdown",
   "id": "22c7300f",
   "metadata": {},
   "source": [
    "### 한 줄에 결괏값 출력하기\n",
    "\n",
    "03-3에서 for문을 배울 때 만들었던 구구단 프로그램에서 보았듯이 한 줄에 결괏값을 계속 이어서 출력하려면 매개변수 end를 사용해 끝 문자를 지정해야 한다."
   ]
  },
  {
   "cell_type": "code",
   "execution_count": 26,
   "id": "4fe92882",
   "metadata": {},
   "outputs": [
    {
     "name": "stdout",
     "output_type": "stream",
     "text": [
      "0 1 2 3 4 5 6 7 8 9 "
     ]
    }
   ],
   "source": [
    "for i in range(10):\n",
    "    print(i, end = ' ')"
   ]
  },
  {
   "cell_type": "markdown",
   "id": "78d18a1c",
   "metadata": {},
   "source": [
    "## 04-3 파일 읽고 쓰기\n",
    "\n",
    "이번에는 파일을 통한 입출력 방법에 대해 알아보자. 여기에서는 파일을 새로 만든 다음 프로그램이 만든 결괏값을 새 파일에 적어볼 것이다. 또 파일에 적은 내용을 읽고, 새로운 내용을 추가하는 방법도 알아볼 것이다."
   ]
  },
  {
   "cell_type": "markdown",
   "id": "dd8770d2",
   "metadata": {},
   "source": [
    "## 파일 생성하기\n",
    "다음 소스 코드를 에디터로 작성해서 저장한 후 실행해 보자. 프로그램을 실행한 디렉터리에 새로운 파일이 하나 생성된 것을 확인할 수 있을 것이다."
   ]
  },
  {
   "cell_type": "code",
   "execution_count": 27,
   "id": "0e4ea6cc",
   "metadata": {},
   "outputs": [],
   "source": [
    "f = open(\"newfile.txt\", 'w')\n",
    "f.close()"
   ]
  },
  {
   "cell_type": "markdown",
   "id": "7d966ca2",
   "metadata": {},
   "source": [
    "파일을 생성하기 위해 우리는 파이썬 내장 함수 open을 사용했다. open 함수는 다음과 같이 \"파일 이름\"과 \"파일 열기 모드\"를 입력값으로 받고 결괏값으로 파일 객체를 돌려준다.\n",
    "\n",
    "> 파일 객체 = open(파일 이름, 파일 열기 모드)"
   ]
  },
  {
   "cell_type": "markdown",
   "id": "5e53c62a",
   "metadata": {},
   "source": [
    "## 파일을 쓰기 모드로 열어 출력값 적기\n",
    "위 예에서는 파일을 쓰기 모드로 열기만 했지 정작 아무것도 쓰지는 않았다. 이번에는 에디터를 열고 프로그램의 출력값을 파일에 직접 써 보자."
   ]
  },
  {
   "cell_type": "code",
   "execution_count": 29,
   "id": "c8a70d91",
   "metadata": {},
   "outputs": [],
   "source": [
    "# writedata.py\n",
    "f = open(\"/Users/moonjunyong/Desktop/newfile.txt\", 'w')\n",
    "for i in range(1, 11):\n",
    "    data = \"%d번째 줄입니다.\\n\" % i\n",
    "    f.write(data)\n",
    "f.close()"
   ]
  },
  {
   "cell_type": "code",
   "execution_count": 30,
   "id": "6861355c",
   "metadata": {},
   "outputs": [
    {
     "name": "stdout",
     "output_type": "stream",
     "text": [
      "1번째 줄입니다.\n",
      "\n",
      "2번째 줄입니다.\n",
      "\n",
      "3번째 줄입니다.\n",
      "\n",
      "4번째 줄입니다.\n",
      "\n",
      "5번째 줄입니다.\n",
      "\n",
      "6번째 줄입니다.\n",
      "\n",
      "7번째 줄입니다.\n",
      "\n",
      "8번째 줄입니다.\n",
      "\n",
      "9번째 줄입니다.\n",
      "\n",
      "10번째 줄입니다.\n",
      "\n"
     ]
    }
   ],
   "source": [
    "# 위 프로그램을 다음 프로그램과 비교해 보자.\n",
    "for i in range(1, 11):\n",
    "    data = \"%d번째 줄입니다.\\n\" % i\n",
    "    print(data)"
   ]
  },
  {
   "cell_type": "markdown",
   "id": "feecba57",
   "metadata": {},
   "source": [
    "두 프로그램의 다른 점은 data를 출력하는 방법이다. 두 번째 방법은 우리가 계속 사용해 왔던 모니터 화면에 출력하는 방법이고, 첫 번째 방법은 모니터 화면 대신 파일에 결괏값을 적는 방법이다. 두 방법의 차이점은 print 대신 파일 객체 f의 write 함수를 사용한 것 말고는 없으니 바로 눈에 들어올 것이다."
   ]
  },
  {
   "cell_type": "markdown",
   "id": "ed171763",
   "metadata": {},
   "source": [
    "## 프로그램의 외부에 저장된 파일을 읽는 여러 가지 방법\n",
    "\n",
    "파이썬에는 외부 파일을 읽어 들여 프로그램에서 사용할 수 있는 여러 가지 방법이 있다. 이번에는 그 방법을 자세히 알아보자.\n"
   ]
  },
  {
   "cell_type": "markdown",
   "id": "16c23953",
   "metadata": {},
   "source": [
    "### readline 함수 이용하기\n",
    "첫 번째 방법은 readline 함수를 사용하는 방법이다. 다음 예를 보자."
   ]
  },
  {
   "cell_type": "code",
   "execution_count": 32,
   "id": "e1ccfe1f",
   "metadata": {},
   "outputs": [
    {
     "name": "stdout",
     "output_type": "stream",
     "text": [
      "1번째 줄입니다.\n",
      "\n"
     ]
    }
   ],
   "source": [
    "# readline_test.py\n",
    "f = open(\"/Users/moonjunyong/Desktop/newfile.txt\", 'r')\n",
    "line = f.readline()\n",
    "print(line)\n",
    "f.close()"
   ]
  },
  {
   "cell_type": "markdown",
   "id": "02dada67",
   "metadata": {},
   "source": [
    "위 예는 `f.open(\"새파일.txt\", 'r')`로 파일을 읽기 모드로 연 후 `readline()`을 사용해서 파일의 첫 번째 줄을 읽어 출력하는 경우이다. 앞에서 만든 새파일.txt를 수정하거나 지우지 않았다면 위 프로그램을 실행했을 때 새파일.txt의 가장 첫 번째 줄이 화면에 출력될 것이다."
   ]
  },
  {
   "cell_type": "code",
   "execution_count": 33,
   "id": "cfa0889d",
   "metadata": {},
   "outputs": [],
   "source": [
    "# 만약 모든 줄을 읽어서 화면에 출력하고 싶다면 다음과 같이 작성하면 된다."
   ]
  },
  {
   "cell_type": "code",
   "execution_count": 34,
   "id": "3f59eafe",
   "metadata": {},
   "outputs": [
    {
     "name": "stdout",
     "output_type": "stream",
     "text": [
      "1번째 줄입니다.\n",
      "\n",
      "2번째 줄입니다.\n",
      "\n",
      "3번째 줄입니다.\n",
      "\n",
      "4번째 줄입니다.\n",
      "\n",
      "5번째 줄입니다.\n",
      "\n",
      "6번째 줄입니다.\n",
      "\n",
      "7번째 줄입니다.\n",
      "\n",
      "8번째 줄입니다.\n",
      "\n",
      "9번째 줄입니다.\n",
      "\n",
      "10번째 줄입니다.\n",
      "\n"
     ]
    }
   ],
   "source": [
    "# readline_all.py\n",
    "f = open(\"/Users/moonjunyong/Desktop/newfile.txt\", 'r')\n",
    "while True:\n",
    "    line = f.readline()\n",
    "    if not line: break\n",
    "    print(line)\n",
    "f.close()"
   ]
  },
  {
   "cell_type": "markdown",
   "id": "558b82d2",
   "metadata": {},
   "source": [
    "즉 `while True:` 무한 루프 안에서 `f.readline()`을 사용해 파일을 계속해서 한 줄씩 읽어 들인다. 만약 더 이상 읽을 줄이 없으면 break를 수행한다\n",
    "(`readline()`은 더 이상 읽을 줄이 없을 경우 빈 문자열('')을 리턴한다).\n",
    "\n",
    "> ※ 한 줄 씩 읽어 출력할 때 줄 끝에 \\n 문자가 있으므로 빈 줄도 같이 출력된다."
   ]
  },
  {
   "cell_type": "markdown",
   "id": "9518087c",
   "metadata": {},
   "source": [
    "### readlines 함수 사용하기\n",
    "\n",
    "두 번째 방법은 readlines 함수를 사용하는 방법이다. 다음 예를 보자."
   ]
  },
  {
   "cell_type": "code",
   "execution_count": 35,
   "id": "f21bdc03",
   "metadata": {},
   "outputs": [
    {
     "name": "stdout",
     "output_type": "stream",
     "text": [
      "1번째 줄입니다.\n",
      "\n",
      "2번째 줄입니다.\n",
      "\n",
      "3번째 줄입니다.\n",
      "\n",
      "4번째 줄입니다.\n",
      "\n",
      "5번째 줄입니다.\n",
      "\n",
      "6번째 줄입니다.\n",
      "\n",
      "7번째 줄입니다.\n",
      "\n",
      "8번째 줄입니다.\n",
      "\n",
      "9번째 줄입니다.\n",
      "\n",
      "10번째 줄입니다.\n",
      "\n"
     ]
    }
   ],
   "source": [
    "f = open(\"/Users/moonjunyong/Desktop/newfile.txt\", 'r')\n",
    "lines = f.readlines()\n",
    "for line in lines:\n",
    "    print(line)\n",
    "f.close()"
   ]
  },
  {
   "cell_type": "markdown",
   "id": "4ee94ad7",
   "metadata": {},
   "source": [
    "readlines 함수는 파일의 모든 줄을 읽어서 각각의 줄을 요소로 갖는 리스트로 돌려준다. 따라서 위 예에서 lines는 리스트 `[\"1 번째 줄입니다.\\n\", \"2 번째 줄입니다.\\n\", ..., \"10 번째 줄입니다.\\n\"]`가 된다. `f.readlines()`에서 `f.readline()`과는 달리 s가 하나 더 붙어 있음에 유의하자."
   ]
  },
  {
   "cell_type": "markdown",
   "id": "811a05c8",
   "metadata": {},
   "source": [
    "### read 함수 사용하기\n",
    "\n",
    "세 번째 방법은 read 함수를 사용하는 방법이다. 다음 예를 보자."
   ]
  },
  {
   "cell_type": "code",
   "execution_count": 36,
   "id": "d23aacc9",
   "metadata": {},
   "outputs": [
    {
     "name": "stdout",
     "output_type": "stream",
     "text": [
      "1번째 줄입니다.\n",
      "2번째 줄입니다.\n",
      "3번째 줄입니다.\n",
      "4번째 줄입니다.\n",
      "5번째 줄입니다.\n",
      "6번째 줄입니다.\n",
      "7번째 줄입니다.\n",
      "8번째 줄입니다.\n",
      "9번째 줄입니다.\n",
      "10번째 줄입니다.\n",
      "\n"
     ]
    }
   ],
   "source": [
    "f = open(\"/Users/moonjunyong/Desktop/newfile.txt\", 'r')\n",
    "data = f.read()\n",
    "print(data)\n",
    "f.close()\n"
   ]
  },
  {
   "cell_type": "markdown",
   "id": "4d3bb6e1",
   "metadata": {},
   "source": [
    "`f.read()`는 파일의 내용 전체를 문자열로 돌려준다. 따라서 위 예의 data는 파일의 전체 내용이다."
   ]
  },
  {
   "cell_type": "markdown",
   "id": "6e1192a3",
   "metadata": {},
   "source": [
    "## 파일에 새로운 내용 추가하기\n",
    "\n",
    "쓰기 모드('w')로 파일을 열 때 이미 존재하는 파일을 열면 그 파일의 내용이 모두 사라지게 된다. 하지만 원래 있던 값을 유지하면서 단지 새로운 값만 추가해야 할 경우도 있다. 이런 경우에는 파일을 추가 모드('a')로 열면 된다. 에디터를 켜고 다음 소스 코드를 작성해 보자."
   ]
  },
  {
   "cell_type": "code",
   "execution_count": 38,
   "id": "3abed52d",
   "metadata": {},
   "outputs": [],
   "source": [
    "# adddata.py\n",
    "f = open(\"/Users/moonjunyong/Desktop/newfile.txt\",'a')\n",
    "for i in range(11, 20):\n",
    "    data = \"%d번째 줄입니다.\\n\" % i\n",
    "    f.write(data)\n",
    "f.close()"
   ]
  },
  {
   "cell_type": "code",
   "execution_count": 40,
   "id": "00cf9d25",
   "metadata": {},
   "outputs": [
    {
     "name": "stdout",
     "output_type": "stream",
     "text": [
      "1번째 줄입니다.\n",
      "2번째 줄입니다.\n",
      "3번째 줄입니다.\n",
      "4번째 줄입니다.\n",
      "5번째 줄입니다.\n",
      "6번째 줄입니다.\n",
      "7번째 줄입니다.\n",
      "8번째 줄입니다.\n",
      "9번째 줄입니다.\n",
      "10번째 줄입니다.\n",
      "11번째 줄입니다.\n",
      "12번째 줄입니다.\n",
      "13번째 줄입니다.\n",
      "14번째 줄입니다.\n",
      "15번째 줄입니다.\n",
      "16번째 줄입니다.\n",
      "17번째 줄입니다.\n",
      "18번째 줄입니다.\n",
      "19번째 줄입니다.\n",
      "\n"
     ]
    }
   ],
   "source": [
    "# adddata.py -> 11~19번째줄이 추가되었다. => 확인 \n",
    "f = open(\"/Users/moonjunyong/Desktop/newfile.txt\", 'r')\n",
    "data = f.read()\n",
    "print(data)\n",
    "f.close()"
   ]
  },
  {
   "cell_type": "markdown",
   "id": "77cb066d",
   "metadata": {},
   "source": [
    "## with문과 함께 사용하기\n",
    "\n",
    "지금까지 살펴본 예제를 보면 항상 다음과 같은 방식으로 파일을 열고 닫아 왔다."
   ]
  },
  {
   "cell_type": "code",
   "execution_count": 41,
   "id": "4b7da0f3",
   "metadata": {},
   "outputs": [],
   "source": [
    "f = open(\"foo.txt\", 'w')\n",
    "f.write(\"Life is too short, you need python\")\n",
    "f.close()\n"
   ]
  },
  {
   "cell_type": "markdown",
   "id": "a5ed1f62",
   "metadata": {},
   "source": [
    "파일을 열면 위와 같이 항상 close해 주는 것이 좋다. 하지만 이렇게 파일을 열고 닫는 것을 자동으로 처리할 수 있다면 편리하지 않을까? 파이썬의 with문이 바로 이런 역할을 해준다. 다음 예는 with문을 사용해서 위 예제를 다시 작성한 모습이다."
   ]
  },
  {
   "cell_type": "code",
   "execution_count": 42,
   "id": "3f0a091c",
   "metadata": {},
   "outputs": [],
   "source": [
    "with open(\"foo.txt\", \"w\") as f:\n",
    "    f.write(\"Life is too short, you need python\")"
   ]
  },
  {
   "cell_type": "markdown",
   "id": "944f9515",
   "metadata": {},
   "source": [
    "위와 같이 with문을 사용하면 with 블록을 벗어나는 순간 열린 파일 객체 f가 자동으로 close되어 편리하다."
   ]
  }
 ],
 "metadata": {
  "kernelspec": {
   "display_name": "Python 3",
   "language": "python",
   "name": "python3"
  },
  "language_info": {
   "codemirror_mode": {
    "name": "ipython",
    "version": 3
   },
   "file_extension": ".py",
   "mimetype": "text/x-python",
   "name": "python",
   "nbconvert_exporter": "python",
   "pygments_lexer": "ipython3",
   "version": "3.8.8"
  }
 },
 "nbformat": 4,
 "nbformat_minor": 5
}
