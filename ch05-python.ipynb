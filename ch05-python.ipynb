{
 "cells": [
  {
   "cell_type": "markdown",
   "id": "10045eca",
   "metadata": {},
   "source": [
    "# \"CH05. 파이썬 날개달기\"\n",
    "> 클래스, 모듈, 패키지, 예외 처리, 내장 함수, 라이브러리"
   ]
  },
  {
   "cell_type": "markdown",
   "id": "448f2f3e",
   "metadata": {},
   "source": [
    "# 05-1 클래스"
   ]
  },
  {
   "cell_type": "markdown",
   "id": "3006a982",
   "metadata": {},
   "source": [
    "## 클래스는 왜 필요한가 ?\n",
    "\n",
    "클래스를 사용하면 객체를 생성만 하기 되기 때문에 함수를 사용하는 경우와 달리 매우 간단해진다.\n",
    "\n",
    "예를 들면) 계산기 작업에서 한 프로그램에 2대의 계산기가 필요할 경우,\n",
    "\n",
    "함수를 사용할 때에는 전역변수 2개가 필요하지만,\n",
    "\n",
    "클래스를 사용할 때에는 클래스 한개를 선언해주고, 안에 두개의 객체를 생성만 하면 된다."
   ]
  },
  {
   "cell_type": "markdown",
   "id": "c9d19873",
   "metadata": {},
   "source": [
    "## 클래스와 객체"
   ]
  },
  {
   "cell_type": "markdown",
   "id": "76abccaf",
   "metadata": {},
   "source": [
    "예시 - 과자를 만드는 과자 틀과 그것을 사용해 만든 과자가 있다.\n",
    "\n",
    "- 과자 틀 -> 클래스 (class)\n",
    "- 과자 틀에 의해서 만들어진 과자 -> 객체(object)\n",
    "\n",
    "클래스(class)란 똑같은 무엇인가를 계속해서 만들어 낼 수 있는 설계 도면이고(과자 틀), 객체(object)란 클래스로 만든 피조물(과자 틀을 사용해 만든 과자)을 뜻한다.\n",
    "\n",
    "클래스로 만든 객체에는 중요한 특징이 있다. 바로 객체마다 고유한 성격을 가진다는 것이다. 과자 틀로 만든 과자에 구멍을 뚫거나 조금 베어 먹더라도 다른 과자에는 아무 영향이 없는 것과 마찬가지로 동일한 클래스로 만든 객체들은 서로 전혀 영향을 주지 않는다.\n",
    "\n",
    "객체는 클래스로 만들며 1개의 클래스는 무수히 많은 객체를 만들어 낼 수 있다. "
   ]
  },
  {
   "cell_type": "code",
   "execution_count": 3,
   "id": "a6820674",
   "metadata": {},
   "outputs": [],
   "source": [
    "class Cookie:\n",
    "    pass\n",
    "a = Cookie()\n",
    "b = Cookie()"
   ]
  },
  {
   "cell_type": "code",
   "execution_count": 4,
   "id": "6c6fd541",
   "metadata": {},
   "outputs": [],
   "source": [
    "# 위의 클래스는 아무 기능도 갖고 있지 않은 껍질뿐인 클래스이다. \n",
    "# Cookie()의 결괏값을 돌려받은 a와 b가 바로 객체이다."
   ]
  },
  {
   "cell_type": "markdown",
   "id": "37fa7884",
   "metadata": {},
   "source": [
    "**[객체와 인스턴스의 차이]**\n",
    "\n",
    "클래스로 만든 객체를 인스턴스라고도 한다. \n",
    "\n",
    "a = Cookie() 이렇게 만든 a는 객체이다. 그리고 a 객체는 Cookie의 인스턴스이다. \n",
    " \n",
    "즉 인스턴스라는 말은 특정 객체(a)가 어떤 클래스(Cookie)의 객체인지를 관계 위주로 설명할 때 사용한다. \n",
    "\"a는 인스턴스\"보다는 \"a는 객체\"라는 표현이 어울리며 \"a는 Cookie의 객체\"보다는 \"a는 Cookie의 인스턴스\"라는 표현이 훨씬 잘 어울린다."
   ]
  },
  {
   "cell_type": "markdown",
   "id": "3bdd6b4c",
   "metadata": {},
   "source": [
    "## 사칙연산 클래스 만들기\n",
    "\n",
    "여기에서는 사칙연산을 쉽게 해주는 클래스를 만들어 볼 것이다. 사칙연산은 더하기, 빼기, 나누기, 곱하기를 말한다.\n",
    "\n",
    "### 클래스를 어떻게 만들지 먼저 구상하기\n",
    "\n",
    "클래스는 무작정 만드는 것보다 클래스로 만든 객체를 중심으로 어떤 식으로 동작하게 할것인지 미리 구상을 한 후에 생각한 것들을 하나씩 해결하면서 완성해 나가는 것이 좋다.\n",
    "\n",
    "```\n",
    "a = FourCal() # 먼저 a = FourCal()를 입력해서 a라는 객체를 만든다.\n",
    "a.setdata(4, 2) # 그런 다음 a.setdata(4, 2)처럼 입력해서 숫자 4와 2를 a에 지정해 주고\n",
    "print(a.add()) # a.add()를 수행하면 두 수를 합한 결과(4 + 2)를 돌려주고\n",
    "print(a.mul()) # a.mul()을 수행하면 두 수를 곱한 결과(4 * 2)를 돌려주고\n",
    "print(a.sub()) # a.sub()를 수행하면 두 수를 뺀 결과(4 - 2)를 돌려주고\n",
    "print(a.div()) # a.div()를 수행하면 두 수를 나눈 결과(4 / 2)를 돌려준다.\n",
    "```\n",
    "\n",
    "이렇게 동작하는 FourCal 클래스를 만드는 것이 목표이다."
   ]
  },
  {
   "cell_type": "markdown",
   "id": "98a93371",
   "metadata": {},
   "source": [
    "## 클래스 구조 만들기"
   ]
  },
  {
   "cell_type": "code",
   "execution_count": 5,
   "id": "9b1563e5",
   "metadata": {},
   "outputs": [],
   "source": [
    "class FourCal:\n",
    "    pass\n"
   ]
  },
  {
   "cell_type": "markdown",
   "id": "950ab7d1",
   "metadata": {},
   "source": [
    "우선 대화형 인터프리터에서 pass란 문장만을 포함한 FourCal 클래스를 만든다.\n",
    "> ※ pass는 아무것도 수행하지 않는 문법으로 임시로 코드를 작성할 때 주로 사용한다."
   ]
  },
  {
   "cell_type": "code",
   "execution_count": 6,
   "id": "a92e6c31",
   "metadata": {},
   "outputs": [
    {
     "data": {
      "text/plain": [
       "__main__.FourCal"
      ]
     },
     "execution_count": 6,
     "metadata": {},
     "output_type": "execute_result"
    }
   ],
   "source": [
    "a = FourCal()\n",
    "type(a)"
   ]
  },
  {
   "cell_type": "code",
   "execution_count": 7,
   "id": "d251ba25",
   "metadata": {},
   "outputs": [],
   "source": [
    "# 위와 같이 a = FourCal()로 a 객체를 먼저 만들고 그다음에 type(a)로 a 객체가 어떤 타입인지 알아보았다. \n",
    "# 역시 객체 a가 FourCal 클래스의 객체임을 알 수 있다."
   ]
  },
  {
   "cell_type": "markdown",
   "id": "1bed4991",
   "metadata": {},
   "source": [
    "> ※ type 함수는 파이썬이 자체로 가지고 있는 내장 함수로 객체 타입을 출력한다."
   ]
  },
  {
   "cell_type": "markdown",
   "id": "19765233",
   "metadata": {},
   "source": [
    "### 객체에 숫자 지정할 수 있게 만들기\n",
    "\n",
    "이제 더하기, 나누기, 곱하기, 빼기등의 기능을 하는 객체를 만들어야 한다. \n",
    "그런데 이러한 기능을 갖춘 객체를 만들려면 우선 a 객체에 사칙연산을 할 때 사용할 2개의 숫자를 먼저 알려주어야 한다."
   ]
  },
  {
   "cell_type": "code",
   "execution_count": 8,
   "id": "430a45e0",
   "metadata": {},
   "outputs": [
    {
     "ename": "AttributeError",
     "evalue": "'FourCal' object has no attribute 'setdata'",
     "output_type": "error",
     "traceback": [
      "\u001b[0;31m---------------------------------------------------------------------------\u001b[0m",
      "\u001b[0;31mAttributeError\u001b[0m                            Traceback (most recent call last)",
      "\u001b[0;32m<ipython-input-8-c97ff6fd13f1>\u001b[0m in \u001b[0;36m<module>\u001b[0;34m\u001b[0m\n\u001b[0;32m----> 1\u001b[0;31m \u001b[0ma\u001b[0m\u001b[0;34m.\u001b[0m\u001b[0msetdata\u001b[0m\u001b[0;34m(\u001b[0m\u001b[0;36m4\u001b[0m\u001b[0;34m,\u001b[0m \u001b[0;36m2\u001b[0m\u001b[0;34m)\u001b[0m\u001b[0;34m\u001b[0m\u001b[0;34m\u001b[0m\u001b[0m\n\u001b[0m",
      "\u001b[0;31mAttributeError\u001b[0m: 'FourCal' object has no attribute 'setdata'"
     ]
    }
   ],
   "source": [
    "a.setdata(4, 2)"
   ]
  },
  {
   "cell_type": "code",
   "execution_count": 9,
   "id": "ae09327b",
   "metadata": {},
   "outputs": [],
   "source": [
    "# 위 문장을 수행하려면 다음과 같이 소스 코드를 작성해야 한다."
   ]
  },
  {
   "cell_type": "code",
   "execution_count": 10,
   "id": "dfab1084",
   "metadata": {},
   "outputs": [],
   "source": [
    "class FourCal:\n",
    "    def setdata(self, first, second):\n",
    "        self.first = first\n",
    "        self.second = second\n"
   ]
  },
  {
   "cell_type": "markdown",
   "id": "aa6ac4bb",
   "metadata": {},
   "source": [
    "앞에서 만든 FourCal 클래스에서 pass 문장을 삭제하고 그 대신 setdata 함수를 만들었다. 클래스 안에 구현된 함수는 다른 말로 **메서드(Method**라고 부른다. 앞으로 클래스 내부의 함수는 항상 메서드라고 표현할 테니 메서드라는 용어를 기억해 두자.\n",
    "\n",
    "\n",
    "일반적인 함수를 만들 때 다음과 같이 작성한다.\n",
    "```\n",
    "def 함수명(매개변수):\n",
    "    수행할 문장\n",
    "    ...\n",
    "```"
   ]
  },
  {
   "cell_type": "markdown",
   "id": "bab9947a",
   "metadata": {},
   "source": [
    "setdata 메서드를 다시 보면 다음과 같다.\n",
    "```\n",
    "def setdata(self, first, second):   # ① 메서드의 매개변수\n",
    "    self.first = first              # ② 메서드의 수행문\n",
    "    self.second = second            # ② 메서드의 수행문\n",
    "```"
   ]
  },
  {
   "cell_type": "markdown",
   "id": "6c86150f",
   "metadata": {},
   "source": [
    "**1.setdata 메서드의 매개변수**\n",
    "\n",
    "setdata 메서드는 매개변수로 self, first, second 3개 입력값을 받는다. 그런데 일반 함수와는 달리 메서드의 첫 번째 매개변수 self는 특별한 의미를 가진다.\n",
    "\n",
    "다음과 같이 a 객체를 만들고 a 객체를 통해 setdata 메서드를 호출해 보자."
   ]
  },
  {
   "cell_type": "markdown",
   "id": "d45544e1",
   "metadata": {},
   "source": [
    "```\n",
    "a = FourCal()\n",
    "a.setdata(4,2)\n",
    "```"
   ]
  },
  {
   "cell_type": "markdown",
   "id": "13cd7c6e",
   "metadata": {},
   "source": [
    "> ※ 객체를 통해 클래스의 메서드를 호출하려면 a.setdata(4, 2)와 같이 도트(.) 연산자를 사용해야 한다."
   ]
  },
  {
   "cell_type": "markdown",
   "id": "80ec816a",
   "metadata": {},
   "source": [
    "그런데 뭔가 좀 이상하지 않은가? setdata 메서드에는 self, first, second 총 3개의 매개변수가 필요한데 실제로는 `a.setdata(4, 2)`처럼 2개 값만 전달했다. 왜 그럴까? 그 이유는 `a.setdata(4, 2)`처럼 호출하면 setdata 메서드의 첫 번째 매개변수 self에는 setdata메서드를 호출한 객체 a가 자동으로 전달되기 때문이다. 다음 그림을 보면 객체를 호출할 때 입력한 값이 메서드에 어떻게 전달되는지 쉽게 이해할 수 있을 것이다."
   ]
  },
  {
   "cell_type": "markdown",
   "id": "a6984cde",
   "metadata": {},
   "source": [
    "![setdata](https://wikidocs.net/images/page/12392/setdata.png)"
   ]
  },
  {
   "cell_type": "markdown",
   "id": "ad194045",
   "metadata": {},
   "source": [
    "파이썬 메서드의 첫 번째 매개변수 이름은 관례적으로 self를 사용한다. 객체를 호출할 때 호출한 객체 자신이 전달되기 때문에 self를 사용한 것이다. 물론 self말고 다른 이름을 사용해도 상관없다."
   ]
  },
  {
   "cell_type": "markdown",
   "id": "f5e39628",
   "metadata": {},
   "source": [
    "**[메서드의 또 다른 호출 방법]**\n",
    "\n",
    "잘 사용하지는 않지만 다음과 같이 클래스를 통해 메서드를 호출하는 것도 가능하다.\n",
    "```\n",
    "a = FourCal()\n",
    "FourCal.setdata(a, 4, 2)\n",
    "```\n",
    "위와 같이 `클래스 이름.메서드` 형태로 호출할 때는 객체 a를 첫 번째 매개변수 self에 꼭 전달해 주어야 한다. 반면에 다음처럼 `객체.메서드` 형태로 호출할 때는 self를 반드시 생략해서 호출해야 한다.\n",
    "\n",
    "```\n",
    "a = FourCal()\n",
    "a.setdata(4,2)\n",
    "```"
   ]
  },
  {
   "cell_type": "markdown",
   "id": "44198860",
   "metadata": {},
   "source": [
    "**2.setdata 메서드의 수행문**\n",
    "\n",
    "이제 setdata 메서드의 수행문에 대해 알아보자.\n",
    "```\n",
    "def setdata(self, first, second):   # ① 메서드의 매개변수\n",
    "    self.first = first              # ② 메서드의 수행문\n",
    "    self.second = second            # ② 메서드의 수행문\n",
    "```\n",
    "\n",
    "`a.setdata(4, 2)`처럼 호출하면 setdata 메서드의 매개변수 first, second에는 각각 값 4와 2가 전달되어 setdata 메서드의 수행문은 다음과 같이 해석된다.\n",
    "\n",
    "```\n",
    "self.first = 4\n",
    "self.second = 2\n",
    "```\n",
    "\n",
    "self는 전달된 객체 a이므로 다시 다음과 같이 해석된다.\n",
    "```\n",
    "a.first = 4\n",
    "a.second = 2\n",
    "```"
   ]
  },
  {
   "cell_type": "code",
   "execution_count": 11,
   "id": "c6e31a16",
   "metadata": {},
   "outputs": [
    {
     "name": "stdout",
     "output_type": "stream",
     "text": [
      "4\n",
      "2\n"
     ]
    }
   ],
   "source": [
    "# 다음과 같이 확인해보자\n",
    "a = FourCal()\n",
    "a.setdata(4, 2)\n",
    "print(a.first)\n",
    "print(a.second)"
   ]
  },
  {
   "cell_type": "code",
   "execution_count": 12,
   "id": "682d841d",
   "metadata": {},
   "outputs": [],
   "source": [
    "# a 객체에 객체변수 first와 second가 생성되었음을 확인할 수 있다."
   ]
  },
  {
   "cell_type": "code",
   "execution_count": 13,
   "id": "624a5a33",
   "metadata": {},
   "outputs": [],
   "source": [
    "# 이번에는 다음과 같이 a, b 객체를 만들어 보자.\n",
    "a = FourCal()\n",
    "b = FourCal()"
   ]
  },
  {
   "cell_type": "code",
   "execution_count": 14,
   "id": "798931f0",
   "metadata": {},
   "outputs": [
    {
     "name": "stdout",
     "output_type": "stream",
     "text": [
      "4\n"
     ]
    }
   ],
   "source": [
    "# 그리고 a 객체의 객체변수 first를 다음과 같이 생성한다.\n",
    "a.setdata(4, 2)\n",
    "print(a.first)"
   ]
  },
  {
   "cell_type": "code",
   "execution_count": 15,
   "id": "525ec2b6",
   "metadata": {},
   "outputs": [
    {
     "name": "stdout",
     "output_type": "stream",
     "text": [
      "3\n"
     ]
    }
   ],
   "source": [
    "# 이번에는 b 객체의 객체변수 first를 다음과 같이 생성한다.\n",
    "b.setdata(3, 7)\n",
    "print(b.first)"
   ]
  },
  {
   "cell_type": "markdown",
   "id": "42b85d6e",
   "metadata": {},
   "source": [
    "이 예제를 통해 `강조하고 싶은 점`이 바로 이것이다.\n",
    "\n",
    "**클래스로 만든 객체의 객체변수는 다른 객체의 객체변수에 상관없이 독립적인 값을 유지한다.**"
   ]
  },
  {
   "cell_type": "code",
   "execution_count": 16,
   "id": "4ce20815",
   "metadata": {},
   "outputs": [
    {
     "data": {
      "text/plain": [
       "4348389824"
      ]
     },
     "execution_count": 16,
     "metadata": {},
     "output_type": "execute_result"
    }
   ],
   "source": [
    "# id 함수를 사용하면 객체변수가 독립적인 값을 유지한다는 점을 좀 더 명확하게 증명해 보일 수 있다\n",
    "# id 함수는 객체의 주소를 돌려주는 파이썬 내장 함수이다.\n",
    "a = FourCal()\n",
    "b = FourCal()\n",
    "a.setdata(4, 2)\n",
    "b.setdata(3, 7)\n",
    "id(a.first)"
   ]
  },
  {
   "cell_type": "code",
   "execution_count": 17,
   "id": "b5642d47",
   "metadata": {},
   "outputs": [
    {
     "data": {
      "text/plain": [
       "4348389792"
      ]
     },
     "execution_count": 17,
     "metadata": {},
     "output_type": "execute_result"
    }
   ],
   "source": [
    "id(b.first)"
   ]
  },
  {
   "cell_type": "markdown",
   "id": "ea3e5810",
   "metadata": {},
   "source": [
    "<span style=\"color:red\">객체변수는 그 객체의 고유 값을 저장할 수 있는 공간이다.</span>\n",
    "\n",
    "**객체 변수는 다른 객체들 영향받지 않고 독립적으로 그 값을 유지한다는 점을 꼭 기억하자.**\n",
    "\n",
    "클래스에서는 이 부분을 이해하는 것이 가장 중요하다."
   ]
  },
  {
   "cell_type": "code",
   "execution_count": 18,
   "id": "dbbfd29d",
   "metadata": {},
   "outputs": [],
   "source": [
    "# 다음은 현재까지 완성된 FourCal 클래스이다."
   ]
  },
  {
   "cell_type": "code",
   "execution_count": 19,
   "id": "10d4b949",
   "metadata": {},
   "outputs": [],
   "source": [
    "class FourCal:\n",
    "    def setdata(self, first, second):\n",
    "        self.first = first\n",
    "        self.second = second\n"
   ]
  },
  {
   "cell_type": "markdown",
   "id": "bba58d87",
   "metadata": {},
   "source": [
    "지금까지 살펴본 내용이 바로 위 4줄을 설명하기 위한 것이었다. \n",
    "\n",
    "위에서 설명한 것들이 이해가 되지 않는다면 다시 한 번 읽어 보기 바란다. 이 부분을 이해하지 못하면 다음으로 넘어갈수 없기 때문이다."
   ]
  },
  {
   "cell_type": "markdown",
   "id": "decc5d83",
   "metadata": {},
   "source": [
    "### 더하기 기능 만들기\n",
    "\n",
    "그럼 2개의 숫자 값을 설정해 주었으니 2개의 숫자를 더하는 기능을 방금 만든 클래스에 추가해 보자. "
   ]
  },
  {
   "cell_type": "markdown",
   "id": "0fc4d835",
   "metadata": {},
   "source": [
    "```\n",
    "a = FourCal()\n",
    "a.setdata(4, 2)\n",
    "print(a.add())\n",
    "6\n",
    "```\n",
    "이 연산이 가능하도록 다음과 같이 FourCal 클래스를 만들어 보자."
   ]
  },
  {
   "cell_type": "code",
   "execution_count": 20,
   "id": "7d020969",
   "metadata": {},
   "outputs": [],
   "source": [
    "class FourCal:\n",
    "    def setdata(self, first, second):\n",
    "        self.first = first\n",
    "        self.second = second\n",
    "    def add(self):\n",
    "        result = self.first + self.second\n",
    "        return result\n"
   ]
  },
  {
   "cell_type": "code",
   "execution_count": 21,
   "id": "c82c6301",
   "metadata": {},
   "outputs": [],
   "source": [
    "# 새롭게 추가된 것은 add 메서드이다. 이제 클래스를 사용해 보자.\n",
    "\n",
    "a = FourCal()\n",
    "a.setdata(4, 2)"
   ]
  },
  {
   "cell_type": "code",
   "execution_count": 22,
   "id": "527c9df9",
   "metadata": {},
   "outputs": [
    {
     "name": "stdout",
     "output_type": "stream",
     "text": [
      "6\n"
     ]
    }
   ],
   "source": [
    "# 이제 add 메서드를 호출해 보자.\n",
    "print(a.add())"
   ]
  },
  {
   "cell_type": "markdown",
   "id": "e7ab7be4",
   "metadata": {},
   "source": [
    "`a.add()`라고 호출하면 add 메서드가 호출되어 값 6이 출력될 것이다. \n",
    "\n",
    "#### 어떤 과정을 거쳐 값 6이 출력되는지 add 메서드를 따로 떼어 내서 자세히 살펴보자."
   ]
  },
  {
   "cell_type": "markdown",
   "id": "f0eb39b9",
   "metadata": {},
   "source": [
    "```\n",
    "def add(self):\n",
    "    result = self.first + self.second\n",
    "    return result\n",
    "```\n",
    "add 메서드의 매개변수는 self이고 반환 값은 result이다. 반환 값인 result를 계산하는 부분은 다음과 같다.\n",
    "\n",
    "```\n",
    "result = self.first + self.second\n",
    "```\n",
    "`a.add()`와 같이 a 객체에 의해 add 메서드가 수행되면 add 메서드의 self에는 객체 a가 자동으로 입력되므로 위 내용은 다음과 같이 해석한다.\n",
    "\n",
    "```\n",
    "result = a.first + a.second\n",
    "```\n",
    "위 내용은 `a.add()` 메서드 호출 전에 `a.setdata(4, 2)` 가 먼저 호출되어 `a.first = 4, a.second = 2` 라고 이미 설정되었기 때문에 다시 다음과 같이 해석한다.\n",
    "\n",
    "```\n",
    "result = 4 + 2\n",
    "```\n",
    "\n",
    "따라서 다음과 같이 `a.add()`를 호출하면 6을 돌려준다.\n",
    "```\n",
    "print(a.add())\n",
    "6\n",
    "```\n"
   ]
  },
  {
   "cell_type": "markdown",
   "id": "452f95c6",
   "metadata": {},
   "source": [
    "### 곱하기, 빼기, 나누기 기능 만들기\n",
    "\n",
    "이번에는 곱하기, 빼기, 나누기 등을 할 수 있게 프로그램을 만들어 보자."
   ]
  },
  {
   "cell_type": "code",
   "execution_count": 23,
   "id": "dd18b70d",
   "metadata": {},
   "outputs": [],
   "source": [
    "class FourCal:\n",
    "    def setdata(self, first, second):\n",
    "        self.first = first\n",
    "        self.second = second\n",
    "    def add(self):\n",
    "        result = self.first + self.second\n",
    "        return result\n",
    "    def mul(self):\n",
    "        result = self.first * self.second\n",
    "        return result\n",
    "    def sub(self):\n",
    "        result = self.first - self.second\n",
    "        return result\n",
    "    def div(self):\n",
    "        result = self.first / self.second\n",
    "        return result"
   ]
  },
  {
   "cell_type": "code",
   "execution_count": 24,
   "id": "a9924980",
   "metadata": {},
   "outputs": [],
   "source": [
    "a = FourCal()\n",
    "b = FourCal()\n",
    "a.setdata(4, 2)\n",
    "b.setdata(3, 8)"
   ]
  },
  {
   "cell_type": "code",
   "execution_count": 25,
   "id": "d29678f9",
   "metadata": {},
   "outputs": [
    {
     "data": {
      "text/plain": [
       "6"
      ]
     },
     "execution_count": 25,
     "metadata": {},
     "output_type": "execute_result"
    }
   ],
   "source": [
    "a.add()"
   ]
  },
  {
   "cell_type": "code",
   "execution_count": 26,
   "id": "70a2b59e",
   "metadata": {},
   "outputs": [
    {
     "data": {
      "text/plain": [
       "8"
      ]
     },
     "execution_count": 26,
     "metadata": {},
     "output_type": "execute_result"
    }
   ],
   "source": [
    "a.mul()"
   ]
  },
  {
   "cell_type": "code",
   "execution_count": 27,
   "id": "620485fb",
   "metadata": {},
   "outputs": [
    {
     "data": {
      "text/plain": [
       "2"
      ]
     },
     "execution_count": 27,
     "metadata": {},
     "output_type": "execute_result"
    }
   ],
   "source": [
    "a.sub()"
   ]
  },
  {
   "cell_type": "code",
   "execution_count": 28,
   "id": "657cc9cd",
   "metadata": {},
   "outputs": [
    {
     "data": {
      "text/plain": [
       "2.0"
      ]
     },
     "execution_count": 28,
     "metadata": {},
     "output_type": "execute_result"
    }
   ],
   "source": [
    "a.div()"
   ]
  },
  {
   "cell_type": "code",
   "execution_count": 29,
   "id": "c4084159",
   "metadata": {},
   "outputs": [
    {
     "data": {
      "text/plain": [
       "11"
      ]
     },
     "execution_count": 29,
     "metadata": {},
     "output_type": "execute_result"
    }
   ],
   "source": [
    "b.add()"
   ]
  },
  {
   "cell_type": "code",
   "execution_count": 30,
   "id": "cb5c85d6",
   "metadata": {},
   "outputs": [
    {
     "data": {
      "text/plain": [
       "24"
      ]
     },
     "execution_count": 30,
     "metadata": {},
     "output_type": "execute_result"
    }
   ],
   "source": [
    "b.mul()"
   ]
  },
  {
   "cell_type": "code",
   "execution_count": 31,
   "id": "64f8fc27",
   "metadata": {},
   "outputs": [
    {
     "data": {
      "text/plain": [
       "-5"
      ]
     },
     "execution_count": 31,
     "metadata": {},
     "output_type": "execute_result"
    }
   ],
   "source": [
    "b.sub()"
   ]
  },
  {
   "cell_type": "code",
   "execution_count": 32,
   "id": "e66d8bb7",
   "metadata": {},
   "outputs": [
    {
     "data": {
      "text/plain": [
       "0.375"
      ]
     },
     "execution_count": 32,
     "metadata": {},
     "output_type": "execute_result"
    }
   ],
   "source": [
    "b.div()"
   ]
  },
  {
   "cell_type": "code",
   "execution_count": 33,
   "id": "b95dafe3",
   "metadata": {},
   "outputs": [],
   "source": [
    "# 여기까지 내가 목표로 한 사칙연산 기능을 가진 클래스를 만들어 보았다."
   ]
  },
  {
   "cell_type": "markdown",
   "id": "cc6b46c9",
   "metadata": {},
   "source": [
    "## 생성자 (Constructor)"
   ]
  },
  {
   "cell_type": "code",
   "execution_count": 34,
   "id": "b68c607c",
   "metadata": {},
   "outputs": [
    {
     "ename": "AttributeError",
     "evalue": "'FourCal' object has no attribute 'first'",
     "output_type": "error",
     "traceback": [
      "\u001b[0;31m---------------------------------------------------------------------------\u001b[0m",
      "\u001b[0;31mAttributeError\u001b[0m                            Traceback (most recent call last)",
      "\u001b[0;32m<ipython-input-34-b6f9de586d9c>\u001b[0m in \u001b[0;36m<module>\u001b[0;34m\u001b[0m\n\u001b[1;32m      1\u001b[0m \u001b[0;31m# 이번에는 우리가 만든 FourCal 클래스를 다음과 같이 사용해 보자.\u001b[0m\u001b[0;34m\u001b[0m\u001b[0;34m\u001b[0m\u001b[0;34m\u001b[0m\u001b[0m\n\u001b[1;32m      2\u001b[0m \u001b[0ma\u001b[0m \u001b[0;34m=\u001b[0m \u001b[0mFourCal\u001b[0m\u001b[0;34m(\u001b[0m\u001b[0;34m)\u001b[0m\u001b[0;34m\u001b[0m\u001b[0;34m\u001b[0m\u001b[0m\n\u001b[0;32m----> 3\u001b[0;31m \u001b[0ma\u001b[0m\u001b[0;34m.\u001b[0m\u001b[0madd\u001b[0m\u001b[0;34m(\u001b[0m\u001b[0;34m)\u001b[0m\u001b[0;34m\u001b[0m\u001b[0;34m\u001b[0m\u001b[0m\n\u001b[0m",
      "\u001b[0;32m<ipython-input-23-395058f0395a>\u001b[0m in \u001b[0;36madd\u001b[0;34m(self)\u001b[0m\n\u001b[1;32m      4\u001b[0m         \u001b[0mself\u001b[0m\u001b[0;34m.\u001b[0m\u001b[0msecond\u001b[0m \u001b[0;34m=\u001b[0m \u001b[0msecond\u001b[0m\u001b[0;34m\u001b[0m\u001b[0;34m\u001b[0m\u001b[0m\n\u001b[1;32m      5\u001b[0m     \u001b[0;32mdef\u001b[0m \u001b[0madd\u001b[0m\u001b[0;34m(\u001b[0m\u001b[0mself\u001b[0m\u001b[0;34m)\u001b[0m\u001b[0;34m:\u001b[0m\u001b[0;34m\u001b[0m\u001b[0;34m\u001b[0m\u001b[0m\n\u001b[0;32m----> 6\u001b[0;31m         \u001b[0mresult\u001b[0m \u001b[0;34m=\u001b[0m \u001b[0mself\u001b[0m\u001b[0;34m.\u001b[0m\u001b[0mfirst\u001b[0m \u001b[0;34m+\u001b[0m \u001b[0mself\u001b[0m\u001b[0;34m.\u001b[0m\u001b[0msecond\u001b[0m\u001b[0;34m\u001b[0m\u001b[0;34m\u001b[0m\u001b[0m\n\u001b[0m\u001b[1;32m      7\u001b[0m         \u001b[0;32mreturn\u001b[0m \u001b[0mresult\u001b[0m\u001b[0;34m\u001b[0m\u001b[0;34m\u001b[0m\u001b[0m\n\u001b[1;32m      8\u001b[0m     \u001b[0;32mdef\u001b[0m \u001b[0mmul\u001b[0m\u001b[0;34m(\u001b[0m\u001b[0mself\u001b[0m\u001b[0;34m)\u001b[0m\u001b[0;34m:\u001b[0m\u001b[0;34m\u001b[0m\u001b[0;34m\u001b[0m\u001b[0m\n",
      "\u001b[0;31mAttributeError\u001b[0m: 'FourCal' object has no attribute 'first'"
     ]
    }
   ],
   "source": [
    "# 이번에는 우리가 만든 FourCal 클래스를 다음과 같이 사용해 보자.\n",
    "a = FourCal()\n",
    "a.add()"
   ]
  },
  {
   "cell_type": "markdown",
   "id": "94c1207d",
   "metadata": {},
   "source": [
    "FourCal 클래스의 인스턴스 a에 setdata 메서드를 수행하지 않고 add 메서드를 수행하면 \"AttributeError: 'FourCal' object has no attribute 'first'\" 오류가 발생한다. setdata 메서드를 수행해야 객체 a의 객체변수 first와 second가 생성되기 때문이다."
   ]
  },
  {
   "cell_type": "markdown",
   "id": "cf0d38d0",
   "metadata": {},
   "source": [
    "이렇게 객체에 초깃값을 설정해야 할 필요가 있을 때는 setdata와 같은 메서드를 호출하여 초깃값을 설정하기보다는 생성자를 구현하는 것이 안전한 방법이다. \n",
    "\n",
    "**생성자(Constructor)**란 객체가 생성될 때 자동으로 호출되는 메서드를 의미한다.\n",
    "\n",
    "파이썬 메서드 이름으로 `__init__`를 사용하면 이 메서드는 생성자가 된다. 다음과 같이 FourCal 클래스에 생성자를 추가해 보자.\n",
    "\n",
    ">  `__init__ `메서드의 init 앞뒤로 붙은 `__`는 언더스코어(`_`) 두 개를 붙여 쓴 것이다."
   ]
  },
  {
   "cell_type": "code",
   "execution_count": 35,
   "id": "c016e1c8",
   "metadata": {},
   "outputs": [],
   "source": [
    "class FourCal:\n",
    "    def __init__(self, first, second):\n",
    "        self.first = first\n",
    "        self.second = second\n",
    "    def setdata(self, first, second):\n",
    "        self.first = first\n",
    "        self.second = second\n",
    "    def add(self):\n",
    "        result = self.first + self.second\n",
    "        return result\n",
    "    def mul(self):\n",
    "        result = self.first * self.second\n",
    "        return result\n",
    "    def sub(self):\n",
    "        result = self.first - self.second\n",
    "        return result\n",
    "    def div(self):\n",
    "        result = self.first / self.second\n",
    "        return result"
   ]
  },
  {
   "cell_type": "markdown",
   "id": "e50920f8",
   "metadata": {},
   "source": [
    "새롭게 추가된 생성자 `__init__` 메서드만 따로 떼어 내서 살펴보자.\n",
    "```\n",
    "def __init__(self, first, second):\n",
    "    self.first = first\n",
    "    self.second = second\n",
    "```\n",
    "\n",
    "`__init__` 메서드는 setdata 메서드와 이름만 다르고 모든 게 동일하다. 단 메서드 이름을 `__init__`으로 했기 때문에 생성자로 인식되어 객체가 생성되는 시점에 자동으로 호출되는 차이가 있다."
   ]
  },
  {
   "cell_type": "code",
   "execution_count": 36,
   "id": "06dd07a1",
   "metadata": {},
   "outputs": [],
   "source": [
    "# 이제 다음처럼 예제를 수행해 보자."
   ]
  },
  {
   "cell_type": "code",
   "execution_count": 37,
   "id": "b6dba3cf",
   "metadata": {},
   "outputs": [
    {
     "ename": "TypeError",
     "evalue": "__init__() missing 2 required positional arguments: 'first' and 'second'",
     "output_type": "error",
     "traceback": [
      "\u001b[0;31m---------------------------------------------------------------------------\u001b[0m",
      "\u001b[0;31mTypeError\u001b[0m                                 Traceback (most recent call last)",
      "\u001b[0;32m<ipython-input-37-5cfa1e393ba9>\u001b[0m in \u001b[0;36m<module>\u001b[0;34m\u001b[0m\n\u001b[0;32m----> 1\u001b[0;31m \u001b[0ma\u001b[0m \u001b[0;34m=\u001b[0m \u001b[0mFourCal\u001b[0m\u001b[0;34m(\u001b[0m\u001b[0;34m)\u001b[0m\u001b[0;34m\u001b[0m\u001b[0;34m\u001b[0m\u001b[0m\n\u001b[0m",
      "\u001b[0;31mTypeError\u001b[0m: __init__() missing 2 required positional arguments: 'first' and 'second'"
     ]
    }
   ],
   "source": [
    "a = FourCal()"
   ]
  },
  {
   "cell_type": "markdown",
   "id": "0182b8ad",
   "metadata": {},
   "source": [
    "`a = FourCal()`을 수행할 때 생성자 `__init__`이 호출되어 위와 같은 오류가 발생했다. 오류가 발생한 이유는 생성자의 매개변수 first와 second에 해당하는 값이 전달되지 않았기 때문이다.\n"
   ]
  },
  {
   "cell_type": "code",
   "execution_count": 38,
   "id": "9d01752b",
   "metadata": {},
   "outputs": [],
   "source": [
    "# 위 오류를 해결하려면 다음처럼 first와 second에 해당되는 값을 전달하여 객체를 생성해야 한다.\n",
    "a = FourCal(4, 2)\n"
   ]
  },
  {
   "cell_type": "code",
   "execution_count": 39,
   "id": "877df1c2",
   "metadata": {},
   "outputs": [],
   "source": [
    "# 위와 같이 수행하면 __init__ 메서드의 매개변수에는 각각 오른쪽과 같은 값이 대입된다."
   ]
  },
  {
   "cell_type": "markdown",
   "id": "4d8fbabc",
   "metadata": {},
   "source": [
    "|매개변수|값|\n",
    "|---|---|\n",
    "|self|생성되는 객체|\n",
    "|first|4|\n",
    "|second|2|\n",
    "\n",
    "> `__init__` 메서드도 다른 메서드와 마찬가지로 첫 번째 매개변수 self에 생성되는 객체가 자동으로 전달된다는 점을 기억하자.\n",
    "\n",
    "따라서 __init__ 메서드가 호출되면 setdata 메서드를 호출했을 때와 마찬가지로 first와 second라는 객체변수가 생성될 것이다."
   ]
  },
  {
   "cell_type": "code",
   "execution_count": 40,
   "id": "34c953d5",
   "metadata": {},
   "outputs": [
    {
     "name": "stdout",
     "output_type": "stream",
     "text": [
      "4\n"
     ]
    }
   ],
   "source": [
    "# 다음과 같이 객체변수의 값을 확인해보자.\n",
    "a = FourCal(4, 2)\n",
    "print(a.first)\n"
   ]
  },
  {
   "cell_type": "code",
   "execution_count": 41,
   "id": "3da070f3",
   "metadata": {},
   "outputs": [
    {
     "name": "stdout",
     "output_type": "stream",
     "text": [
      "2\n"
     ]
    }
   ],
   "source": [
    "print(a.second)"
   ]
  },
  {
   "cell_type": "code",
   "execution_count": 42,
   "id": "ef52cd04",
   "metadata": {},
   "outputs": [
    {
     "data": {
      "text/plain": [
       "6"
      ]
     },
     "execution_count": 42,
     "metadata": {},
     "output_type": "execute_result"
    }
   ],
   "source": [
    "# add나 div 등의 메서드도 잘 동작하는지 확인해 보자.\n",
    "a = FourCal(4,2)\n",
    "a.add()"
   ]
  },
  {
   "cell_type": "code",
   "execution_count": 43,
   "id": "72b05c4e",
   "metadata": {},
   "outputs": [
    {
     "data": {
      "text/plain": [
       "2.0"
      ]
     },
     "execution_count": 43,
     "metadata": {},
     "output_type": "execute_result"
    }
   ],
   "source": [
    "a.div()"
   ]
  },
  {
   "cell_type": "code",
   "execution_count": 44,
   "id": "f0e960cd",
   "metadata": {},
   "outputs": [],
   "source": [
    "# 이상 없이 잘 동작하는 것을 확인할 수 있다."
   ]
  },
  {
   "cell_type": "markdown",
   "id": "2607dbdd",
   "metadata": {},
   "source": [
    "## 클래스의 상속\n",
    "\n",
    "상속이란 어떤 클래스를 만들 때 다른 클래스의 기능을 물려받을 수 있게 만드는 것이다.\n",
    "\n",
    "앞에서 FourCal 클래스는 이미 만들어 놓았으므로 FourCal 클래스를 상속하는 MoreFourCal 클래스는 다음과 같이 간단하게 만들 수 있다.\n",
    "\n",
    "클래스를 상속하기 위해서는 다음처럼 클래스 이름 뒤 괄호 안에 상속할 클래스 이름을 넣어주면 된다."
   ]
  },
  {
   "cell_type": "code",
   "execution_count": 45,
   "id": "2a39b12e",
   "metadata": {},
   "outputs": [],
   "source": [
    "class MoreFourCal(FourCal):\n",
    "    pass"
   ]
  },
  {
   "cell_type": "markdown",
   "id": "4a60396a",
   "metadata": {},
   "source": [
    "클래스를 상속하기 위해서는 다음처럼 클래스 이름 뒤 괄호 안에 상속할 클래스 이름을 넣어주면 된다.\n",
    "\n",
    "> **class 클래스 이름(상속할 클래스 이름)**\n",
    "\n",
    "MoreFourCal 클래스는 FourCal 클래스를 상속했으므로 FourCal 클래스의 모든 기능을 사용할 수 있어야 한다.\n"
   ]
  },
  {
   "cell_type": "code",
   "execution_count": 46,
   "id": "065508ab",
   "metadata": {},
   "outputs": [
    {
     "data": {
      "text/plain": [
       "6"
      ]
     },
     "execution_count": 46,
     "metadata": {},
     "output_type": "execute_result"
    }
   ],
   "source": [
    "# 다음과 같이 확인해 보자.\n",
    "\n",
    "a = MoreFourCal(4, 2)\n",
    "a.add()"
   ]
  },
  {
   "cell_type": "code",
   "execution_count": 47,
   "id": "ef51076c",
   "metadata": {},
   "outputs": [
    {
     "data": {
      "text/plain": [
       "8"
      ]
     },
     "execution_count": 47,
     "metadata": {},
     "output_type": "execute_result"
    }
   ],
   "source": [
    "a.mul()"
   ]
  },
  {
   "cell_type": "code",
   "execution_count": 48,
   "id": "2eba9c09",
   "metadata": {},
   "outputs": [
    {
     "data": {
      "text/plain": [
       "2"
      ]
     },
     "execution_count": 48,
     "metadata": {},
     "output_type": "execute_result"
    }
   ],
   "source": [
    "a.sub()"
   ]
  },
  {
   "cell_type": "code",
   "execution_count": 49,
   "id": "ed9af117",
   "metadata": {},
   "outputs": [
    {
     "data": {
      "text/plain": [
       "2.0"
      ]
     },
     "execution_count": 49,
     "metadata": {},
     "output_type": "execute_result"
    }
   ],
   "source": [
    "a.div()"
   ]
  },
  {
   "cell_type": "code",
   "execution_count": 50,
   "id": "e4e7ae7b",
   "metadata": {},
   "outputs": [],
   "source": [
    "# 상속받은 FourCal 클래스의 기능을 모두 사용할 수 있음을 확인할 수 있다."
   ]
  },
  {
   "cell_type": "markdown",
   "id": "9bf456a6",
   "metadata": {},
   "source": [
    "#### 왜 상속을 해야 할까?\n",
    "\n",
    "보통 상속은 기존 클래스를 변경하지 않고 기능을 추가하거나 기존 기능을 변경하려고 할 때 사용한다.\n",
    "\n",
    " 기존 클래스가 라이브러리 형태로 제공되거나 수정이 허용되지 않는 상황이라면 상속을 사용해야 한다."
   ]
  },
  {
   "cell_type": "code",
   "execution_count": 51,
   "id": "2730ce89",
   "metadata": {},
   "outputs": [],
   "source": [
    "# 이제 원래 목적인 a의 b제곱(a^b)을 계산하는 MoreFourCal 클래스를 만들어 보자.\n",
    "\n",
    "class MoreFourCal(FourCal):\n",
    "    def pow(self):\n",
    "        result = self.first ** self.second\n",
    "        return result\n",
    "# pass 문장은 삭제하고 위와 같이 두 수의 거듭제곱을 구할 수 있는 pow 메서드를 추가해 주었다."
   ]
  },
  {
   "cell_type": "code",
   "execution_count": 52,
   "id": "0578819b",
   "metadata": {},
   "outputs": [
    {
     "data": {
      "text/plain": [
       "16"
      ]
     },
     "execution_count": 52,
     "metadata": {},
     "output_type": "execute_result"
    }
   ],
   "source": [
    "# 그리고 다음과 같이 pow 메서드를 수행해 보자.\n",
    "a = MoreFourCal(4, 2)\n",
    "a.pow()"
   ]
  },
  {
   "cell_type": "markdown",
   "id": "6a3ed2f7",
   "metadata": {},
   "source": [
    "MoreFourCal 클래스로 만든 a 객체에 값 4와 2를 설정한 후 pow 메서드를 호출하면 4의 2제곱 (4<sup>2</sup>)인 16을 돌려주는 것을 확인할 수 있다.\n",
    "\n",
    "**상속은 MoreFourCal 클래스처럼 기존 클래스(FourCal)는 그대로 놔둔 채 클래스의 기능을 확장시킬 때 주로 사용한다.**"
   ]
  },
  {
   "cell_type": "markdown",
   "id": "14821715",
   "metadata": {},
   "source": [
    "## 메서드 오버라이딩"
   ]
  },
  {
   "cell_type": "code",
   "execution_count": 53,
   "id": "52f0150a",
   "metadata": {},
   "outputs": [
    {
     "ename": "ZeroDivisionError",
     "evalue": "division by zero",
     "output_type": "error",
     "traceback": [
      "\u001b[0;31m---------------------------------------------------------------------------\u001b[0m",
      "\u001b[0;31mZeroDivisionError\u001b[0m                         Traceback (most recent call last)",
      "\u001b[0;32m<ipython-input-53-83ff301a64e5>\u001b[0m in \u001b[0;36m<module>\u001b[0;34m\u001b[0m\n\u001b[1;32m      1\u001b[0m \u001b[0;31m# 이번에는 FourCal 클래스를 다음과 같이 실행해 보자.\u001b[0m\u001b[0;34m\u001b[0m\u001b[0;34m\u001b[0m\u001b[0;34m\u001b[0m\u001b[0m\n\u001b[1;32m      2\u001b[0m \u001b[0ma\u001b[0m \u001b[0;34m=\u001b[0m \u001b[0mFourCal\u001b[0m\u001b[0;34m(\u001b[0m\u001b[0;36m4\u001b[0m\u001b[0;34m,\u001b[0m \u001b[0;36m0\u001b[0m\u001b[0;34m)\u001b[0m\u001b[0;34m\u001b[0m\u001b[0;34m\u001b[0m\u001b[0m\n\u001b[0;32m----> 3\u001b[0;31m \u001b[0ma\u001b[0m\u001b[0;34m.\u001b[0m\u001b[0mdiv\u001b[0m\u001b[0;34m(\u001b[0m\u001b[0;34m)\u001b[0m\u001b[0;34m\u001b[0m\u001b[0;34m\u001b[0m\u001b[0m\n\u001b[0m",
      "\u001b[0;32m<ipython-input-35-1dea4f7a912b>\u001b[0m in \u001b[0;36mdiv\u001b[0;34m(self)\u001b[0m\n\u001b[1;32m     16\u001b[0m         \u001b[0;32mreturn\u001b[0m \u001b[0mresult\u001b[0m\u001b[0;34m\u001b[0m\u001b[0;34m\u001b[0m\u001b[0m\n\u001b[1;32m     17\u001b[0m     \u001b[0;32mdef\u001b[0m \u001b[0mdiv\u001b[0m\u001b[0;34m(\u001b[0m\u001b[0mself\u001b[0m\u001b[0;34m)\u001b[0m\u001b[0;34m:\u001b[0m\u001b[0;34m\u001b[0m\u001b[0;34m\u001b[0m\u001b[0m\n\u001b[0;32m---> 18\u001b[0;31m         \u001b[0mresult\u001b[0m \u001b[0;34m=\u001b[0m \u001b[0mself\u001b[0m\u001b[0;34m.\u001b[0m\u001b[0mfirst\u001b[0m \u001b[0;34m/\u001b[0m \u001b[0mself\u001b[0m\u001b[0;34m.\u001b[0m\u001b[0msecond\u001b[0m\u001b[0;34m\u001b[0m\u001b[0;34m\u001b[0m\u001b[0m\n\u001b[0m\u001b[1;32m     19\u001b[0m         \u001b[0;32mreturn\u001b[0m \u001b[0mresult\u001b[0m\u001b[0;34m\u001b[0m\u001b[0;34m\u001b[0m\u001b[0m\n",
      "\u001b[0;31mZeroDivisionError\u001b[0m: division by zero"
     ]
    }
   ],
   "source": [
    "# 이번에는 FourCal 클래스를 다음과 같이 실행해 보자.\n",
    "a = FourCal(4, 0)\n",
    "a.div()"
   ]
  },
  {
   "cell_type": "markdown",
   "id": "c47dfeb8",
   "metadata": {},
   "source": [
    "FourCal 클래스의 객체 a에 4와 0 값을 설정하고 div 메서드를 호출하면 4를 0으로 나누려고 하기 때문에 위와 같은 ZeroDivisionError 오류가 발생한다. 하지만 0으로 나눌 때 오류가 아닌 0을 돌려주도록 만들고 싶다면 어떻게 해야 할까?"
   ]
  },
  {
   "cell_type": "code",
   "execution_count": 54,
   "id": "5f5727db",
   "metadata": {},
   "outputs": [],
   "source": [
    "# 다음과 같이 FourCal 클래스를 상속하는 SafeFourCal 클래스를 만들어 보자.\n",
    "class SafeFourCal(FourCal):\n",
    "    def div(self):\n",
    "        if self.second == 0: # 나누는 값이 0인 경우 0을 리턴하도록 수정\n",
    "            return 0\n",
    "        else:\n",
    "            return self.first / self.second"
   ]
  },
  {
   "cell_type": "markdown",
   "id": "95545348",
   "metadata": {},
   "source": [
    "SafeFourCal 클래스는 FourCal 클래스에 있는 div 메서드를 동일한 이름으로 다시 작성하였다.\n",
    "\n",
    "이렇게 부모 클래스(상속한 클래스)에 있는 메서드를 동일한 이름으로 다시 만드는 것을\n",
    "\n",
    "**메서드 오버라이딩(Overriding, 덮어쓰기)**이라고 한다.\n",
    "\n",
    "이렇게 메서드를 오버라이딩하면 부모클래스의 메서드 대신 오버라이딩한 메서드가 호출된다.\n",
    "\n",
    "SafeFourCal 클래스에 오버라이딩한 div 메서드는 나누는 값이 0인 경우에는 0을 돌려주도록 수정했다. 이제 다시 위에서 수행한 예제를 FourCal 클래스 대신 SafeFourCal 클래스를 사용하여 수행해 보자.\n",
    "\n",
    "=> div : 부모클래스의 메서드 -> 오버라이딩한 메서드 로 수정되어진다."
   ]
  },
  {
   "cell_type": "code",
   "execution_count": 55,
   "id": "0e4255b6",
   "metadata": {},
   "outputs": [
    {
     "data": {
      "text/plain": [
       "0"
      ]
     },
     "execution_count": 55,
     "metadata": {},
     "output_type": "execute_result"
    }
   ],
   "source": [
    "a = SafeFourCal(4, 0)\n",
    "a.div()"
   ]
  },
  {
   "cell_type": "code",
   "execution_count": 56,
   "id": "ff9ab0d3",
   "metadata": {},
   "outputs": [],
   "source": [
    "# FourCal 클래스와는 달리 \n",
    "# ZeroDivisionError가 발생하지 않고 의도한 대로 0을 돌려주는 것을 확인할 수 있을 것이다."
   ]
  },
  {
   "cell_type": "markdown",
   "id": "18dbcb38",
   "metadata": {},
   "source": [
    "## 클래스 변수\n",
    "\n",
    "객체변수는 다른 객체들에 영향받지 않고 독립적으로 그 값을 유지한다는 점을 이미 알아보았다. 이번에는 객체변수와는 성격이 다른 클래스 변수에 대해 알아보자."
   ]
  },
  {
   "cell_type": "code",
   "execution_count": 57,
   "id": "96d78151",
   "metadata": {},
   "outputs": [],
   "source": [
    "# 다음 클래스를 작성해 보자.\n",
    "class Family:\n",
    "    lastname = \"문\"\n",
    "    "
   ]
  },
  {
   "cell_type": "markdown",
   "id": "44e61154",
   "metadata": {},
   "source": [
    "Family 클래스에 선언한 lastname이 바로 클래스 변수이다.\n",
    "\n",
    "클래스 변수는 클래스 안에 함수를 선언하는 것과 마찬가지로 클래스 안에 변수를 선언하여 생성한다."
   ]
  },
  {
   "cell_type": "code",
   "execution_count": 58,
   "id": "e49b9d47",
   "metadata": {},
   "outputs": [
    {
     "name": "stdout",
     "output_type": "stream",
     "text": [
      "문\n"
     ]
    }
   ],
   "source": [
    "# 이제 Family 클래스를 다음과 같이 사용해 보자.\n",
    "print(Family.lastname)"
   ]
  },
  {
   "cell_type": "markdown",
   "id": "3e61cf33",
   "metadata": {},
   "source": [
    "클래스 변수는 위 예와 같이 <span style=\"color:red\">클래스이름.클래스 변수</span>로 사용할 수 있다."
   ]
  },
  {
   "cell_type": "code",
   "execution_count": 59,
   "id": "2db6369f",
   "metadata": {},
   "outputs": [
    {
     "name": "stdout",
     "output_type": "stream",
     "text": [
      "문\n",
      "문\n"
     ]
    }
   ],
   "source": [
    "# 또는 다음과 같이 Family 클래스로 만든 객체를 통해서도 클래스 변수를 사용할 수 있다.\n",
    "a = Family()\n",
    "b = Family()\n",
    "print(a.lastname)\n",
    "print(b.lastname)"
   ]
  },
  {
   "cell_type": "code",
   "execution_count": 60,
   "id": "dd32c6ef",
   "metadata": {},
   "outputs": [],
   "source": [
    "# 만약 Family 클래스의 lastname을 다음과 같이 \"용\"이라는 문자열로 바꾸면 어떻게 될까?\n",
    "Family.lastname = \"용\""
   ]
  },
  {
   "cell_type": "code",
   "execution_count": 61,
   "id": "b5008d15",
   "metadata": {},
   "outputs": [
    {
     "name": "stdout",
     "output_type": "stream",
     "text": [
      "용\n",
      "용\n"
     ]
    }
   ],
   "source": [
    "# 다음과 같이 확인해 보자.\n",
    "print(a.lastname)\n",
    "print(b.lastname)"
   ]
  },
  {
   "cell_type": "markdown",
   "id": "ef71d4df",
   "metadata": {},
   "source": [
    "클래스 변수 값을 변경했더니 클래스로 만든 객체의 lastname 값도 모두 변경된다는 것을 확인할 수 있다.\n",
    "\n",
    "**즉 클래스 변수는 클래스로 만든 모든 객체에 공유된다**는 특징이 있다."
   ]
  },
  {
   "cell_type": "code",
   "execution_count": 62,
   "id": "9f012708",
   "metadata": {},
   "outputs": [
    {
     "data": {
      "text/plain": [
       "140519384703344"
      ]
     },
     "execution_count": 62,
     "metadata": {},
     "output_type": "execute_result"
    }
   ],
   "source": [
    "# id 함수를 사용하면 클래스 변수가 공유된다는 사실을 증명할 수 있다.\n",
    "id(Family.lastname)\n",
    "#id(a.lastname)\n",
    "#id(b.lastname)"
   ]
  },
  {
   "cell_type": "markdown",
   "id": "cb607103",
   "metadata": {},
   "source": [
    "id 값이 모두 같으므로 `Family.lastname`, `a.lastname`, `b.lastname`은 모두 같은 메모리를 가리키고 있다."
   ]
  },
  {
   "cell_type": "code",
   "execution_count": null,
   "id": "533a1423",
   "metadata": {},
   "outputs": [],
   "source": []
  }
 ],
 "metadata": {
  "kernelspec": {
   "display_name": "Python 3",
   "language": "python",
   "name": "python3"
  },
  "language_info": {
   "codemirror_mode": {
    "name": "ipython",
    "version": 3
   },
   "file_extension": ".py",
   "mimetype": "text/x-python",
   "name": "python",
   "nbconvert_exporter": "python",
   "pygments_lexer": "ipython3",
   "version": "3.8.8"
  }
 },
 "nbformat": 4,
 "nbformat_minor": 5
}
