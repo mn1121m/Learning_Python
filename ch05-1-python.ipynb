{
 "cells": [
  {
   "cell_type": "markdown",
   "id": "89581aab",
   "metadata": {},
   "source": [
    "# \"CH05-1. 파이썬 날개달기\"\n",
    "> Classes, Modules, Packages\n",
    "\n",
    "## 목차\n",
    "\n",
    "[05-1 Classes](#05-1-클래스)\n",
    "\n",
    "[05-2 Modules](#05-2-모듈)\n",
    "\n",
    "[05-3 Packages](#05-3-패키지)"
   ]
  },
  {
   "cell_type": "markdown",
   "id": "9d3969fe",
   "metadata": {},
   "source": [
    "# 05-1 클래스"
   ]
  },
  {
   "cell_type": "markdown",
   "id": "43ff39b3",
   "metadata": {},
   "source": [
    "## 클래스는 왜 필요한가 ?\n",
    "\n",
    "클래스를 사용하면 객체를 생성만 하기 되기 때문에 함수를 사용하는 경우와 달리 매우 간단해진다.\n",
    "\n",
    "예를 들면) 계산기 작업에서 한 프로그램에 2대의 계산기가 필요할 경우,\n",
    "\n",
    "함수를 사용할 때에는 전역변수 2개가 필요하지만,\n",
    "\n",
    "클래스를 사용할 때에는 클래스 한개를 선언해주고, 안에 두개의 객체를 생성만 하면 된다."
   ]
  },
  {
   "cell_type": "markdown",
   "id": "4ca05cad",
   "metadata": {},
   "source": [
    "## 클래스와 객체"
   ]
  },
  {
   "cell_type": "markdown",
   "id": "c8fe431b",
   "metadata": {},
   "source": [
    "예시 - 과자를 만드는 과자 틀과 그것을 사용해 만든 과자가 있다.\n",
    "\n",
    "- 과자 틀 -> 클래스 (class)\n",
    "- 과자 틀에 의해서 만들어진 과자 -> 객체(object)\n",
    "\n",
    "클래스(class)란 똑같은 무엇인가를 계속해서 만들어 낼 수 있는 설계 도면이고(과자 틀), 객체(object)란 클래스로 만든 피조물(과자 틀을 사용해 만든 과자)을 뜻한다.\n",
    "\n",
    "클래스로 만든 객체에는 중요한 특징이 있다. 바로 객체마다 고유한 성격을 가진다는 것이다. 과자 틀로 만든 과자에 구멍을 뚫거나 조금 베어 먹더라도 다른 과자에는 아무 영향이 없는 것과 마찬가지로 동일한 클래스로 만든 객체들은 서로 전혀 영향을 주지 않는다.\n",
    "\n",
    "객체는 클래스로 만들며 1개의 클래스는 무수히 많은 객체를 만들어 낼 수 있다. "
   ]
  },
  {
   "cell_type": "code",
   "execution_count": 1,
   "id": "59d20971",
   "metadata": {},
   "outputs": [],
   "source": [
    "class Cookie:\n",
    "    pass\n",
    "a = Cookie()\n",
    "b = Cookie()"
   ]
  },
  {
   "cell_type": "code",
   "execution_count": 2,
   "id": "615b601e",
   "metadata": {},
   "outputs": [],
   "source": [
    "# 위의 클래스는 아무 기능도 갖고 있지 않은 껍질뿐인 클래스이다. \n",
    "# Cookie()의 결괏값을 돌려받은 a와 b가 바로 객체이다."
   ]
  },
  {
   "cell_type": "markdown",
   "id": "84562ae9",
   "metadata": {},
   "source": [
    "**[객체와 인스턴스의 차이]**\n",
    "\n",
    "클래스로 만든 객체를 인스턴스라고도 한다. \n",
    "\n",
    "a = Cookie() 이렇게 만든 a는 객체이다. 그리고 a 객체는 Cookie의 인스턴스이다. \n",
    " \n",
    "즉 인스턴스라는 말은 특정 객체(a)가 어떤 클래스(Cookie)의 객체인지를 관계 위주로 설명할 때 사용한다. \n",
    "\"a는 인스턴스\"보다는 \"a는 객체\"라는 표현이 어울리며 \"a는 Cookie의 객체\"보다는 \"a는 Cookie의 인스턴스\"라는 표현이 훨씬 잘 어울린다."
   ]
  },
  {
   "cell_type": "markdown",
   "id": "3a57de0d",
   "metadata": {},
   "source": [
    "## 사칙연산 클래스 만들기\n",
    "\n",
    "여기에서는 사칙연산을 쉽게 해주는 클래스를 만들어 볼 것이다. 사칙연산은 더하기, 빼기, 나누기, 곱하기를 말한다.\n",
    "\n",
    "### 클래스를 어떻게 만들지 먼저 구상하기\n",
    "\n",
    "클래스는 무작정 만드는 것보다 클래스로 만든 객체를 중심으로 어떤 식으로 동작하게 할것인지 미리 구상을 한 후에 생각한 것들을 하나씩 해결하면서 완성해 나가는 것이 좋다.\n",
    "\n",
    "```\n",
    "a = FourCal() # 먼저 a = FourCal()를 입력해서 a라는 객체를 만든다.\n",
    "a.setdata(4, 2) # 그런 다음 a.setdata(4, 2)처럼 입력해서 숫자 4와 2를 a에 지정해 주고\n",
    "print(a.add()) # a.add()를 수행하면 두 수를 합한 결과(4 + 2)를 돌려주고\n",
    "print(a.mul()) # a.mul()을 수행하면 두 수를 곱한 결과(4 * 2)를 돌려주고\n",
    "print(a.sub()) # a.sub()를 수행하면 두 수를 뺀 결과(4 - 2)를 돌려주고\n",
    "print(a.div()) # a.div()를 수행하면 두 수를 나눈 결과(4 / 2)를 돌려준다.\n",
    "```\n",
    "\n",
    "이렇게 동작하는 FourCal 클래스를 만드는 것이 목표이다."
   ]
  },
  {
   "cell_type": "markdown",
   "id": "eade9d30",
   "metadata": {},
   "source": [
    "## 클래스 구조 만들기"
   ]
  },
  {
   "cell_type": "code",
   "execution_count": 3,
   "id": "d27d06d5",
   "metadata": {},
   "outputs": [],
   "source": [
    "class FourCal:\n",
    "    pass\n"
   ]
  },
  {
   "cell_type": "markdown",
   "id": "12d40b1c",
   "metadata": {},
   "source": [
    "우선 대화형 인터프리터에서 pass란 문장만을 포함한 FourCal 클래스를 만든다.\n",
    "> ※ pass는 아무것도 수행하지 않는 문법으로 임시로 코드를 작성할 때 주로 사용한다."
   ]
  },
  {
   "cell_type": "code",
   "execution_count": 4,
   "id": "321d6769",
   "metadata": {},
   "outputs": [
    {
     "data": {
      "text/plain": [
       "__main__.FourCal"
      ]
     },
     "execution_count": 4,
     "metadata": {},
     "output_type": "execute_result"
    }
   ],
   "source": [
    "a = FourCal()\n",
    "type(a)"
   ]
  },
  {
   "cell_type": "code",
   "execution_count": 5,
   "id": "32d1c732",
   "metadata": {},
   "outputs": [],
   "source": [
    "# 위와 같이 a = FourCal()로 a 객체를 먼저 만들고 그다음에 type(a)로 a 객체가 어떤 타입인지 알아보았다. \n",
    "# 역시 객체 a가 FourCal 클래스의 객체임을 알 수 있다."
   ]
  },
  {
   "cell_type": "markdown",
   "id": "722ccb5a",
   "metadata": {},
   "source": [
    "> ※ type 함수는 파이썬이 자체로 가지고 있는 내장 함수로 객체 타입을 출력한다."
   ]
  },
  {
   "cell_type": "markdown",
   "id": "271dcfd1",
   "metadata": {},
   "source": [
    "### 객체에 숫자 지정할 수 있게 만들기\n",
    "\n",
    "이제 더하기, 나누기, 곱하기, 빼기등의 기능을 하는 객체를 만들어야 한다. \n",
    "그런데 이러한 기능을 갖춘 객체를 만들려면 우선 a 객체에 사칙연산을 할 때 사용할 2개의 숫자를 먼저 알려주어야 한다."
   ]
  },
  {
   "cell_type": "code",
   "execution_count": 6,
   "id": "88e05d98",
   "metadata": {},
   "outputs": [
    {
     "ename": "AttributeError",
     "evalue": "'FourCal' object has no attribute 'setdata'",
     "output_type": "error",
     "traceback": [
      "\u001b[0;31m---------------------------------------------------------------------------\u001b[0m",
      "\u001b[0;31mAttributeError\u001b[0m                            Traceback (most recent call last)",
      "\u001b[0;32m<ipython-input-6-c97ff6fd13f1>\u001b[0m in \u001b[0;36m<module>\u001b[0;34m\u001b[0m\n\u001b[0;32m----> 1\u001b[0;31m \u001b[0ma\u001b[0m\u001b[0;34m.\u001b[0m\u001b[0msetdata\u001b[0m\u001b[0;34m(\u001b[0m\u001b[0;36m4\u001b[0m\u001b[0;34m,\u001b[0m \u001b[0;36m2\u001b[0m\u001b[0;34m)\u001b[0m\u001b[0;34m\u001b[0m\u001b[0;34m\u001b[0m\u001b[0m\n\u001b[0m",
      "\u001b[0;31mAttributeError\u001b[0m: 'FourCal' object has no attribute 'setdata'"
     ]
    }
   ],
   "source": [
    "a.setdata(4, 2)"
   ]
  },
  {
   "cell_type": "code",
   "execution_count": 7,
   "id": "c3c93f4f",
   "metadata": {},
   "outputs": [],
   "source": [
    "# 위 문장을 수행하려면 다음과 같이 소스 코드를 작성해야 한다."
   ]
  },
  {
   "cell_type": "code",
   "execution_count": 8,
   "id": "b51859da",
   "metadata": {},
   "outputs": [],
   "source": [
    "class FourCal:\n",
    "    def setdata(self, first, second):\n",
    "        self.first = first\n",
    "        self.second = second\n"
   ]
  },
  {
   "cell_type": "markdown",
   "id": "2df06d8f",
   "metadata": {},
   "source": [
    "앞에서 만든 FourCal 클래스에서 pass 문장을 삭제하고 그 대신 setdata 함수를 만들었다. 클래스 안에 구현된 함수는 다른 말로 **메서드(Method**라고 부른다. 앞으로 클래스 내부의 함수는 항상 메서드라고 표현할 테니 메서드라는 용어를 기억해 두자.\n",
    "\n",
    "\n",
    "일반적인 함수를 만들 때 다음과 같이 작성한다.\n",
    "```\n",
    "def 함수명(매개변수):\n",
    "    수행할 문장\n",
    "    ...\n",
    "```"
   ]
  },
  {
   "cell_type": "markdown",
   "id": "30c86a14",
   "metadata": {},
   "source": [
    "setdata 메서드를 다시 보면 다음과 같다.\n",
    "```\n",
    "def setdata(self, first, second):   # ① 메서드의 매개변수\n",
    "    self.first = first              # ② 메서드의 수행문\n",
    "    self.second = second            # ② 메서드의 수행문\n",
    "```"
   ]
  },
  {
   "cell_type": "markdown",
   "id": "dbdc1738",
   "metadata": {},
   "source": [
    "**1.setdata 메서드의 매개변수**\n",
    "\n",
    "setdata 메서드는 매개변수로 self, first, second 3개 입력값을 받는다. 그런데 일반 함수와는 달리 메서드의 첫 번째 매개변수 self는 특별한 의미를 가진다.\n",
    "\n",
    "다음과 같이 a 객체를 만들고 a 객체를 통해 setdata 메서드를 호출해 보자."
   ]
  },
  {
   "cell_type": "markdown",
   "id": "e99a9ad8",
   "metadata": {},
   "source": [
    "```\n",
    "a = FourCal()\n",
    "a.setdata(4,2)\n",
    "```"
   ]
  },
  {
   "cell_type": "markdown",
   "id": "d477be76",
   "metadata": {},
   "source": [
    "> ※ 객체를 통해 클래스의 메서드를 호출하려면 a.setdata(4, 2)와 같이 도트(.) 연산자를 사용해야 한다."
   ]
  },
  {
   "cell_type": "markdown",
   "id": "2df1025c",
   "metadata": {},
   "source": [
    "그런데 뭔가 좀 이상하지 않은가? setdata 메서드에는 self, first, second 총 3개의 매개변수가 필요한데 실제로는 `a.setdata(4, 2)`처럼 2개 값만 전달했다. 왜 그럴까? 그 이유는 `a.setdata(4, 2)`처럼 호출하면 setdata 메서드의 첫 번째 매개변수 self에는 setdata메서드를 호출한 객체 a가 자동으로 전달되기 때문이다. 다음 그림을 보면 객체를 호출할 때 입력한 값이 메서드에 어떻게 전달되는지 쉽게 이해할 수 있을 것이다."
   ]
  },
  {
   "cell_type": "markdown",
   "id": "d3aca834",
   "metadata": {},
   "source": [
    "![setdata](https://wikidocs.net/images/page/12392/setdata.png)"
   ]
  },
  {
   "cell_type": "markdown",
   "id": "174d7483",
   "metadata": {},
   "source": [
    "파이썬 메서드의 첫 번째 매개변수 이름은 관례적으로 self를 사용한다. 객체를 호출할 때 호출한 객체 자신이 전달되기 때문에 self를 사용한 것이다. 물론 self말고 다른 이름을 사용해도 상관없다."
   ]
  },
  {
   "cell_type": "markdown",
   "id": "463a11a8",
   "metadata": {},
   "source": [
    "**[메서드의 또 다른 호출 방법]**\n",
    "\n",
    "잘 사용하지는 않지만 다음과 같이 클래스를 통해 메서드를 호출하는 것도 가능하다.\n",
    "```\n",
    "a = FourCal()\n",
    "FourCal.setdata(a, 4, 2)\n",
    "```\n",
    "위와 같이 `클래스 이름.메서드` 형태로 호출할 때는 객체 a를 첫 번째 매개변수 self에 꼭 전달해 주어야 한다. 반면에 다음처럼 `객체.메서드` 형태로 호출할 때는 self를 반드시 생략해서 호출해야 한다.\n",
    "\n",
    "```\n",
    "a = FourCal()\n",
    "a.setdata(4,2)\n",
    "```"
   ]
  },
  {
   "cell_type": "markdown",
   "id": "a6773e1d",
   "metadata": {},
   "source": [
    "**2.setdata 메서드의 수행문**\n",
    "\n",
    "이제 setdata 메서드의 수행문에 대해 알아보자.\n",
    "```\n",
    "def setdata(self, first, second):   # ① 메서드의 매개변수\n",
    "    self.first = first              # ② 메서드의 수행문\n",
    "    self.second = second            # ② 메서드의 수행문\n",
    "```\n",
    "\n",
    "`a.setdata(4, 2)`처럼 호출하면 setdata 메서드의 매개변수 first, second에는 각각 값 4와 2가 전달되어 setdata 메서드의 수행문은 다음과 같이 해석된다.\n",
    "\n",
    "```\n",
    "self.first = 4\n",
    "self.second = 2\n",
    "```\n",
    "\n",
    "self는 전달된 객체 a이므로 다시 다음과 같이 해석된다.\n",
    "```\n",
    "a.first = 4\n",
    "a.second = 2\n",
    "```"
   ]
  },
  {
   "cell_type": "code",
   "execution_count": 9,
   "id": "f6bf504b",
   "metadata": {},
   "outputs": [
    {
     "name": "stdout",
     "output_type": "stream",
     "text": [
      "4\n",
      "2\n"
     ]
    }
   ],
   "source": [
    "# 다음과 같이 확인해보자\n",
    "a = FourCal()\n",
    "a.setdata(4, 2)\n",
    "print(a.first)\n",
    "print(a.second)"
   ]
  },
  {
   "cell_type": "code",
   "execution_count": 10,
   "id": "188e92f7",
   "metadata": {},
   "outputs": [],
   "source": [
    "# a 객체에 객체변수 first와 second가 생성되었음을 확인할 수 있다."
   ]
  },
  {
   "cell_type": "code",
   "execution_count": 11,
   "id": "6ab57c20",
   "metadata": {},
   "outputs": [],
   "source": [
    "# 이번에는 다음과 같이 a, b 객체를 만들어 보자.\n",
    "a = FourCal()\n",
    "b = FourCal()"
   ]
  },
  {
   "cell_type": "code",
   "execution_count": 12,
   "id": "fd8035b2",
   "metadata": {},
   "outputs": [
    {
     "name": "stdout",
     "output_type": "stream",
     "text": [
      "4\n"
     ]
    }
   ],
   "source": [
    "# 그리고 a 객체의 객체변수 first를 다음과 같이 생성한다.\n",
    "a.setdata(4, 2)\n",
    "print(a.first)"
   ]
  },
  {
   "cell_type": "code",
   "execution_count": 13,
   "id": "685da897",
   "metadata": {},
   "outputs": [
    {
     "name": "stdout",
     "output_type": "stream",
     "text": [
      "3\n"
     ]
    }
   ],
   "source": [
    "# 이번에는 b 객체의 객체변수 first를 다음과 같이 생성한다.\n",
    "b.setdata(3, 7)\n",
    "print(b.first)"
   ]
  },
  {
   "cell_type": "markdown",
   "id": "e9bafdf4",
   "metadata": {},
   "source": [
    "이 예제를 통해 `강조하고 싶은 점`이 바로 이것이다.\n",
    "\n",
    "**클래스로 만든 객체의 객체변수는 다른 객체의 객체변수에 상관없이 독립적인 값을 유지한다.**"
   ]
  },
  {
   "cell_type": "code",
   "execution_count": 14,
   "id": "ce6462e7",
   "metadata": {},
   "outputs": [
    {
     "data": {
      "text/plain": [
       "4380125632"
      ]
     },
     "execution_count": 14,
     "metadata": {},
     "output_type": "execute_result"
    }
   ],
   "source": [
    "# id 함수를 사용하면 객체변수가 독립적인 값을 유지한다는 점을 좀 더 명확하게 증명해 보일 수 있다\n",
    "# id 함수는 객체의 주소를 돌려주는 파이썬 내장 함수이다.\n",
    "a = FourCal()\n",
    "b = FourCal()\n",
    "a.setdata(4, 2)\n",
    "b.setdata(3, 7)\n",
    "id(a.first)"
   ]
  },
  {
   "cell_type": "code",
   "execution_count": 15,
   "id": "9ed160af",
   "metadata": {},
   "outputs": [
    {
     "data": {
      "text/plain": [
       "4380125600"
      ]
     },
     "execution_count": 15,
     "metadata": {},
     "output_type": "execute_result"
    }
   ],
   "source": [
    "id(b.first)"
   ]
  },
  {
   "cell_type": "markdown",
   "id": "24e549f0",
   "metadata": {},
   "source": [
    "<span style=\"color:red\">객체변수는 그 객체의 고유 값을 저장할 수 있는 공간이다.</span>\n",
    "\n",
    "**객체 변수는 다른 객체들 영향받지 않고 독립적으로 그 값을 유지한다는 점을 꼭 기억하자.**\n",
    "\n",
    "클래스에서는 이 부분을 이해하는 것이 가장 중요하다."
   ]
  },
  {
   "cell_type": "code",
   "execution_count": 16,
   "id": "c76d0d03",
   "metadata": {},
   "outputs": [],
   "source": [
    "# 다음은 현재까지 완성된 FourCal 클래스이다."
   ]
  },
  {
   "cell_type": "code",
   "execution_count": 17,
   "id": "17184aa8",
   "metadata": {},
   "outputs": [],
   "source": [
    "class FourCal:\n",
    "    def setdata(self, first, second):\n",
    "        self.first = first\n",
    "        self.second = second\n"
   ]
  },
  {
   "cell_type": "markdown",
   "id": "3c2541ba",
   "metadata": {},
   "source": [
    "지금까지 살펴본 내용이 바로 위 4줄을 설명하기 위한 것이었다. \n",
    "\n",
    "위에서 설명한 것들이 이해가 되지 않는다면 다시 한 번 읽어 보기 바란다. 이 부분을 이해하지 못하면 다음으로 넘어갈수 없기 때문이다."
   ]
  },
  {
   "cell_type": "markdown",
   "id": "1763fb85",
   "metadata": {},
   "source": [
    "### 더하기 기능 만들기\n",
    "\n",
    "그럼 2개의 숫자 값을 설정해 주었으니 2개의 숫자를 더하는 기능을 방금 만든 클래스에 추가해 보자. "
   ]
  },
  {
   "cell_type": "markdown",
   "id": "b530794c",
   "metadata": {},
   "source": [
    "```\n",
    "a = FourCal()\n",
    "a.setdata(4, 2)\n",
    "print(a.add())\n",
    "6\n",
    "```\n",
    "이 연산이 가능하도록 다음과 같이 FourCal 클래스를 만들어 보자."
   ]
  },
  {
   "cell_type": "code",
   "execution_count": 18,
   "id": "c8fc130e",
   "metadata": {},
   "outputs": [],
   "source": [
    "class FourCal:\n",
    "    def setdata(self, first, second):\n",
    "        self.first = first\n",
    "        self.second = second\n",
    "    def add(self):\n",
    "        result = self.first + self.second\n",
    "        return result\n"
   ]
  },
  {
   "cell_type": "code",
   "execution_count": 19,
   "id": "b21f83c6",
   "metadata": {},
   "outputs": [],
   "source": [
    "# 새롭게 추가된 것은 add 메서드이다. 이제 클래스를 사용해 보자.\n",
    "\n",
    "a = FourCal()\n",
    "a.setdata(4, 2)"
   ]
  },
  {
   "cell_type": "code",
   "execution_count": 20,
   "id": "ab4d65f4",
   "metadata": {},
   "outputs": [
    {
     "name": "stdout",
     "output_type": "stream",
     "text": [
      "6\n"
     ]
    }
   ],
   "source": [
    "# 이제 add 메서드를 호출해 보자.\n",
    "print(a.add())"
   ]
  },
  {
   "cell_type": "markdown",
   "id": "1c7610c4",
   "metadata": {},
   "source": [
    "`a.add()`라고 호출하면 add 메서드가 호출되어 값 6이 출력될 것이다. \n",
    "\n",
    "#### 어떤 과정을 거쳐 값 6이 출력되는지 add 메서드를 따로 떼어 내서 자세히 살펴보자."
   ]
  },
  {
   "cell_type": "markdown",
   "id": "cd938606",
   "metadata": {},
   "source": [
    "```\n",
    "def add(self):\n",
    "    result = self.first + self.second\n",
    "    return result\n",
    "```\n",
    "add 메서드의 매개변수는 self이고 반환 값은 result이다. 반환 값인 result를 계산하는 부분은 다음과 같다.\n",
    "\n",
    "```\n",
    "result = self.first + self.second\n",
    "```\n",
    "`a.add()`와 같이 a 객체에 의해 add 메서드가 수행되면 add 메서드의 self에는 객체 a가 자동으로 입력되므로 위 내용은 다음과 같이 해석한다.\n",
    "\n",
    "```\n",
    "result = a.first + a.second\n",
    "```\n",
    "위 내용은 `a.add()` 메서드 호출 전에 `a.setdata(4, 2)` 가 먼저 호출되어 `a.first = 4, a.second = 2` 라고 이미 설정되었기 때문에 다시 다음과 같이 해석한다.\n",
    "\n",
    "```\n",
    "result = 4 + 2\n",
    "```\n",
    "\n",
    "따라서 다음과 같이 `a.add()`를 호출하면 6을 돌려준다.\n",
    "```\n",
    "print(a.add())\n",
    "6\n",
    "```\n"
   ]
  },
  {
   "cell_type": "markdown",
   "id": "019ea7e7",
   "metadata": {},
   "source": [
    "### 곱하기, 빼기, 나누기 기능 만들기\n",
    "\n",
    "이번에는 곱하기, 빼기, 나누기 등을 할 수 있게 프로그램을 만들어 보자."
   ]
  },
  {
   "cell_type": "code",
   "execution_count": 21,
   "id": "9a65dcf3",
   "metadata": {},
   "outputs": [],
   "source": [
    "class FourCal:\n",
    "    def setdata(self, first, second):\n",
    "        self.first = first\n",
    "        self.second = second\n",
    "    def add(self):\n",
    "        result = self.first + self.second\n",
    "        return result\n",
    "    def mul(self):\n",
    "        result = self.first * self.second\n",
    "        return result\n",
    "    def sub(self):\n",
    "        result = self.first - self.second\n",
    "        return result\n",
    "    def div(self):\n",
    "        result = self.first / self.second\n",
    "        return result"
   ]
  },
  {
   "cell_type": "code",
   "execution_count": 22,
   "id": "56d88858",
   "metadata": {},
   "outputs": [],
   "source": [
    "a = FourCal()\n",
    "b = FourCal()\n",
    "a.setdata(4, 2)\n",
    "b.setdata(3, 8)"
   ]
  },
  {
   "cell_type": "code",
   "execution_count": 23,
   "id": "4669f5f2",
   "metadata": {},
   "outputs": [
    {
     "data": {
      "text/plain": [
       "6"
      ]
     },
     "execution_count": 23,
     "metadata": {},
     "output_type": "execute_result"
    }
   ],
   "source": [
    "a.add()"
   ]
  },
  {
   "cell_type": "code",
   "execution_count": 24,
   "id": "ad5c1e9f",
   "metadata": {},
   "outputs": [
    {
     "data": {
      "text/plain": [
       "8"
      ]
     },
     "execution_count": 24,
     "metadata": {},
     "output_type": "execute_result"
    }
   ],
   "source": [
    "a.mul()"
   ]
  },
  {
   "cell_type": "code",
   "execution_count": 25,
   "id": "7513d7b0",
   "metadata": {},
   "outputs": [
    {
     "data": {
      "text/plain": [
       "2"
      ]
     },
     "execution_count": 25,
     "metadata": {},
     "output_type": "execute_result"
    }
   ],
   "source": [
    "a.sub()"
   ]
  },
  {
   "cell_type": "code",
   "execution_count": 26,
   "id": "82470975",
   "metadata": {},
   "outputs": [
    {
     "data": {
      "text/plain": [
       "2.0"
      ]
     },
     "execution_count": 26,
     "metadata": {},
     "output_type": "execute_result"
    }
   ],
   "source": [
    "a.div()"
   ]
  },
  {
   "cell_type": "code",
   "execution_count": 27,
   "id": "4c9418fb",
   "metadata": {},
   "outputs": [
    {
     "data": {
      "text/plain": [
       "11"
      ]
     },
     "execution_count": 27,
     "metadata": {},
     "output_type": "execute_result"
    }
   ],
   "source": [
    "b.add()"
   ]
  },
  {
   "cell_type": "code",
   "execution_count": 28,
   "id": "8a0f781c",
   "metadata": {},
   "outputs": [
    {
     "data": {
      "text/plain": [
       "24"
      ]
     },
     "execution_count": 28,
     "metadata": {},
     "output_type": "execute_result"
    }
   ],
   "source": [
    "b.mul()"
   ]
  },
  {
   "cell_type": "code",
   "execution_count": 29,
   "id": "baa26de2",
   "metadata": {},
   "outputs": [
    {
     "data": {
      "text/plain": [
       "-5"
      ]
     },
     "execution_count": 29,
     "metadata": {},
     "output_type": "execute_result"
    }
   ],
   "source": [
    "b.sub()"
   ]
  },
  {
   "cell_type": "code",
   "execution_count": 30,
   "id": "1e31b6c0",
   "metadata": {},
   "outputs": [
    {
     "data": {
      "text/plain": [
       "0.375"
      ]
     },
     "execution_count": 30,
     "metadata": {},
     "output_type": "execute_result"
    }
   ],
   "source": [
    "b.div()"
   ]
  },
  {
   "cell_type": "code",
   "execution_count": 31,
   "id": "a88e11fd",
   "metadata": {},
   "outputs": [],
   "source": [
    "# 여기까지 내가 목표로 한 사칙연산 기능을 가진 클래스를 만들어 보았다."
   ]
  },
  {
   "cell_type": "markdown",
   "id": "72fb9c3b",
   "metadata": {},
   "source": [
    "## 생성자 (Constructor)"
   ]
  },
  {
   "cell_type": "code",
   "execution_count": 32,
   "id": "0be8ddb4",
   "metadata": {},
   "outputs": [
    {
     "ename": "AttributeError",
     "evalue": "'FourCal' object has no attribute 'first'",
     "output_type": "error",
     "traceback": [
      "\u001b[0;31m---------------------------------------------------------------------------\u001b[0m",
      "\u001b[0;31mAttributeError\u001b[0m                            Traceback (most recent call last)",
      "\u001b[0;32m<ipython-input-32-b6f9de586d9c>\u001b[0m in \u001b[0;36m<module>\u001b[0;34m\u001b[0m\n\u001b[1;32m      1\u001b[0m \u001b[0;31m# 이번에는 우리가 만든 FourCal 클래스를 다음과 같이 사용해 보자.\u001b[0m\u001b[0;34m\u001b[0m\u001b[0;34m\u001b[0m\u001b[0;34m\u001b[0m\u001b[0m\n\u001b[1;32m      2\u001b[0m \u001b[0ma\u001b[0m \u001b[0;34m=\u001b[0m \u001b[0mFourCal\u001b[0m\u001b[0;34m(\u001b[0m\u001b[0;34m)\u001b[0m\u001b[0;34m\u001b[0m\u001b[0;34m\u001b[0m\u001b[0m\n\u001b[0;32m----> 3\u001b[0;31m \u001b[0ma\u001b[0m\u001b[0;34m.\u001b[0m\u001b[0madd\u001b[0m\u001b[0;34m(\u001b[0m\u001b[0;34m)\u001b[0m\u001b[0;34m\u001b[0m\u001b[0;34m\u001b[0m\u001b[0m\n\u001b[0m",
      "\u001b[0;32m<ipython-input-21-395058f0395a>\u001b[0m in \u001b[0;36madd\u001b[0;34m(self)\u001b[0m\n\u001b[1;32m      4\u001b[0m         \u001b[0mself\u001b[0m\u001b[0;34m.\u001b[0m\u001b[0msecond\u001b[0m \u001b[0;34m=\u001b[0m \u001b[0msecond\u001b[0m\u001b[0;34m\u001b[0m\u001b[0;34m\u001b[0m\u001b[0m\n\u001b[1;32m      5\u001b[0m     \u001b[0;32mdef\u001b[0m \u001b[0madd\u001b[0m\u001b[0;34m(\u001b[0m\u001b[0mself\u001b[0m\u001b[0;34m)\u001b[0m\u001b[0;34m:\u001b[0m\u001b[0;34m\u001b[0m\u001b[0;34m\u001b[0m\u001b[0m\n\u001b[0;32m----> 6\u001b[0;31m         \u001b[0mresult\u001b[0m \u001b[0;34m=\u001b[0m \u001b[0mself\u001b[0m\u001b[0;34m.\u001b[0m\u001b[0mfirst\u001b[0m \u001b[0;34m+\u001b[0m \u001b[0mself\u001b[0m\u001b[0;34m.\u001b[0m\u001b[0msecond\u001b[0m\u001b[0;34m\u001b[0m\u001b[0;34m\u001b[0m\u001b[0m\n\u001b[0m\u001b[1;32m      7\u001b[0m         \u001b[0;32mreturn\u001b[0m \u001b[0mresult\u001b[0m\u001b[0;34m\u001b[0m\u001b[0;34m\u001b[0m\u001b[0m\n\u001b[1;32m      8\u001b[0m     \u001b[0;32mdef\u001b[0m \u001b[0mmul\u001b[0m\u001b[0;34m(\u001b[0m\u001b[0mself\u001b[0m\u001b[0;34m)\u001b[0m\u001b[0;34m:\u001b[0m\u001b[0;34m\u001b[0m\u001b[0;34m\u001b[0m\u001b[0m\n",
      "\u001b[0;31mAttributeError\u001b[0m: 'FourCal' object has no attribute 'first'"
     ]
    }
   ],
   "source": [
    "# 이번에는 우리가 만든 FourCal 클래스를 다음과 같이 사용해 보자.\n",
    "a = FourCal()\n",
    "a.add()"
   ]
  },
  {
   "cell_type": "markdown",
   "id": "499a136d",
   "metadata": {},
   "source": [
    "FourCal 클래스의 인스턴스 a에 setdata 메서드를 수행하지 않고 add 메서드를 수행하면 \"AttributeError: 'FourCal' object has no attribute 'first'\" 오류가 발생한다. setdata 메서드를 수행해야 객체 a의 객체변수 first와 second가 생성되기 때문이다."
   ]
  },
  {
   "cell_type": "markdown",
   "id": "17af0dec",
   "metadata": {},
   "source": [
    "이렇게 객체에 초깃값을 설정해야 할 필요가 있을 때는 setdata와 같은 메서드를 호출하여 초깃값을 설정하기보다는 생성자를 구현하는 것이 안전한 방법이다. \n",
    "\n",
    "**생성자(Constructor)**란 객체가 생성될 때 자동으로 호출되는 메서드를 의미한다.\n",
    "\n",
    "파이썬 메서드 이름으로 `__init__`를 사용하면 이 메서드는 생성자가 된다. 다음과 같이 FourCal 클래스에 생성자를 추가해 보자.\n",
    "\n",
    ">  `__init__ `메서드의 init 앞뒤로 붙은 `__`는 언더스코어(`_`) 두 개를 붙여 쓴 것이다."
   ]
  },
  {
   "cell_type": "code",
   "execution_count": 33,
   "id": "74cd6c24",
   "metadata": {},
   "outputs": [],
   "source": [
    "class FourCal:\n",
    "    def __init__(self, first, second):\n",
    "        self.first = first\n",
    "        self.second = second\n",
    "    def setdata(self, first, second):\n",
    "        self.first = first\n",
    "        self.second = second\n",
    "    def add(self):\n",
    "        result = self.first + self.second\n",
    "        return result\n",
    "    def mul(self):\n",
    "        result = self.first * self.second\n",
    "        return result\n",
    "    def sub(self):\n",
    "        result = self.first - self.second\n",
    "        return result\n",
    "    def div(self):\n",
    "        result = self.first / self.second\n",
    "        return result"
   ]
  },
  {
   "cell_type": "markdown",
   "id": "414a5dd2",
   "metadata": {},
   "source": [
    "새롭게 추가된 생성자 `__init__` 메서드만 따로 떼어 내서 살펴보자.\n",
    "```\n",
    "def __init__(self, first, second):\n",
    "    self.first = first\n",
    "    self.second = second\n",
    "```\n",
    "\n",
    "`__init__` 메서드는 setdata 메서드와 이름만 다르고 모든 게 동일하다. 단 메서드 이름을 `__init__`으로 했기 때문에 생성자로 인식되어 객체가 생성되는 시점에 자동으로 호출되는 차이가 있다."
   ]
  },
  {
   "cell_type": "code",
   "execution_count": 34,
   "id": "ae47213b",
   "metadata": {},
   "outputs": [],
   "source": [
    "# 이제 다음처럼 예제를 수행해 보자."
   ]
  },
  {
   "cell_type": "code",
   "execution_count": 35,
   "id": "190dbdc9",
   "metadata": {},
   "outputs": [
    {
     "ename": "TypeError",
     "evalue": "__init__() missing 2 required positional arguments: 'first' and 'second'",
     "output_type": "error",
     "traceback": [
      "\u001b[0;31m---------------------------------------------------------------------------\u001b[0m",
      "\u001b[0;31mTypeError\u001b[0m                                 Traceback (most recent call last)",
      "\u001b[0;32m<ipython-input-35-5cfa1e393ba9>\u001b[0m in \u001b[0;36m<module>\u001b[0;34m\u001b[0m\n\u001b[0;32m----> 1\u001b[0;31m \u001b[0ma\u001b[0m \u001b[0;34m=\u001b[0m \u001b[0mFourCal\u001b[0m\u001b[0;34m(\u001b[0m\u001b[0;34m)\u001b[0m\u001b[0;34m\u001b[0m\u001b[0;34m\u001b[0m\u001b[0m\n\u001b[0m",
      "\u001b[0;31mTypeError\u001b[0m: __init__() missing 2 required positional arguments: 'first' and 'second'"
     ]
    }
   ],
   "source": [
    "a = FourCal()"
   ]
  },
  {
   "cell_type": "markdown",
   "id": "034c72ad",
   "metadata": {},
   "source": [
    "`a = FourCal()`을 수행할 때 생성자 `__init__`이 호출되어 위와 같은 오류가 발생했다. 오류가 발생한 이유는 생성자의 매개변수 first와 second에 해당하는 값이 전달되지 않았기 때문이다.\n"
   ]
  },
  {
   "cell_type": "code",
   "execution_count": 36,
   "id": "f1399f0c",
   "metadata": {},
   "outputs": [],
   "source": [
    "# 위 오류를 해결하려면 다음처럼 first와 second에 해당되는 값을 전달하여 객체를 생성해야 한다.\n",
    "a = FourCal(4, 2)\n"
   ]
  },
  {
   "cell_type": "code",
   "execution_count": 37,
   "id": "1e2b9969",
   "metadata": {},
   "outputs": [],
   "source": [
    "# 위와 같이 수행하면 __init__ 메서드의 매개변수에는 각각 오른쪽과 같은 값이 대입된다."
   ]
  },
  {
   "cell_type": "markdown",
   "id": "6f8c6c76",
   "metadata": {},
   "source": [
    "|매개변수|값|\n",
    "|---|---|\n",
    "|self|생성되는 객체|\n",
    "|first|4|\n",
    "|second|2|\n",
    "\n",
    "> `__init__` 메서드도 다른 메서드와 마찬가지로 첫 번째 매개변수 self에 생성되는 객체가 자동으로 전달된다는 점을 기억하자.\n",
    "\n",
    "따라서 __init__ 메서드가 호출되면 setdata 메서드를 호출했을 때와 마찬가지로 first와 second라는 객체변수가 생성될 것이다."
   ]
  },
  {
   "cell_type": "code",
   "execution_count": 38,
   "id": "1a08fc8b",
   "metadata": {},
   "outputs": [
    {
     "name": "stdout",
     "output_type": "stream",
     "text": [
      "4\n"
     ]
    }
   ],
   "source": [
    "# 다음과 같이 객체변수의 값을 확인해보자.\n",
    "a = FourCal(4, 2)\n",
    "print(a.first)\n"
   ]
  },
  {
   "cell_type": "code",
   "execution_count": 39,
   "id": "74e20eec",
   "metadata": {},
   "outputs": [
    {
     "name": "stdout",
     "output_type": "stream",
     "text": [
      "2\n"
     ]
    }
   ],
   "source": [
    "print(a.second)"
   ]
  },
  {
   "cell_type": "code",
   "execution_count": 40,
   "id": "f1448328",
   "metadata": {},
   "outputs": [
    {
     "data": {
      "text/plain": [
       "6"
      ]
     },
     "execution_count": 40,
     "metadata": {},
     "output_type": "execute_result"
    }
   ],
   "source": [
    "# add나 div 등의 메서드도 잘 동작하는지 확인해 보자.\n",
    "a = FourCal(4,2)\n",
    "a.add()"
   ]
  },
  {
   "cell_type": "code",
   "execution_count": 41,
   "id": "4a93444a",
   "metadata": {},
   "outputs": [
    {
     "data": {
      "text/plain": [
       "2.0"
      ]
     },
     "execution_count": 41,
     "metadata": {},
     "output_type": "execute_result"
    }
   ],
   "source": [
    "a.div()"
   ]
  },
  {
   "cell_type": "code",
   "execution_count": 42,
   "id": "6a645982",
   "metadata": {},
   "outputs": [],
   "source": [
    "# 이상 없이 잘 동작하는 것을 확인할 수 있다."
   ]
  },
  {
   "cell_type": "markdown",
   "id": "12899fa7",
   "metadata": {},
   "source": [
    "## 클래스의 상속\n",
    "\n",
    "상속이란 어떤 클래스를 만들 때 다른 클래스의 기능을 물려받을 수 있게 만드는 것이다.\n",
    "\n",
    "앞에서 FourCal 클래스는 이미 만들어 놓았으므로 FourCal 클래스를 상속하는 MoreFourCal 클래스는 다음과 같이 간단하게 만들 수 있다.\n",
    "\n",
    "클래스를 상속하기 위해서는 다음처럼 클래스 이름 뒤 괄호 안에 상속할 클래스 이름을 넣어주면 된다."
   ]
  },
  {
   "cell_type": "code",
   "execution_count": 43,
   "id": "6e0a5204",
   "metadata": {},
   "outputs": [],
   "source": [
    "class MoreFourCal(FourCal):\n",
    "    pass"
   ]
  },
  {
   "cell_type": "markdown",
   "id": "bcf4690f",
   "metadata": {},
   "source": [
    "클래스를 상속하기 위해서는 다음처럼 클래스 이름 뒤 괄호 안에 상속할 클래스 이름을 넣어주면 된다.\n",
    "\n",
    "> **class 클래스 이름(상속할 클래스 이름)**\n",
    "\n",
    "MoreFourCal 클래스는 FourCal 클래스를 상속했으므로 FourCal 클래스의 모든 기능을 사용할 수 있어야 한다.\n"
   ]
  },
  {
   "cell_type": "code",
   "execution_count": 44,
   "id": "42a7b6f4",
   "metadata": {},
   "outputs": [
    {
     "data": {
      "text/plain": [
       "6"
      ]
     },
     "execution_count": 44,
     "metadata": {},
     "output_type": "execute_result"
    }
   ],
   "source": [
    "# 다음과 같이 확인해 보자.\n",
    "\n",
    "a = MoreFourCal(4, 2)\n",
    "a.add()"
   ]
  },
  {
   "cell_type": "code",
   "execution_count": 45,
   "id": "7e0c89f6",
   "metadata": {},
   "outputs": [
    {
     "data": {
      "text/plain": [
       "8"
      ]
     },
     "execution_count": 45,
     "metadata": {},
     "output_type": "execute_result"
    }
   ],
   "source": [
    "a.mul()"
   ]
  },
  {
   "cell_type": "code",
   "execution_count": 46,
   "id": "a1b9a6ee",
   "metadata": {},
   "outputs": [
    {
     "data": {
      "text/plain": [
       "2"
      ]
     },
     "execution_count": 46,
     "metadata": {},
     "output_type": "execute_result"
    }
   ],
   "source": [
    "a.sub()"
   ]
  },
  {
   "cell_type": "code",
   "execution_count": 47,
   "id": "47749509",
   "metadata": {},
   "outputs": [
    {
     "data": {
      "text/plain": [
       "2.0"
      ]
     },
     "execution_count": 47,
     "metadata": {},
     "output_type": "execute_result"
    }
   ],
   "source": [
    "a.div()"
   ]
  },
  {
   "cell_type": "code",
   "execution_count": 48,
   "id": "722018aa",
   "metadata": {},
   "outputs": [],
   "source": [
    "# 상속받은 FourCal 클래스의 기능을 모두 사용할 수 있음을 확인할 수 있다."
   ]
  },
  {
   "cell_type": "markdown",
   "id": "cda73586",
   "metadata": {},
   "source": [
    "#### 왜 상속을 해야 할까?\n",
    "\n",
    "보통 상속은 기존 클래스를 변경하지 않고 기능을 추가하거나 기존 기능을 변경하려고 할 때 사용한다.\n",
    "\n",
    " 기존 클래스가 라이브러리 형태로 제공되거나 수정이 허용되지 않는 상황이라면 상속을 사용해야 한다."
   ]
  },
  {
   "cell_type": "code",
   "execution_count": 49,
   "id": "0f1897d0",
   "metadata": {},
   "outputs": [],
   "source": [
    "# 이제 원래 목적인 a의 b제곱(a^b)을 계산하는 MoreFourCal 클래스를 만들어 보자.\n",
    "\n",
    "class MoreFourCal(FourCal):\n",
    "    def pow(self):\n",
    "        result = self.first ** self.second\n",
    "        return result\n",
    "# pass 문장은 삭제하고 위와 같이 두 수의 거듭제곱을 구할 수 있는 pow 메서드를 추가해 주었다."
   ]
  },
  {
   "cell_type": "code",
   "execution_count": 50,
   "id": "39577d35",
   "metadata": {},
   "outputs": [
    {
     "data": {
      "text/plain": [
       "16"
      ]
     },
     "execution_count": 50,
     "metadata": {},
     "output_type": "execute_result"
    }
   ],
   "source": [
    "# 그리고 다음과 같이 pow 메서드를 수행해 보자.\n",
    "a = MoreFourCal(4, 2)\n",
    "a.pow()"
   ]
  },
  {
   "cell_type": "markdown",
   "id": "fb2fc5e8",
   "metadata": {},
   "source": [
    "MoreFourCal 클래스로 만든 a 객체에 값 4와 2를 설정한 후 pow 메서드를 호출하면 4의 2제곱 (4<sup>2</sup>)인 16을 돌려주는 것을 확인할 수 있다.\n",
    "\n",
    "**상속은 MoreFourCal 클래스처럼 기존 클래스(FourCal)는 그대로 놔둔 채 클래스의 기능을 확장시킬 때 주로 사용한다.**"
   ]
  },
  {
   "cell_type": "markdown",
   "id": "8f7c2ef4",
   "metadata": {},
   "source": [
    "## 메서드 오버라이딩"
   ]
  },
  {
   "cell_type": "code",
   "execution_count": 51,
   "id": "96cede96",
   "metadata": {},
   "outputs": [
    {
     "ename": "ZeroDivisionError",
     "evalue": "division by zero",
     "output_type": "error",
     "traceback": [
      "\u001b[0;31m---------------------------------------------------------------------------\u001b[0m",
      "\u001b[0;31mZeroDivisionError\u001b[0m                         Traceback (most recent call last)",
      "\u001b[0;32m<ipython-input-51-83ff301a64e5>\u001b[0m in \u001b[0;36m<module>\u001b[0;34m\u001b[0m\n\u001b[1;32m      1\u001b[0m \u001b[0;31m# 이번에는 FourCal 클래스를 다음과 같이 실행해 보자.\u001b[0m\u001b[0;34m\u001b[0m\u001b[0;34m\u001b[0m\u001b[0;34m\u001b[0m\u001b[0m\n\u001b[1;32m      2\u001b[0m \u001b[0ma\u001b[0m \u001b[0;34m=\u001b[0m \u001b[0mFourCal\u001b[0m\u001b[0;34m(\u001b[0m\u001b[0;36m4\u001b[0m\u001b[0;34m,\u001b[0m \u001b[0;36m0\u001b[0m\u001b[0;34m)\u001b[0m\u001b[0;34m\u001b[0m\u001b[0;34m\u001b[0m\u001b[0m\n\u001b[0;32m----> 3\u001b[0;31m \u001b[0ma\u001b[0m\u001b[0;34m.\u001b[0m\u001b[0mdiv\u001b[0m\u001b[0;34m(\u001b[0m\u001b[0;34m)\u001b[0m\u001b[0;34m\u001b[0m\u001b[0;34m\u001b[0m\u001b[0m\n\u001b[0m",
      "\u001b[0;32m<ipython-input-33-1dea4f7a912b>\u001b[0m in \u001b[0;36mdiv\u001b[0;34m(self)\u001b[0m\n\u001b[1;32m     16\u001b[0m         \u001b[0;32mreturn\u001b[0m \u001b[0mresult\u001b[0m\u001b[0;34m\u001b[0m\u001b[0;34m\u001b[0m\u001b[0m\n\u001b[1;32m     17\u001b[0m     \u001b[0;32mdef\u001b[0m \u001b[0mdiv\u001b[0m\u001b[0;34m(\u001b[0m\u001b[0mself\u001b[0m\u001b[0;34m)\u001b[0m\u001b[0;34m:\u001b[0m\u001b[0;34m\u001b[0m\u001b[0;34m\u001b[0m\u001b[0m\n\u001b[0;32m---> 18\u001b[0;31m         \u001b[0mresult\u001b[0m \u001b[0;34m=\u001b[0m \u001b[0mself\u001b[0m\u001b[0;34m.\u001b[0m\u001b[0mfirst\u001b[0m \u001b[0;34m/\u001b[0m \u001b[0mself\u001b[0m\u001b[0;34m.\u001b[0m\u001b[0msecond\u001b[0m\u001b[0;34m\u001b[0m\u001b[0;34m\u001b[0m\u001b[0m\n\u001b[0m\u001b[1;32m     19\u001b[0m         \u001b[0;32mreturn\u001b[0m \u001b[0mresult\u001b[0m\u001b[0;34m\u001b[0m\u001b[0;34m\u001b[0m\u001b[0m\n",
      "\u001b[0;31mZeroDivisionError\u001b[0m: division by zero"
     ]
    }
   ],
   "source": [
    "# 이번에는 FourCal 클래스를 다음과 같이 실행해 보자.\n",
    "a = FourCal(4, 0)\n",
    "a.div()"
   ]
  },
  {
   "cell_type": "markdown",
   "id": "904a9701",
   "metadata": {},
   "source": [
    "FourCal 클래스의 객체 a에 4와 0 값을 설정하고 div 메서드를 호출하면 4를 0으로 나누려고 하기 때문에 위와 같은 ZeroDivisionError 오류가 발생한다. 하지만 0으로 나눌 때 오류가 아닌 0을 돌려주도록 만들고 싶다면 어떻게 해야 할까?"
   ]
  },
  {
   "cell_type": "code",
   "execution_count": 52,
   "id": "39e121d1",
   "metadata": {},
   "outputs": [],
   "source": [
    "# 다음과 같이 FourCal 클래스를 상속하는 SafeFourCal 클래스를 만들어 보자.\n",
    "class SafeFourCal(FourCal):\n",
    "    def div(self):\n",
    "        if self.second == 0: # 나누는 값이 0인 경우 0을 리턴하도록 수정\n",
    "            return 0\n",
    "        else:\n",
    "            return self.first / self.second"
   ]
  },
  {
   "cell_type": "markdown",
   "id": "5f179b0d",
   "metadata": {},
   "source": [
    "SafeFourCal 클래스는 FourCal 클래스에 있는 div 메서드를 동일한 이름으로 다시 작성하였다.\n",
    "\n",
    "이렇게 부모 클래스(상속한 클래스)에 있는 메서드를 동일한 이름으로 다시 만드는 것을\n",
    "\n",
    "**메서드 오버라이딩(Overriding, 덮어쓰기)**이라고 한다.\n",
    "\n",
    "이렇게 메서드를 오버라이딩하면 부모클래스의 메서드 대신 오버라이딩한 메서드가 호출된다.\n",
    "\n",
    "SafeFourCal 클래스에 오버라이딩한 div 메서드는 나누는 값이 0인 경우에는 0을 돌려주도록 수정했다. 이제 다시 위에서 수행한 예제를 FourCal 클래스 대신 SafeFourCal 클래스를 사용하여 수행해 보자.\n",
    "\n",
    "=> div : 부모클래스의 메서드 -> 오버라이딩한 메서드 로 수정되어진다."
   ]
  },
  {
   "cell_type": "code",
   "execution_count": 53,
   "id": "d228cae3",
   "metadata": {},
   "outputs": [
    {
     "data": {
      "text/plain": [
       "0"
      ]
     },
     "execution_count": 53,
     "metadata": {},
     "output_type": "execute_result"
    }
   ],
   "source": [
    "a = SafeFourCal(4, 0)\n",
    "a.div()"
   ]
  },
  {
   "cell_type": "code",
   "execution_count": 54,
   "id": "42ac973f",
   "metadata": {},
   "outputs": [],
   "source": [
    "# FourCal 클래스와는 달리 \n",
    "# ZeroDivisionError가 발생하지 않고 의도한 대로 0을 돌려주는 것을 확인할 수 있을 것이다."
   ]
  },
  {
   "cell_type": "markdown",
   "id": "93600e24",
   "metadata": {},
   "source": [
    "## 클래스 변수\n",
    "\n",
    "객체변수는 다른 객체들에 영향받지 않고 독립적으로 그 값을 유지한다는 점을 이미 알아보았다. 이번에는 객체변수와는 성격이 다른 클래스 변수에 대해 알아보자."
   ]
  },
  {
   "cell_type": "code",
   "execution_count": 55,
   "id": "06272009",
   "metadata": {},
   "outputs": [],
   "source": [
    "# 다음 클래스를 작성해 보자.\n",
    "class Family:\n",
    "    lastname = \"문\"\n",
    "    "
   ]
  },
  {
   "cell_type": "markdown",
   "id": "7fad0a7b",
   "metadata": {},
   "source": [
    "Family 클래스에 선언한 lastname이 바로 클래스 변수이다.\n",
    "\n",
    "클래스 변수는 클래스 안에 함수를 선언하는 것과 마찬가지로 클래스 안에 변수를 선언하여 생성한다."
   ]
  },
  {
   "cell_type": "code",
   "execution_count": 56,
   "id": "c97c9424",
   "metadata": {},
   "outputs": [
    {
     "name": "stdout",
     "output_type": "stream",
     "text": [
      "문\n"
     ]
    }
   ],
   "source": [
    "# 이제 Family 클래스를 다음과 같이 사용해 보자.\n",
    "print(Family.lastname)"
   ]
  },
  {
   "cell_type": "markdown",
   "id": "3f195d12",
   "metadata": {},
   "source": [
    "클래스 변수는 위 예와 같이 <span style=\"color:red\">클래스이름.클래스 변수</span>로 사용할 수 있다."
   ]
  },
  {
   "cell_type": "code",
   "execution_count": 57,
   "id": "47f132bf",
   "metadata": {},
   "outputs": [
    {
     "name": "stdout",
     "output_type": "stream",
     "text": [
      "문\n",
      "문\n"
     ]
    }
   ],
   "source": [
    "# 또는 다음과 같이 Family 클래스로 만든 객체를 통해서도 클래스 변수를 사용할 수 있다.\n",
    "a = Family()\n",
    "b = Family()\n",
    "print(a.lastname)\n",
    "print(b.lastname)"
   ]
  },
  {
   "cell_type": "code",
   "execution_count": 58,
   "id": "2ac09dfa",
   "metadata": {},
   "outputs": [],
   "source": [
    "# 만약 Family 클래스의 lastname을 다음과 같이 \"용\"이라는 문자열로 바꾸면 어떻게 될까?\n",
    "Family.lastname = \"용\""
   ]
  },
  {
   "cell_type": "code",
   "execution_count": 59,
   "id": "74b4b8d4",
   "metadata": {},
   "outputs": [
    {
     "name": "stdout",
     "output_type": "stream",
     "text": [
      "용\n",
      "용\n"
     ]
    }
   ],
   "source": [
    "# 다음과 같이 확인해 보자.\n",
    "print(a.lastname)\n",
    "print(b.lastname)"
   ]
  },
  {
   "cell_type": "markdown",
   "id": "3929ce4c",
   "metadata": {},
   "source": [
    "클래스 변수 값을 변경했더니 클래스로 만든 객체의 lastname 값도 모두 변경된다는 것을 확인할 수 있다.\n",
    "\n",
    "**즉 클래스 변수는 클래스로 만든 모든 객체에 공유된다**는 특징이 있다."
   ]
  },
  {
   "cell_type": "code",
   "execution_count": 60,
   "id": "93bfbb54",
   "metadata": {},
   "outputs": [
    {
     "data": {
      "text/plain": [
       "140585419831456"
      ]
     },
     "execution_count": 60,
     "metadata": {},
     "output_type": "execute_result"
    }
   ],
   "source": [
    "# id 함수를 사용하면 클래스 변수가 공유된다는 사실을 증명할 수 있다.\n",
    "id(Family.lastname)\n",
    "#id(a.lastname)\n",
    "#id(b.lastname)"
   ]
  },
  {
   "cell_type": "markdown",
   "id": "e198191e",
   "metadata": {},
   "source": [
    "id 값이 모두 같으므로 `Family.lastname`, `a.lastname`, `b.lastname`은 모두 같은 메모리를 가리키고 있다."
   ]
  },
  {
   "cell_type": "markdown",
   "id": "152998ef",
   "metadata": {},
   "source": [
    "# 05-2 모듈"
   ]
  },
  {
   "cell_type": "markdown",
   "id": "c0c2ef1e",
   "metadata": {},
   "source": [
    "모듈이란 함수나 변수 또는 클래스를 모아 놓은 파일이다. 모듈은 다른 파이썬 프로그램에서 불러와 사용할 수 있게끔 만든 파이썬 파일이라고도 할 수 있다. \n",
    "\n",
    "모듈을 어떻게 만들고 사용할 수 있는지 알아보자."
   ]
  },
  {
   "cell_type": "markdown",
   "id": "77cb0fce",
   "metadata": {},
   "source": [
    "## 모듈 만들기\n",
    "\n",
    "모듈에 대해 자세히 살펴보기 전에 간단한 모듈을 한번 만들어 보자."
   ]
  },
  {
   "cell_type": "code",
   "execution_count": 61,
   "id": "9ff2f0ea",
   "metadata": {},
   "outputs": [],
   "source": [
    "# mod1.py\n",
    "def add(a, b):\n",
    "    return a + b\n",
    "\n",
    "def sub(a, b):\n",
    "    return a - b"
   ]
  },
  {
   "cell_type": "code",
   "execution_count": 62,
   "id": "0ae2bc89",
   "metadata": {},
   "outputs": [],
   "source": [
    "# 파이썬 확장자 .py로 만든 파이썬 파일은 모두 모듈이다."
   ]
  },
  {
   "cell_type": "markdown",
   "id": "5401f565",
   "metadata": {},
   "source": [
    "## 모듈 불러오기\n",
    "\n",
    "**우리가 만든 mod1.py 파일, 즉 모듈을 파이썬에서 불러와 사용하려면 어떻게 해야 할까?**\n",
    "\n",
    "먼저 다음과 같이 명령 프롬프트 창을 열고 mod1.py를 저장한 디렉터리로 이동한 다음 대화형 인터프리터를 실행한다."
   ]
  },
  {
   "cell_type": "code",
   "execution_count": 63,
   "id": "30cecf4e",
   "metadata": {},
   "outputs": [],
   "source": [
    "# Mac 기준\n",
    "# Mac에서는 터미널 창을 열어서 mod1.py가 있는 디렉터리로 이동한 다음 \n",
    "# \"python3\"로 입력해주면 python3에 대한 실행이 뜬다.\n",
    "# 여기서 다음과 같은 명령어를 쳐주면 된다."
   ]
  },
  {
   "cell_type": "markdown",
   "id": "a834bf8a",
   "metadata": {},
   "source": [
    "```python\n",
    ">>> import mod1\n",
    ">>> print(mod1.add(3,4))\n",
    "7\n",
    ">>> print(mod.sub(4,2))\n",
    "2\n",
    "```\n",
    "\n",
    "> import는 현재 디렉터리에 있는 파일이나 파이썬 라이브러리가 저장된 디렉터리에 있는 모듈만 불러올 수 있다. 파이썬 라이브러리는 파이썬을 설치할 때 자동으로 설치되는 파이썬 모듈을 말한다.\n",
    "\n",
    "import의 사용 방법은 다음과 같다.\n",
    "```\n",
    "import 모듈이름\n",
    "```\n",
    "여기에서 모듈 이름은 mod1.py에서 .py 확장자를 제거한 mod1만을 가리킨다.\n",
    "\n",
    "때로는 `mod1.add`, `mod1.sub`처럼 쓰지 않고 `add`, `sub`처럼 모듈 이름 없이 함수 이름만 쓰고 싶은 경우도 있을 것이다. 이럴 때는 \"from 모듈 이름 import 모듈 함수\"를 사용하면 된다.\n",
    "\n",
    "> from 모듈이름 import 모듈함수\n",
    "\n",
    "위 형식을 사용하면 위와 같이 모듈 이름을 붙이지 않고 바로 해당 모듈의 함수를 쓸 수 있다.\n",
    "\n",
    "```python\n",
    ">>> from mod1 import add\n",
    ">>> add(3,4)\n",
    "7\n",
    "```\n",
    "\n",
    "그런데 위와 같이 하면 mod1.py 파일의 add 함수만 사용할 수 있다. add 함수와 sub 함수를 둘 다 사용하고 싶다면 어떻게 해야 할까?\n",
    "\n",
    "2가지 방법이 있다.\n",
    "\n",
    "```python\n",
    "from mod1 import add, sub\n",
    "```\n",
    "첫 번째 방법은 위와 같이 from 모듈 이름 import 모듈 함수1, 모듈 함수2처럼 사용하는 것이다. 콤마로 구분하여 필요한 함수를 불러올 수 있다.\n",
    "\n",
    "```python\n",
    "from mod1 import *\n",
    "```\n",
    "\n",
    "두 번째 방법은 위와 같이 * 문자를 사용하는 방법이다. 07장에서 배울 정규 표현식에서 * 문자는 \"모든 것\"이라는 뜻인데 파이썬에서도 마찬가지 의미로 사용한다. 따라서 from mod1 import *는 mod1.py의 모든 함수를 불러서 사용하겠다는 뜻이다.\n",
    "\n",
    "mod1.py 파일에는 함수가 2개밖에 없기 때문에 위 2가지 방법은 동일하게 적용된다.\n"
   ]
  },
  {
   "cell_type": "markdown",
   "id": "d7f4e592",
   "metadata": {},
   "source": [
    "## if __name__ == \"__main__\": 의 의미\n",
    "\n",
    "이번에는 mod1.py 파일을 다음과 같이 변경해 보자.\n",
    "\n",
    "```python\n",
    "# mod1.py\n",
    "def add(a, b):\n",
    "    return a + b\n",
    "def sub(a, b):\n",
    "    return a - b\n",
    "\n",
    "print(add(10,100))\n",
    "print(sub(50,5))\n",
    "```\n",
    "\n",
    "`add(10, 100)`와 `sub(50, 5)`의 결과를 출력하는 다음 문장을 추가하였다.\n",
    "\n",
    "```python\n",
    "print(add(10, 100))\n",
    "print(sub(50, 5))\n",
    "```\n",
    "\n",
    "위에서 작성한 mod1.py 파일은 다음과 같이 실행할 수 있다.\n",
    "\n",
    "```python\n",
    "# python3 입력없이 바로 해당 파일이 있는 터미널에서 다음을 입력하면 된다.\n",
    "python3 mod1.py \n",
    "```"
   ]
  },
  {
   "cell_type": "markdown",
   "id": "cbd9a15e",
   "metadata": {},
   "source": [
    "> cf) ctrl+d : 해당 프로그램 종료  ctrl+c 해당 프로그램 중단"
   ]
  },
  {
   "cell_type": "markdown",
   "id": "71b26e08",
   "metadata": {},
   "source": [
    "mod1.py 파일의 add와 sub 함수를 사용하기 위해 mod1 모듈을 import할 때 문제가 생긴다.\n",
    "`import mod1`을 수행하는 순간 mod1.py가 실행이 되어 결괏값을 출력한다.\n",
    "\n",
    "이 경우에 대비해서  mod1.py 파일을 다음처럼 변경해야 한다.\n",
    "```python\n",
    "# mod1.py \n",
    "def add(a, b): \n",
    "    return a+b\n",
    "\n",
    "def sub(a, b): \n",
    "    return a-b\n",
    "\n",
    "if __name__ == \"__main__\":\n",
    "    print(add(10, 100))\n",
    "    print(sub(50, 5))\n",
    "```\n",
    "\n",
    "`if __name__ == \"__main__\"`을 사용하면 `>>>python mod1.py`처럼 직접 이 파일을 실행했을 때는`__name__ == \"__main__\"`이 참이 되어 if문 다음 문장이 수행된다. 반대로 대화형 인터프리터나 다른 파일에서 이 모듈을 불러서 사용할 때는 `__name__ == \"__main__\"`이 거짓이 되어 if문 다음 문장이 수행되지 않는다.\n",
    "\n"
   ]
  },
  {
   "cell_type": "markdown",
   "id": "282ca0a4",
   "metadata": {},
   "source": [
    "위와 같이 수정한 후 \"import mod1\"를 입력해서 실행해보면 아무런 결과값이 출력되지 않음을 알 수 있다.\n",
    "\n",
    "```python\n",
    ">>> import mod1\n",
    ">>>\n",
    "```"
   ]
  },
  {
   "cell_type": "markdown",
   "id": "ee037a3b",
   "metadata": {},
   "source": [
    "`__name__` 변수란?\n",
    "\n",
    "파이썬의 `__name__`변수는 파이썬이 내부적으로 사용하는 특별한 변수 이름이다. 만약 `>>> python mod1.py`처럼 직접 mod1.py 파일을 실행할 경우 mod1.py의 `__name__` 변수에는 `__main__` 값이 저장된다. 하지만 파이썬 셸이나 다른 파이썬 모듈에서 mod1을 import 할 경우에는 mod1.py의 `__name__` 변수에는 mod1.py의 모듈 이름 값 mod1이 저장된다.\n",
    "\n",
    "```python\n",
    ">>> import mod1\n",
    ">>> mod1.__name__\n",
    "'mod1'\n",
    "```"
   ]
  },
  {
   "cell_type": "markdown",
   "id": "42d86907",
   "metadata": {},
   "source": [
    "## 클래스나 변수 등을 포함한 모듈\n",
    "\n",
    "지금까지 살펴본 모듈은 함수만 포함했지만 클래스나 변수 등을 포함할 수도 있다. 다음 프로그램을 작성해 보자.\n",
    "\n",
    "```python\n",
    "# mod2.py \n",
    "PI = 3.141592\n",
    "\n",
    "class Math: \n",
    "    def solv(self, r): \n",
    "        return PI * (r ** 2) \n",
    "\n",
    "def add(a, b): \n",
    "    return a+b \n",
    "```\n",
    "이 파일은 원의 넓이를 계산하는 Math 클래스와 두 값을 더하는 add 함수 그리고 원주율 값에 해당되는 PI 변수처럼 클래스, 함수, 변수 등을 모두 포함하고 있다.\n",
    "\n",
    "파일 이름을 mod2.py로 하고 (본인이 원하는)디렉터리에 저장하자. 대화형 인터프리터를 열고 다음과 같이 따라 해 보자.\n",
    "\n",
    "```python\n",
    "cd Learning_python # mod2.py가 있는 디렉터리로 이동한다.\n",
    "python3 # python3 실행한다. (본인의 버전에 맞게 실행한다)\n",
    ">>> import mod2\n",
    ">>> print(mod2.PI)\n",
    "3.141592\n",
    "```\n",
    "\n",
    "위 예에서 볼 수 있듯이 `mod2.PI`처럼 입력해서 mod2.py 파일에 있는 PI 변수 값을 사용할 수 있다.\n",
    "\n",
    "```python\n",
    ">>> a = mod2.Math()\n",
    ">>> print(a.solv(2))\n",
    "12.566368\n",
    "\n",
    "```\n",
    "위 예는 mod2.py에 있는 Math 클래스를 사용하는 방법을 보여 준다. 위 예처럼 모듈 안에 있는 클래스를 사용하려면 \".\"(도트 연산자)로 클래스 이름 앞에 모듈 이름을 먼저 입력해야 한다.\n",
    "\n",
    "```python\n",
    ">>> print(mod2.add(mod2.PI, 4.4))\n",
    "7.541592\n",
    "```\n",
    "mod2.py에 있는 add 함수 역시 당연히 사용할 수 있다."
   ]
  },
  {
   "cell_type": "markdown",
   "id": "23b9b887",
   "metadata": {},
   "source": [
    "## 다른 파일에서 모듈 불러오기\n",
    "\n",
    "지금까지는 만들어 놓은 모듈 파일을 사용하기 위해 대화형 인터프리터만 사용했다. 이번에는 다른 파이썬 파일에서 이전에 만들어 놓은 모듈을 불러와서 사용하는 방법에 대해 알아보자. 여기에서는 조금 전에 만든 모듈인 mod2.py 파일을 다른 파이썬 파일에서 불러와 사용할 것이다.\n",
    "\n",
    "먼저 에디터로 modtest.py 파일을 다음과 같이 작성한다.\n",
    "\n",
    "```python\n",
    "# modtest.py\n",
    "import mod2\n",
    "result = mod2.add(3, 4)\n",
    "print(result)\n",
    "```\n",
    "\n",
    "위에서 볼 수 있듯이 다른 파이썬 파일에서도 import mod2로 mod2 모듈을 불러와서 사용할 수 있다. 대화형 인터프리터에서 한 것과 마찬가지 방법이다. **위 예제가 정상적으로 실행되기 위해서는 modtest.py 파일과 mod2.py 파일이 동일한 디렉터리(`C:\\doit`)에 있어야 한다.**"
   ]
  },
  {
   "cell_type": "markdown",
   "id": "07ebb1d0",
   "metadata": {},
   "source": [
    "# 05-3 패키지"
   ]
  },
  {
   "cell_type": "markdown",
   "id": "e03c9823",
   "metadata": {},
   "source": [
    "패키지(Packages)는 도트(.)를 사용하여 파이썬 모듈을 계층적(디렉터리 구조)으로 관리할 수 있게 해준다. 예를 들어 모듈 이름이 A.B인 경우에 A는 패키지 이름이 되고 B는 A 패키지의 B모듈이 된다.\n",
    "\n",
    "> ※ 파이썬에서 모듈은 하나의 .py 파일이다.\n",
    "\n",
    "ex) 가상의 game 패키지\n"
   ]
  },
  {
   "cell_type": "markdown",
   "id": "7d88d230",
   "metadata": {},
   "source": [
    "```\n",
    "game/\n",
    "    __init__.py\n",
    "    sound/\n",
    "        __init__.py\n",
    "        echo.py\n",
    "        wav.py\n",
    "    graphic/\n",
    "        __init__.py\n",
    "        screen.py\n",
    "        render.py\n",
    "    play/\n",
    "        __init__.py\n",
    "        run.py\n",
    "        test.py\n",
    "```"
   ]
  },
  {
   "cell_type": "markdown",
   "id": "53ddf1d6",
   "metadata": {},
   "source": [
    "game, sound, graphic, play는 디렉터리이고 확장자가 .py인 파일은 파이썬 모듈이다. game 디렉터리가 이 패키지의 루트 디렉터리이고 sound, graphic, play는 서브 디렉터리이다.\n",
    "\n",
    "> `__init__.py` 파일은 조금 특이한 용도로 사용하는데 뒤에서 자세하게 다룰 것이다.\n",
    "\n",
    "\n",
    "**<장점>**\n",
    "\n",
    "- 간단한 파이썬 프로그램이 아니라면 이렇게 패키지 구조로 파이썬 프로그램을 만드는 것이 공동 작업이나 유지 보수 등 여러 면에서 유리하다. \n",
    "- 또한 패키지 구조로 모듈을 만들면 다른 모듈과 이름이 겹치더라도 더 안전하게 사용할 수 있다.\n"
   ]
  },
  {
   "cell_type": "markdown",
   "id": "62a5b217",
   "metadata": {},
   "source": [
    "### 패키지 기본 구성 요소 준비하기\n",
    "\n",
    "1. `Learning_Python` 디렉터리 밑에 game 및 기타 서브 디렉터리를 생성하고 .py 파일들을 다음과 같이 만들어 보자(만약 `Learning_Python` 디렉터리가 없다면 먼저 생성하고 진행하자).\n",
    "\n",
    "```\n",
    "C:/doit/game/__init__.py\n",
    "C:/doit/game/sound/__init__.py\n",
    "C:/doit/game/sound/echo.py\n",
    "C:/doit/game/graphic/__init__.py\n",
    "C:/doit/game/graphic/render.py\n",
    "```\n",
    "\n",
    "2.  각 디렉터리에 `__init__.py` 파일을 만들어 놓기만 하고 내용은 일단 비워 둔다.\n",
    "\n",
    "3. echo.py 파일은 다음과 같이 만든다.\n",
    "\n",
    "```python\n",
    "# echo.py\n",
    "def echo_test():\n",
    "    print(\"echo\")\n",
    "```\n",
    "\n",
    "4. render.py 파일은 다음과 같이 만든다.\n",
    "\n",
    "```python\n",
    "# render.py\n",
    "def render_test():\n",
    "    print(\"render\")\n",
    "```\n",
    "\n",
    "5. 다음 예제를 수행하기 전에 우리가 만든 game 패키지를 참조할 수 있도록 명령 프롬프트 창에서 set 명령어로 `PYTHONPATH` 환경 변수에 `/Users/moonjunyong/Desktop/Coding/Learning_Python` 디렉터리를 추가한다. 그리고 파이썬 인터프리터(Interactive shell)를 실행한다.\n",
    "\n",
    "```\n",
    "moonjunyong@MacBookPro-2 Learning_Python % set PYTHONPATH=/Users/moonjunyong/Desktop/Coding/Learning_Python\n",
    "moonjunyong@MacBookPro-2 Learning_Python % python3\n",
    "Python 3.9.10 (main, Jan 15 2022, 11:40:53) \n",
    "[Clang 13.0.0 (clang-1300.0.29.3)] on darwin\n",
    "Type \"help\", \"copyright\", \"credits\" or \"license\" for more information.\n",
    ">>> \n",
    "```\n",
    "\n",
    "여기까지 준비가 되었다면 다음을 따라 해 보자.\n",
    "\n",
    "---\n",
    "\n",
    "> **중요공지**\n",
    "\n",
    "    아래의 실습은 반드시 명령 프롬프트에서 파이썬 인터프리터를 실행하여 진행해야 한다. \n",
    "    많은 분들이이 IDLE 셸 또는 비주얼 스튜디오의 파이썬 셸에서 아래의 예제들을 실행하여 오류를 만난다.\n",
    "\n",
    "---"
   ]
  },
  {
   "cell_type": "markdown",
   "id": "a8ea7eee",
   "metadata": {},
   "source": [
    "## 패키지 안의 함수 실행하기\n",
    "\n",
    "자, 이제 패키지를 사용하여 echo.py 파일의 echo_test 함수를 실행해 보자. 패키지 안의 함수를 실행하는 방법은 다음 3가지가 있다.\n",
    "\n",
    "다음 예제는 import 예제이므로 하나의 예제를 실행하고 나서 다음 예제를 실행할 때에는 반드시 인터프리터를 종료하고 다시 실행해야 한다. 인터프리터를 다시 시작하지 않을 경우 이전에 import한 것들이 메모리에 남아 있어 엉뚱한 결과가 나올 수 있다(윈도우의 경우 인터프리터 종료는 `Ctrl+Z`).\n",
    "\n",
    "> echo 모듈은 echo.py 파일이다.\n",
    "\n",
    "준비: import 하기전에 명령 프롬프트에서 \"python3\" 입력해서 python(\">>>\") 으로 접속해야한다.\n",
    "\n",
    "---\n",
    "\n",
    "첫 번째는 echo 모듈을 import하여 실행하는 방법으로, 다음과 같이 실행한다.\n",
    "```python\n",
    ">>> import game.sound.echo\n",
    ">>> game.sound.echo.echo_test()\n",
    "echo\n",
    "```\n",
    "\n",
    "두 번째는 echo 모듈이 있는 디렉터리까지를 from ... import하여 실행하는 방법이다.\n",
    "```python\n",
    ">>> from game.sound import echo\n",
    ">>> echo.echo_test()\n",
    "echo\n",
    "```\n",
    "\n",
    "세 번째는 echo 모듈의 echo_test 함수를 직접 import하여 실행하는 방법이다.\n",
    "```python\n",
    ">>> from game.sound.echo import echo_test\n",
    ">>> echo_test()\n",
    "echo\n",
    "```\n",
    "\n",
    "---\n",
    "\n",
    "주의) 하지만 다음과 같이 echo_test 함수를 사용하는 것은 불가능하다.\n",
    "- import game을 수행하면 game 디렉터리의 `__init__.py`에 정의한 것만 참조할 수 있다.\n",
    "- 도트 연산자(.)를 사용해서 import a.b.c처럼 import할 때 가장 마지막 항목인 c는 반드시 모듈 또는 패키지여야만 한다.\n",
    "\n"
   ]
  },
  {
   "cell_type": "markdown",
   "id": "f34a033b",
   "metadata": {},
   "source": [
    "## __init__.py의 용도\n",
    "\n",
    "---\n",
    "`__init__.py` 파일은 해당 디렉터리가 패키지의 일부임을 알려주는 역할을 한다. 만약 game, sound, graphic 등 패키지에 포함된 디렉터리에 `__init__.py` 파일이 없다면 패키지로 인식되지 않는다.\n",
    "\n",
    "> python3.3 버전부터는 __init__.py 파일이 없어도 패키지로 인식한다(PEP 420). 하지만 하위 버전 호환을 위해 __init__.py 파일을 생성하는 것이 안전한 방법이다.\n"
   ]
  },
  {
   "cell_type": "markdown",
   "id": "0a962614",
   "metadata": {},
   "source": [
    "다음을 따라 해 보자.\n",
    "\n",
    "```python\n",
    ">>> from game.sound import *\n",
    ">>> echo.echo_test()\n",
    "Traceback (most recent call last):\n",
    "    File \"<stdin>\", line 1, in <module>\n",
    "NameError: name 'echo' is not defined\n",
    "```\n",
    "\n",
    "이렇게 특정 디렉터리의 모듈을 `*`를 사용하여 import할 때에는 다음과 같이 해당 디렉터리의 `__init__.py` 파일에 `__all__` 변수를 설정하고 import할 수 있는 모듈을 정의해 주어야 한다.\n",
    "\n",
    "```python\n",
    "# /game/sound/__init__.py\n",
    "__all__ = ['echo']\n",
    "```\n",
    "\n",
    "여기에서 `__all__`이 의미하는 것은 sound 디렉터리에서 `*` 기호를 사용하여 import할 경우 이곳에 정의된 echo 모듈만 import된다는 의미이다.\n",
    "\n",
    "> 착각하기 쉬운데 `from game.sound.echo import *` 는 `__all__`과 상관없이 무조건 import된다. 이렇게 `__all__`과 상관없이 무조건 import되는 경우는 `from a.b.c import *` 에서 from의 마지막 항목인 c가 모듈인 경우이다.\n",
    "\n",
    "위와 같이 `__init__.py` 파일을 변경한 후 위 예제를 수행하면 원하던 결과가 출력되는 것을 확인할 수 있다.\n",
    "\n",
    "```python\n",
    ">>> from game.sound import *\n",
    ">>> echo.echo_test()\n",
    "echo\n",
    "```"
   ]
  },
  {
   "cell_type": "markdown",
   "id": "1e70b741",
   "metadata": {},
   "source": [
    "## relative 패키지\n",
    "---\n",
    "만약 graphic 디렉터리의 render.py 모듈이 sound 디렉터리의 echo.py 모듈을 사용하고 싶다면 어떻게 해야 할까? 다음과 같이 render.py를 수정하면 가능하다.\n",
    "\n",
    "```python\n",
    "# render.py\n",
    "from game.sound.echo import echo_test\n",
    "def render_test():\n",
    "    print(\"render\")\n",
    "    echo_test()\n",
    "```\n",
    "\n",
    "`from game.sound.echo import echo_test` 문장을 추가하여 echo_test 함수를 사용할 수 있도록 수정했다.\n",
    "\n",
    "이렇게 수정한 후 다음과 같이 수행해 보자.\n",
    "\n",
    "```python\n",
    ">>> from game.graphic.render import render_test\n",
    ">>> render_test()\n",
    "render\n",
    "echo\n",
    "```\n",
    "\n",
    "이상 없이 잘 수행된다.\n",
    "\n",
    "위 예제처럼 `from game.sound.echo import echo_test`를 입력해 **전체 경로**를 사용하여 import할 수도 있지만 다음과 같이 relative하게 import하는 것도 가능하다.\n",
    "\n",
    "```python\n",
    "# render.py\n",
    "from ..sound.echo import echo_test\n",
    "\n",
    "def render_test():\n",
    "    print(\"render\")\n",
    "    echo_test()\n",
    "```\n",
    "\n",
    "`from game.sound.echo import echo_test`가 `from ..sound.echo import echo_test`로 변경되었다. 여기에서 `..`은 render.py 파일의 부모 디렉터리를 의미한다. 따라서 render.py 파일의 부모 디렉터리는 `game`이므로 위와 같은 import가 가능한 것이다.\n",
    "\n",
    "> render.py 파일의 현재 디렉터리는 graphic이고 부모 디렉터리는 game이다.\n",
    "\n",
    "relative한 접근자에는 다음과 같은 것이 있다.\n",
    "- `..` - 부모 디렉터리\n",
    "- `.` - 현재 디렉터리"
   ]
  }
 ],
 "metadata": {
  "kernelspec": {
   "display_name": "Python 3",
   "language": "python",
   "name": "python3"
  },
  "language_info": {
   "codemirror_mode": {
    "name": "ipython",
    "version": 3
   },
   "file_extension": ".py",
   "mimetype": "text/x-python",
   "name": "python",
   "nbconvert_exporter": "python",
   "pygments_lexer": "ipython3",
   "version": "3.8.8"
  }
 },
 "nbformat": 4,
 "nbformat_minor": 5
}
