{
 "cells": [
  {
   "cell_type": "markdown",
   "id": "390d8771",
   "metadata": {},
   "source": [
    "# \"CH04. 프로그램의 입력과 출력은 어떻게 해야할까?\"\n",
    ">함수, 사용자 입력과 출력, 파일 읽고 쓰기\n"
   ]
  },
  {
   "cell_type": "markdown",
   "id": "47ac30d8",
   "metadata": {},
   "source": [
    "# 04-1 함수"
   ]
  },
  {
   "cell_type": "markdown",
   "id": "101ae3c1",
   "metadata": {},
   "source": [
    "##  파이썬 함수의 구조"
   ]
  },
  {
   "cell_type": "markdown",
   "id": "851f726e",
   "metadata": {},
   "source": [
    "파이썬 함수의 구조는 다음과 같다.\n",
    "```\n",
    "def 함수명(매개변수):\n",
    "    <수행할 문장1>\n",
    "    <수행할 문장2>\n",
    "    ...\n",
    "```\n",
    "def는 함수를 만들 때 사용하는 예약어이며, 함수 이름은 함수를 만드는 사람이 임의로 만들 수 있다.\n",
    "\n",
    "함수 이름 뒤 괄호 안의 매개변수는 이 함수에 입력으로 전달되는 값을 받는 변수이다. 이렇게 함수를 정의한 다음 if, while, for문 등과 마찬가지로 함수에서 수행할 문장을 입력한다.\n",
    "\n",
    "간단하지만, 많은 것을 설명해주는 다음 예를 보자.\n",
    "```\n",
    "def add(a, b): \n",
    "    return a + b\n",
    "```\n",
    "\n",
    "위 함수는 다음과 같이 풀이된다.\n",
    "> \"이 함수의 이름(함수 이름)은 add이고 입력으로 2개의 값을 받으며 결괏값은 2개의 입력값을 더한 값이다.\""
   ]
  },
  {
   "cell_type": "markdown",
   "id": "7730c080",
   "metadata": {},
   "source": [
    "##  매개변수와 인수"
   ]
  },
  {
   "cell_type": "markdown",
   "id": "8e331960",
   "metadata": {},
   "source": [
    "매개변수(parameter)와 인수(arguments)는 혼용해서 사용되는 헷갈리는 용어이므로 잘 기억해 두자. **매개변수**는 함수에 입력으로 전달된 값을 받는 변수를 의미하고 **인수**는 함수를 호출할 때 전달하는 입력값을 의미한다."
   ]
  },
  {
   "cell_type": "code",
   "execution_count": 2,
   "id": "97d5a3af",
   "metadata": {},
   "outputs": [
    {
     "name": "stdout",
     "output_type": "stream",
     "text": [
      "7\n"
     ]
    }
   ],
   "source": [
    "def add(a, b):  # a, b는 매개변수\n",
    "    return a + b\n",
    "\n",
    "print(add(3, 4))  # 3, 4는 인수"
   ]
  },
  {
   "cell_type": "markdown",
   "id": "da7ded87",
   "metadata": {},
   "source": [
    "## 입력값과 결과값에 따른 함수의 형태"
   ]
  },
  {
   "cell_type": "markdown",
   "id": "b6e97f97",
   "metadata": {},
   "source": [
    "### 일반적인 함수\n",
    "\n",
    "```\n",
    "def 함수이름(매개변수):\n",
    "    <수행할 문장>\n",
    "    ...\n",
    "    return 결과값\n",
    "```"
   ]
  },
  {
   "cell_type": "markdown",
   "id": "e47a6d77",
   "metadata": {},
   "source": [
    "### 입력값이 없는 함수\n",
    "\n",
    "```\n",
    ">>> def say(): \n",
    "...     return 'Hi' \n",
    "... \n",
    ">>> a = say()\n",
    ">>> print(a)\n",
    "Hi\n",
    "```"
   ]
  },
  {
   "cell_type": "markdown",
   "id": "59ea7a53",
   "metadata": {},
   "source": [
    "위 함수를 쓰기 위해서는 `say()`처럼 괄호 안에 아무 값도 넣지 않아야 한다.\n",
    "이 함수는 입력값은 없지만 결괏값으로 Hi라는 문자열을 돌려준다. \n",
    "`a = say()`처럼 작성하면 a에 Hi 문자열이 대입되는 것이다."
   ]
  },
  {
   "cell_type": "markdown",
   "id": "a4654f0d",
   "metadata": {},
   "source": [
    "### 결과값이 없는 함수\n",
    "\n",
    "```\n",
    ">>> def add(a, b): \n",
    "...     print(\"%d, %d의 합은 %d입니다.\" % (a, b, a+b))\n",
    "... \n",
    ">>> add(3, 4)\n",
    "3, 4의 합은 7입니다.\n",
    "```"
   ]
  },
  {
   "cell_type": "markdown",
   "id": "3952763c",
   "metadata": {},
   "source": [
    "즉 결괏값이 없는 함수는 다음과 같이 사용한다.\n",
    "\n",
    "-> 함수이름(입력인수1, 입력인수2, ...)"
   ]
  },
  {
   "cell_type": "markdown",
   "id": "0a92a237",
   "metadata": {},
   "source": [
    "## 매개변수 지정하여 호출하기"
   ]
  },
  {
   "cell_type": "markdown",
   "id": "ab30430e",
   "metadata": {},
   "source": [
    "함수를 호출할 때 매개변수를 지정할 수도 있다. 다음 예를 보자.\n",
    "\n",
    "```\n",
    ">>> def add(a, b):\n",
    "...     return a+b\n",
    "... \n",
    "```\n",
    "앞에서 알아본 add 함수이다. 이 함수를 다음과 같이 매개변수를 지정하여 사용할 수 있다.\n",
    "```\n",
    ">>> result = add(a=3, b=7)  # a에 3, b에 7을 전달\n",
    ">>> print(result)\n",
    "10\n",
    "```\n",
    "매개변수를 지정하면 다음과 같이 순서에 상관없이 사용할 수 있다는 장점이 있다.\n",
    "```\n",
    ">>> result = add(b=5, a=3)  # b에 5, a에 3을 전달\n",
    ">>> print(result)\n",
    "8\n",
    "\n",
    "```"
   ]
  },
  {
   "cell_type": "markdown",
   "id": "a0fa720e",
   "metadata": {},
   "source": [
    "## 입력값이 몇 개가 될지 모를 때"
   ]
  },
  {
   "cell_type": "markdown",
   "id": "f381d69b",
   "metadata": {},
   "source": [
    "입력값이 여러 개일 때 그 입력값을 모두 더해 주는 함수를 생각해 보자.\n",
    "하지만 몇 개가 입력될지 모를 때는 어떻게 해야 할까? 아마도 난감할 것이다. 파이썬은 이런 문제를 해결하기 위해 다음과 같은 방법을 제공한다.\n",
    "\n",
    "```\n",
    "def 함수이름(*매개변수): \n",
    "    <수행할 문장>\n",
    "    ...\n",
    "```"
   ]
  },
  {
   "cell_type": "markdown",
   "id": "5e879b21",
   "metadata": {},
   "source": [
    "일반적으로 볼 수 있는 함수 형태에서 괄호 안의 매개변수 부분이 `*매개변수`로 바뀌었다."
   ]
  },
  {
   "cell_type": "markdown",
   "id": "fc9ae177",
   "metadata": {},
   "source": [
    "### 여러 개의 입력값을 받는 함수 만들기\n",
    "\n",
    "다음 예를 통해 여러 개의 입력값을 모두 더하는 함수를 직접 만들어 보자. 예를 들어 `add_many(1, 2)`이면 3을, `add_many(1,2,3`이면 6을, `add_many(1, 2, 3, 4, 5, 6, 7, 8, 9, 10)`이면 55를 돌려주는 함수를 만들어 보자."
   ]
  },
  {
   "cell_type": "code",
   "execution_count": 10,
   "id": "4fa1caa7",
   "metadata": {},
   "outputs": [],
   "source": [
    "def add_many(*args):\n",
    "    result = 0\n",
    "    for i in args:\n",
    "        result = result + i\n",
    "    return result\n",
    "# 여기에서 *args는 임의로 정한 변수 이름이다. *pey, *python처럼 아무 이름이나 써도 된다."
   ]
  },
  {
   "cell_type": "code",
   "execution_count": 9,
   "id": "1751cd96",
   "metadata": {},
   "outputs": [
    {
     "name": "stdout",
     "output_type": "stream",
     "text": [
      "6\n"
     ]
    }
   ],
   "source": [
    "result = add_many(1,2,3)\n",
    "print(result)"
   ]
  },
  {
   "cell_type": "code",
   "execution_count": 11,
   "id": "de58b6f8",
   "metadata": {},
   "outputs": [
    {
     "name": "stdout",
     "output_type": "stream",
     "text": [
      "55\n"
     ]
    }
   ],
   "source": [
    "result = add_many(1,2,3,4,5,6,7,8,9,10)\n",
    "print(result)"
   ]
  },
  {
   "cell_type": "markdown",
   "id": "7325b3fc",
   "metadata": {},
   "source": [
    "`add_many(1,2,3)`으로 함수를 호출하면 6을 돌려주고, `add_many(1, 2, 3, 4, 5, 6, 7, 8, 9,10)`을 대입하면 55를 돌려준다.\n",
    "\n",
    "여러 개의 입력을 처리할 때 `def add_many(*args)`처럼 함수의 매개변수로 `*args`만 사용할 수 있는 것은 아니다.\n",
    "\n",
    "다음 예를 보자."
   ]
  },
  {
   "cell_type": "code",
   "execution_count": 38,
   "id": "bcc49d0e",
   "metadata": {},
   "outputs": [],
   "source": [
    "def add_mul(choice, *args): \n",
    "    if choice == \"add\": \n",
    "        result = 0\n",
    "        for i in args:\n",
    "            result = result + i\n",
    "    elif choice == \"mul\":\n",
    "        result = 1\n",
    "        for i in args:\n",
    "            result = result * i\n",
    "        return result"
   ]
  },
  {
   "cell_type": "markdown",
   "id": "95ed1a29",
   "metadata": {},
   "source": [
    "add_mul 함수는 여러 개의 입력값을 의미하는 `*args`매개변수 앞에 choice 매개변수가 추가되어 있다.\n",
    "\n",
    "이 함수는 다음과 같이 사용할 수 있다."
   ]
  },
  {
   "cell_type": "code",
   "execution_count": 39,
   "id": "75779eb5",
   "metadata": {},
   "outputs": [
    {
     "name": "stdout",
     "output_type": "stream",
     "text": [
      "None\n",
      "120\n"
     ]
    }
   ],
   "source": [
    "result = add_mul('add', 1,2,3,4,5)\n",
    "print(result) # result : 15\n",
    "result = add_mul('mul', 1,2,3,4,5)\n",
    "print(result) # result : 120"
   ]
  },
  {
   "cell_type": "markdown",
   "id": "9c43cecd",
   "metadata": {},
   "source": [
    "매개변수 choice에 'add'가 입력된 경우 `*args`에 입력되는 모든 값을 더해서 15를 돌려주고, 'mul'이 입력된 경우 `*args`에 입력되는 모든 값을 곱해서 120을 돌려준다."
   ]
  },
  {
   "cell_type": "markdown",
   "id": "51448eb8",
   "metadata": {},
   "source": [
    "## 함수의 결과값은 언제나 하나이다"
   ]
  },
  {
   "cell_type": "code",
   "execution_count": 34,
   "id": "0497c693",
   "metadata": {},
   "outputs": [],
   "source": [
    "def add_and_mul(a,b): \n",
    "    return a+b, a*b"
   ]
  },
  {
   "cell_type": "code",
   "execution_count": 35,
   "id": "78c8e246",
   "metadata": {},
   "outputs": [],
   "source": [
    "result = add_and_mul(3,4)"
   ]
  },
  {
   "cell_type": "code",
   "execution_count": 36,
   "id": "e94b7475",
   "metadata": {},
   "outputs": [
    {
     "name": "stdout",
     "output_type": "stream",
     "text": [
      "(7, 12)\n"
     ]
    }
   ],
   "source": [
    "print(result)"
   ]
  },
  {
   "cell_type": "markdown",
   "id": "0b289d46",
   "metadata": {},
   "source": [
    "오류는 발생하지 않는다. 그 이유는 함수의 결괏값은 2개가 아니라 언제나 1개라는 데 있다.\n",
    "\n",
    "add_and_mul 함수의 결괏값 `a+b`와 `a*b`는 튜플값 하나인 `(a+b, a*b)`로 돌려준다."
   ]
  },
  {
   "cell_type": "markdown",
   "id": "390e95b3",
   "metadata": {},
   "source": [
    "## 매개변수에 초깃값 미리 설정하기\n",
    "\n",
    "이번에는 조금 다른 형태로 함수의 인수를 전달하는 방법에 대해서 알아보자. 매개변수에 초깃값을 미리 설정해 주는 경우이다."
   ]
  },
  {
   "cell_type": "code",
   "execution_count": 41,
   "id": "70fc2966",
   "metadata": {},
   "outputs": [],
   "source": [
    "def say_myself(name, old, man=True): \n",
    "    print(\"나의 이름은 %s 입니다.\" % name) \n",
    "    print(\"나이는 %d살입니다.\" % old) \n",
    "    if man: \n",
    "        print(\"남자입니다.\")\n",
    "    else: \n",
    "        print(\"여자입니다.\")"
   ]
  },
  {
   "cell_type": "markdown",
   "id": "c754b3e4",
   "metadata": {},
   "source": [
    "`man=True`처럼 매개변수에 미리 값을 넣어 준 것이다. 이것이 바로 함수의 매개변수 초깃값을 설정하는 방법이다. 함수의 매개변수에 들어갈 값이 항상 변하는 것이 아닐 경우에는 이렇게 함수의 초깃값을 미리 설정해 두면 유용하다."
   ]
  },
  {
   "cell_type": "code",
   "execution_count": 44,
   "id": "9cbb2208",
   "metadata": {},
   "outputs": [
    {
     "name": "stdout",
     "output_type": "stream",
     "text": [
      "나의 이름은 박응용 입니다.\n",
      "나이는 27살입니다.\n",
      "남자입니다.\n",
      "나의 이름은 박응용 입니다.\n",
      "나이는 27살입니다.\n",
      "남자입니다.\n"
     ]
    }
   ],
   "source": [
    "say_myself(\"박응용\", 27)\n",
    "say_myself(\"박응용\", 27, True)\n",
    "\n",
    "# 입력값으로 \"박응용\", 27처럼 2개를 주면 name에는 \"박응용\"이 old에는 27이 대입된다. \n",
    "# 그리고 man이라는 변수에는 입력값을 주지 않았지만 초깃값 True를 갖게 된다.\n",
    "# 따라서 위 예에서 함수를 사용한 2가지 방법은 모두 동일한 결과를 출력한다."
   ]
  },
  {
   "cell_type": "markdown",
   "id": "291bd6b6",
   "metadata": {},
   "source": [
    "함수의 매개변수에 초깃값을 설정할 때 주의할 것이 하나 있다. \n",
    "\n",
    "초깃값을 설정한 매개변수의 위치이다.  매개변수의 위치를 바꿀 경우 오류가 발생한다."
   ]
  },
  {
   "cell_type": "markdown",
   "id": "215c9bbb",
   "metadata": {},
   "source": [
    "## 함수 안에서 선언한 변수의 효력 범위"
   ]
  },
  {
   "cell_type": "code",
   "execution_count": 45,
   "id": "ec7aeb8b",
   "metadata": {},
   "outputs": [
    {
     "name": "stdout",
     "output_type": "stream",
     "text": [
      "1\n"
     ]
    }
   ],
   "source": [
    "# vartest.py\n",
    "a = 1\n",
    "def vartest(a):\n",
    "    a = a +1\n",
    "\n",
    "vartest(a)\n",
    "print(a)"
   ]
  },
  {
   "cell_type": "markdown",
   "id": "9ad1fa54",
   "metadata": {},
   "source": [
    "과연 결괏값은 무엇이 나올까?\n",
    "\n",
    "당연히 vartest 함수에서 매개변수 a의 값에 1을 더했으니까 2가 출력될 것 같지만 프로그램 소스를 작성해서 실행해 보면 결괏값은 1이 나온다. \n",
    "\n",
    "그 이유는 함수 안에서 새로 만든 매개변수는 함수 안에서만 사용하는 **\"함수만의 변수\"**이기 때문이다.\n",
    "\n",
    "`def vartest(a)`에서 입력값을 전달받는 **매개변수 a는 함수 안에서만 사용하는 변수이지 함수 밖의 변수 a가 아니라는 뜻이다.**\n",
    "\n",
    "<span style=\"color: red\">함수 안에서 선언한 매개변수는 함수 안에서만 사용될 뿐 함수 밖에서는 사용되지 않는다. 이것을 이해하는 것은 매우 중요하다.</span>"
   ]
  },
  {
   "cell_type": "markdown",
   "id": "0853226f",
   "metadata": {},
   "source": [
    "## 함수 안에서 함수 밖의 변수를 변경하는 방법\n",
    "\n",
    "그렇다면 vartest라는 함수를 사용해서 함수 밖의 변수 a를 1만큼 증가시킬 수 있는 방법은 없을까? 이 질문에는 2가지 해결 방법이 있다.\n"
   ]
  },
  {
   "cell_type": "markdown",
   "id": "ff4ace5c",
   "metadata": {},
   "source": [
    "### 1. return 사용하기"
   ]
  },
  {
   "cell_type": "code",
   "execution_count": 47,
   "id": "791dc00f",
   "metadata": {},
   "outputs": [
    {
     "name": "stdout",
     "output_type": "stream",
     "text": [
      "2\n"
     ]
    }
   ],
   "source": [
    "# vartest_return.py\n",
    "a = 1 \n",
    "def vartest(a): \n",
    "    a = a +1 \n",
    "    return a\n",
    "\n",
    "a = vartest(a) \n",
    "print(a)\n",
    "# 첫 번째 방법은 return을 사용하는 방법이다. \n",
    "# vartest 함수는 입력으로 들어온 값에 1을 더한값을 돌려준다. \n",
    "# 물론 vartest 함수 안의 a 매개변수는 함수 밖의 a와는 다른 것이다."
   ]
  },
  {
   "cell_type": "markdown",
   "id": "90bfd4d8",
   "metadata": {},
   "source": [
    "### 2. global 명령어 사용하기"
   ]
  },
  {
   "cell_type": "code",
   "execution_count": 50,
   "id": "e33ff172",
   "metadata": {},
   "outputs": [
    {
     "name": "stdout",
     "output_type": "stream",
     "text": [
      "2\n"
     ]
    }
   ],
   "source": [
    "# vartest_global.py\n",
    "a = 1 \n",
    "def vartest(): \n",
    "    global a \n",
    "    a = a+1\n",
    "\n",
    "vartest() \n",
    "print(a)\n",
    "\n",
    "# 두 번째 방법은 global 명령어를 사용하는 방법이다. \n",
    "# 위 예에서 볼 수 있듯이 vartest 함수 안의 global a 문장은 함수 안에서 함수 밖의 a 변수를 직접 사용하겠다는 뜻이다.\n",
    "# 하지만 프로그래밍을 할 때 global 명령어는 사용하지 않는 것이 좋다. \n",
    "# 왜냐하면 함수는 독립적으로 존재하는 것이 좋기 때문이다. \n",
    "# 그러므로 가급적 global 명령어를 사용하는 이 방법은 피하고 첫 번째 방법을 사용하기를 권한다."
   ]
  },
  {
   "cell_type": "markdown",
   "id": "534edaba",
   "metadata": {},
   "source": [
    "## lambda\n",
    "\n",
    "lambda는 함수를 생성할 때 사용하는 예약어로 def와 동일한 역할을 한다. \n",
    "\n",
    "보통 함수를 한줄로 간결하게 만들 때 사용한다. 우리말로는 \"람다\"라고 읽고 def를 사용해야 할 정도로 복잡하지 않거나 def를 사용할 수 없는 곳에 주로 쓰인다.\n",
    "\n",
    "사용법은 다음과 같다.\n",
    "\n",
    "> lambda 매개변수1, 매개변수2, ... : 매개변수를 이용한 표현식\n",
    "\n",
    "`lambda a, b: a+b.`\n",
    "\n",
    "> ※ lambda 예약어로 만든 함수는 return 명령어가 없어도 결괏값을 돌려준다."
   ]
  },
  {
   "cell_type": "code",
   "execution_count": 51,
   "id": "46006f52",
   "metadata": {},
   "outputs": [
    {
     "name": "stdout",
     "output_type": "stream",
     "text": [
      "7\n"
     ]
    }
   ],
   "source": [
    "add = lambda a, b: a+b\n",
    "result = add(3, 4)\n",
    "print(result)"
   ]
  },
  {
   "cell_type": "markdown",
   "id": "69298d8f",
   "metadata": {},
   "source": [
    "add는 두 개의 인수를 받아 서로 더한 값을 돌려주는 lambda 함수이다. 위 예제는 def를 사용한 다음 함수와 하는 일이 완전히 동일하다."
   ]
  },
  {
   "cell_type": "code",
   "execution_count": 56,
   "id": "b9ba6e76",
   "metadata": {},
   "outputs": [
    {
     "name": "stdout",
     "output_type": "stream",
     "text": [
      "7\n"
     ]
    }
   ],
   "source": [
    "def add(a, b):\n",
    "    return a+b\n",
    "\n",
    "result = add(3, 4)\n",
    "print(result)"
   ]
  },
  {
   "cell_type": "markdown",
   "id": "11426c87",
   "metadata": {},
   "source": [
    "# 04-2 사용자 입력과 출력\n",
    "\n",
    "우리들이 사용하는 대부분의 완성된 프로그램은 사용자 입력에 따라 그에 맞는 출력을 내보낸다. 대표적인 예로 게시판에 글을 작성한 후 \"확인\" 버튼을 눌러야만(입력) 우리가 작성한 글이 게시판에 올라가는(출력) 것을 들 수 있다.\n",
    "\n",
    "우리는 이미 함수 부분에서 입력과 출력이 어떤 의미를 가지는지 알아보았다. 지금부터는 좀 더 다양하게 사용자의 입력을 받는 방법과 출력하는 방법을 알아보자."
   ]
  },
  {
   "cell_type": "code",
   "execution_count": null,
   "id": "c578a9a8",
   "metadata": {},
   "outputs": [],
   "source": []
  }
 ],
 "metadata": {
  "kernelspec": {
   "display_name": "Python 3",
   "language": "python",
   "name": "python3"
  },
  "language_info": {
   "codemirror_mode": {
    "name": "ipython",
    "version": 3
   },
   "file_extension": ".py",
   "mimetype": "text/x-python",
   "name": "python",
   "nbconvert_exporter": "python",
   "pygments_lexer": "ipython3",
   "version": "3.8.8"
  }
 },
 "nbformat": 4,
 "nbformat_minor": 5
}
